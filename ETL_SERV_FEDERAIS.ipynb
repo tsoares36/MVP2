{
 "cells": [
  {
   "cell_type": "markdown",
   "metadata": {
    "application/vnd.databricks.v1+cell": {
     "cellMetadata": {
      "byteLimit": 2048000,
      "rowLimit": 10000
     },
     "inputWidgets": {},
     "nuid": "96816ed7-b08a-4ca3-abb9-f99880c3535d",
     "showTitle": false,
     "title": ""
    }
   },
   "source": [
    "\n",
    "## Overview\n",
    "\n",
    "Este notebook tem a função de transformar o arquivo de servidores públicos, extraída do Portal da Transparência do Governo Federal, em tabelas mais normalizadas, as quais possam ser armazenadas no formato PySpark e utilizadas quando necessário."
   ]
  },
  {
   "cell_type": "code",
   "execution_count": 0,
   "metadata": {
    "application/vnd.databricks.v1+cell": {
     "cellMetadata": {
      "byteLimit": 2048000,
      "rowLimit": 10000
     },
     "inputWidgets": {},
     "nuid": "6482be4c-f067-47c9-b0ac-35c938b94601",
     "showTitle": false,
     "title": ""
    }
   },
   "outputs": [],
   "source": [
    "# File location and type\n",
    "file_location = \"/FileStore/tables/202401_Cadastro.csv\"\n",
    "file_type = \"csv\"\n",
    "\n",
    "# CSV options\n",
    "infer_schema = \"true\"\n",
    "first_row_is_header = \"true\"\n",
    "delimiter = \";\"\n",
    "encode = 'latin1'\n",
    "\n",
    "# The applied options are for CSV files. For other file types, these will be ignored.\n",
    "df = spark.read.format(file_type) \\\n",
    "  .option(\"inferSchema\", infer_schema) \\\n",
    "  .option(\"header\", first_row_is_header) \\\n",
    "  .option(\"sep\", delimiter) \\\n",
    "  .option(\"encoding\", encode) \\\n",
    "  .load(file_location)\n",
    "\n",
    "# display(df)"
   ]
  },
  {
   "cell_type": "code",
   "execution_count": 0,
   "metadata": {
    "application/vnd.databricks.v1+cell": {
     "cellMetadata": {
      "byteLimit": 2048000,
      "rowLimit": 10000
     },
     "inputWidgets": {},
     "nuid": "f2394780-71f9-42f1-af82-cd3419100889",
     "showTitle": false,
     "title": ""
    }
   },
   "outputs": [],
   "source": [
    "# Separar tabelas de dados para evitar duplicações desnecessárias\n",
    "df_cad_servidores = df[[\"id_SERVIDOR_PORTAL\", \"NOME\", \"CPF\"]].drop_duplicates(subset=['id_SERVIDOR_PORTAL'])"
   ]
  },
  {
   "cell_type": "markdown",
   "metadata": {
    "application/vnd.databricks.v1+cell": {
     "cellMetadata": {
      "byteLimit": 2048000,
      "rowLimit": 10000
     },
     "inputWidgets": {},
     "nuid": "659443b4-22e9-4a89-a40a-201fc9575b0e",
     "showTitle": false,
     "title": ""
    }
   },
   "source": [
    "Cria tabela permanente de cadastro de servidores"
   ]
  },
  {
   "cell_type": "code",
   "execution_count": 0,
   "metadata": {
    "application/vnd.databricks.v1+cell": {
     "cellMetadata": {
      "byteLimit": 2048000,
      "rowLimit": 10000
     },
     "inputWidgets": {},
     "nuid": "353e982b-d2a7-4d90-adb3-3b727d585b92",
     "showTitle": false,
     "title": ""
    }
   },
   "outputs": [],
   "source": [
    "# criar tabela de servidores\n",
    "permanent_table_name = \"cadastro_servidores\"\n",
    "df_cad_servidores.write.mode(\"overwrite\").saveAsTable(permanent_table_name)\n",
    "\n",
    "# df.write.format(\"parquet\").saveAsTable(nome_da_tabela)"
   ]
  },
  {
   "cell_type": "code",
   "execution_count": 0,
   "metadata": {
    "application/vnd.databricks.v1+cell": {
     "cellMetadata": {
      "byteLimit": 2048000,
      "implicitDf": true,
      "rowLimit": 10000
     },
     "inputWidgets": {},
     "nuid": "e80fa260-9ba2-4535-82b4-ac882e55b05d",
     "showTitle": false,
     "title": ""
    }
   },
   "outputs": [
    {
     "output_type": "display_data",
     "data": {
      "text/html": [
       "<style scoped>\n",
       "  .table-result-container {\n",
       "    max-height: 300px;\n",
       "    overflow: auto;\n",
       "  }\n",
       "  table, th, td {\n",
       "    border: 1px solid black;\n",
       "    border-collapse: collapse;\n",
       "  }\n",
       "  th, td {\n",
       "    padding: 5px;\n",
       "  }\n",
       "  th {\n",
       "    text-align: left;\n",
       "  }\n",
       "</style><div class='table-result-container'><table class='table-result'><thead style='background-color: white'><tr><th>id_SERVIDOR_PORTAL</th><th>NOME</th><th>CPF</th></tr></thead><tbody><tr><td>-11</td><td>Sigiloso</td><td>null</td></tr><tr><td>1025</td><td>ANDRE LOPES FULY</td><td>***.843.127-**</td></tr><tr><td>1030</td><td>ANA RITA DANTAS DA SILVEIRA BARROS</td><td>***.611.684-**</td></tr><tr><td>1031</td><td>FLAVIA BRITO MEDINA</td><td>***.838.776-**</td></tr><tr><td>1088</td><td>VILNEY VIEIRA MARCOS</td><td>***.795.806-**</td></tr></tbody></table></div>"
      ]
     },
     "metadata": {
      "application/vnd.databricks.v1+output": {
       "addedWidgets": {},
       "aggData": [],
       "aggError": "",
       "aggOverflow": false,
       "aggSchema": [],
       "aggSeriesLimitReached": false,
       "aggType": "",
       "arguments": {},
       "columnCustomDisplayInfos": {},
       "data": [
        [
         -11,
         "Sigiloso",
         null
        ],
        [
         1025,
         "ANDRE LOPES FULY",
         "***.843.127-**"
        ],
        [
         1030,
         "ANA RITA DANTAS DA SILVEIRA BARROS",
         "***.611.684-**"
        ],
        [
         1031,
         "FLAVIA BRITO MEDINA",
         "***.838.776-**"
        ],
        [
         1088,
         "VILNEY VIEIRA MARCOS",
         "***.795.806-**"
        ]
       ],
       "datasetInfos": [],
       "dbfsResultPath": null,
       "isJsonSchema": true,
       "metadata": {},
       "overflow": false,
       "plotOptions": {
        "customPlotOptions": {},
        "displayType": "table",
        "pivotAggregation": null,
        "pivotColumns": null,
        "xColumns": null,
        "yColumns": null
       },
       "removedWidgets": [],
       "schema": [
        {
         "metadata": "{\"comment\":\"id do servidor\"}",
         "name": "id_SERVIDOR_PORTAL",
         "type": "\"integer\""
        },
        {
         "metadata": "{\"comment\":\"Nome completo do servidor\"}",
         "name": "NOME",
         "type": "\"string\""
        },
        {
         "metadata": "{\"comment\":\"Código CPF do servidor, com parte censurada\"}",
         "name": "CPF",
         "type": "\"string\""
        }
       ],
       "type": "table"
      }
     },
     "output_type": "display_data"
    }
   ],
   "source": [
    "%sql\n",
    "select * from cadastro_servidores limit 5"
   ]
  },
  {
   "cell_type": "code",
   "execution_count": 0,
   "metadata": {
    "application/vnd.databricks.v1+cell": {
     "cellMetadata": {
      "byteLimit": 2048000,
      "rowLimit": 10000
     },
     "inputWidgets": {},
     "nuid": "1a6411d3-bf23-4466-be94-70402897fff6",
     "showTitle": false,
     "title": ""
    }
   },
   "outputs": [],
   "source": [
    "# separar unidades organizacionais\n",
    "df_uorgs = df[[\"COD_UORG_LOTACAO\", \"UORG_LOTACAO\"]].drop_duplicates()"
   ]
  },
  {
   "cell_type": "code",
   "execution_count": 0,
   "metadata": {
    "application/vnd.databricks.v1+cell": {
     "cellMetadata": {
      "byteLimit": 2048000,
      "rowLimit": 10000
     },
     "inputWidgets": {},
     "nuid": "274291ed-a427-425c-88ee-3250766b5536",
     "showTitle": false,
     "title": ""
    }
   },
   "outputs": [],
   "source": [
    "# criar tabela de unidades organizacionais\n",
    "permanent_table_name = \"unid_org\"\n",
    "# df_uorgs.write.format(\"parquet\").saveAsTable(permanent_table_name)\n",
    "df_uorgs.write.mode(\"overwrite\").saveAsTable(permanent_table_name)"
   ]
  },
  {
   "cell_type": "code",
   "execution_count": 0,
   "metadata": {
    "application/vnd.databricks.v1+cell": {
     "cellMetadata": {
      "byteLimit": 2048000,
      "implicitDf": true,
      "rowLimit": 10000
     },
     "inputWidgets": {},
     "nuid": "886ac8f7-2d32-464d-9327-ed61be6683e1",
     "showTitle": false,
     "title": ""
    }
   },
   "outputs": [
    {
     "output_type": "display_data",
     "data": {
      "text/html": [
       "<style scoped>\n",
       "  .table-result-container {\n",
       "    max-height: 300px;\n",
       "    overflow: auto;\n",
       "  }\n",
       "  table, th, td {\n",
       "    border: 1px solid black;\n",
       "    border-collapse: collapse;\n",
       "  }\n",
       "  th, td {\n",
       "    padding: 5px;\n",
       "  }\n",
       "  th {\n",
       "    text-align: left;\n",
       "  }\n",
       "</style><div class='table-result-container'><table class='table-result'><thead style='background-color: white'><tr><th>COD_UORG_LOTACAO</th><th>UORG_LOTACAO</th></tr></thead><tbody><tr><td>15000000056762</td><td>DIV..PESQ.ATEND.MED.ODONT.NUTRICIONAL</td></tr><tr><td>44207000001691</td><td>NUCLEO GESTAO INTEGRADA - PORTO VELHO</td></tr><tr><td>25000000003657</td><td>SUS-SMS/SAO GONCALO</td></tr><tr><td>26439000000818</td><td>DIRETORIA GERAL/CAMPUS AV TUPA</td></tr><tr><td>26240000000235</td><td>CCA - DPTO SOLOS E ENGENHARIA RURAL</td></tr></tbody></table></div>"
      ]
     },
     "metadata": {
      "application/vnd.databricks.v1+output": {
       "addedWidgets": {},
       "aggData": [],
       "aggError": "",
       "aggOverflow": false,
       "aggSchema": [],
       "aggSeriesLimitReached": false,
       "aggType": "",
       "arguments": {},
       "columnCustomDisplayInfos": {},
       "data": [
        [
         15000000056762,
         "DIV..PESQ.ATEND.MED.ODONT.NUTRICIONAL"
        ],
        [
         44207000001691,
         "NUCLEO GESTAO INTEGRADA - PORTO VELHO"
        ],
        [
         25000000003657,
         "SUS-SMS/SAO GONCALO"
        ],
        [
         26439000000818,
         "DIRETORIA GERAL/CAMPUS AV TUPA"
        ],
        [
         26240000000235,
         "CCA - DPTO SOLOS E ENGENHARIA RURAL"
        ]
       ],
       "datasetInfos": [],
       "dbfsResultPath": null,
       "isJsonSchema": true,
       "metadata": {},
       "overflow": false,
       "plotOptions": {
        "customPlotOptions": {},
        "displayType": "table",
        "pivotAggregation": null,
        "pivotColumns": null,
        "xColumns": null,
        "yColumns": null
       },
       "removedWidgets": [],
       "schema": [
        {
         "metadata": "{\"comment\":\"Chave primária código Unidade Organizacional\"}",
         "name": "COD_UORG_LOTACAO",
         "type": "\"long\""
        },
        {
         "metadata": "{\"comment\":\"Descrição da lotação\"}",
         "name": "UORG_LOTACAO",
         "type": "\"string\""
        }
       ],
       "type": "table"
      }
     },
     "output_type": "display_data"
    }
   ],
   "source": [
    "%sql\n",
    "select * from unid_org limit 5"
   ]
  },
  {
   "cell_type": "code",
   "execution_count": 0,
   "metadata": {
    "application/vnd.databricks.v1+cell": {
     "cellMetadata": {
      "byteLimit": 2048000,
      "rowLimit": 10000
     },
     "inputWidgets": {},
     "nuid": "04f594b7-cf62-427c-80ff-4e6c3f9097f9",
     "showTitle": false,
     "title": ""
    }
   },
   "outputs": [],
   "source": [
    "# retirar descrição da UORG do df original\n",
    "df = df.drop(\"UORG_LOTACAO\")"
   ]
  },
  {
   "cell_type": "code",
   "execution_count": 0,
   "metadata": {
    "application/vnd.databricks.v1+cell": {
     "cellMetadata": {
      "byteLimit": 2048000,
      "rowLimit": 10000
     },
     "inputWidgets": {},
     "nuid": "1969c253-a21b-47d4-b6fd-a621cad0bce2",
     "showTitle": false,
     "title": ""
    }
   },
   "outputs": [],
   "source": [
    "# separar organização lotação\n",
    "df_org_lot = df[[\"COD_ORG_LOTACAO\", \"ORG_LOTACAO\"]].drop_duplicates()"
   ]
  },
  {
   "cell_type": "code",
   "execution_count": 0,
   "metadata": {
    "application/vnd.databricks.v1+cell": {
     "cellMetadata": {
      "byteLimit": 2048000,
      "rowLimit": 10000
     },
     "inputWidgets": {},
     "nuid": "2c8b5ac5-c64f-4053-a4c7-d8633ecc48b1",
     "showTitle": false,
     "title": ""
    }
   },
   "outputs": [],
   "source": [
    "# criar tabela de unidades organizacionais\n",
    "permanent_table_name = \"org_lotacao\"\n",
    "# df_org_lot.write.format(\"parquet\").saveAsTable(permanent_table_name)\n",
    "df_org_lot.write.mode(\"overwrite\").saveAsTable(permanent_table_name)"
   ]
  },
  {
   "cell_type": "code",
   "execution_count": 0,
   "metadata": {
    "application/vnd.databricks.v1+cell": {
     "cellMetadata": {
      "byteLimit": 2048000,
      "implicitDf": true,
      "rowLimit": 10000
     },
     "inputWidgets": {},
     "nuid": "63058443-40d3-4bb8-a2a2-c4da4fefdc4f",
     "showTitle": false,
     "title": ""
    }
   },
   "outputs": [
    {
     "output_type": "display_data",
     "data": {
      "text/html": [
       "<style scoped>\n",
       "  .table-result-container {\n",
       "    max-height: 300px;\n",
       "    overflow: auto;\n",
       "  }\n",
       "  table, th, td {\n",
       "    border: 1px solid black;\n",
       "    border-collapse: collapse;\n",
       "  }\n",
       "  th, td {\n",
       "    padding: 5px;\n",
       "  }\n",
       "  th {\n",
       "    text-align: left;\n",
       "  }\n",
       "</style><div class='table-result-container'><table class='table-result'><thead style='background-color: white'><tr><th>COD_ORG_LOTACAO</th><th>ORG_LOTACAO</th></tr></thead><tbody><tr><td>26350</td><td>Fundação Universidade Federal da Grande Dourados</td></tr><tr><td>24204</td><td>Instituto do Patrimônio Histórico e Artístico Nacional</td></tr><tr><td>26424</td><td>Instituto Federal do Tocantins</td></tr><tr><td>25211</td><td>Casa da Moeda do Brasil</td></tr><tr><td>45206</td><td>Instituto de Pesquisa Econômica Aplicada</td></tr></tbody></table></div>"
      ]
     },
     "metadata": {
      "application/vnd.databricks.v1+output": {
       "addedWidgets": {},
       "aggData": [],
       "aggError": "",
       "aggOverflow": false,
       "aggSchema": [],
       "aggSeriesLimitReached": false,
       "aggType": "",
       "arguments": {},
       "columnCustomDisplayInfos": {},
       "data": [
        [
         26350,
         "Fundação Universidade Federal da Grande Dourados"
        ],
        [
         24204,
         "Instituto do Patrimônio Histórico e Artístico Nacional"
        ],
        [
         26424,
         "Instituto Federal do Tocantins"
        ],
        [
         25211,
         "Casa da Moeda do Brasil"
        ],
        [
         45206,
         "Instituto de Pesquisa Econômica Aplicada"
        ]
       ],
       "datasetInfos": [],
       "dbfsResultPath": null,
       "isJsonSchema": true,
       "metadata": {},
       "overflow": false,
       "plotOptions": {
        "customPlotOptions": {},
        "displayType": "table",
        "pivotAggregation": null,
        "pivotColumns": null,
        "xColumns": null,
        "yColumns": null
       },
       "removedWidgets": [],
       "schema": [
        {
         "metadata": "{\"comment\":\"Código que representa o órgão de lotação dos servidores\"}",
         "name": "COD_ORG_LOTACAO",
         "type": "\"integer\""
        },
        {
         "metadata": "{\"comment\":\"Nome do órgão de lotação\"}",
         "name": "ORG_LOTACAO",
         "type": "\"string\""
        }
       ],
       "type": "table"
      }
     },
     "output_type": "display_data"
    }
   ],
   "source": [
    "%sql\n",
    "SELECT * FROM org_lotacao LIMIT 5"
   ]
  },
  {
   "cell_type": "code",
   "execution_count": 0,
   "metadata": {
    "application/vnd.databricks.v1+cell": {
     "cellMetadata": {
      "byteLimit": 2048000,
      "rowLimit": 10000
     },
     "inputWidgets": {},
     "nuid": "bfd8fcb2-c396-46a6-9f40-6e0f72a706ca",
     "showTitle": false,
     "title": ""
    }
   },
   "outputs": [],
   "source": [
    "# retirando a descrição do órgão lotação do dataframe principal\n",
    "df = df.drop(\"ORG_LOTACAO\")"
   ]
  },
  {
   "cell_type": "code",
   "execution_count": 0,
   "metadata": {
    "application/vnd.databricks.v1+cell": {
     "cellMetadata": {
      "byteLimit": 2048000,
      "rowLimit": 10000
     },
     "inputWidgets": {},
     "nuid": "74a4b462-b7c1-4d5c-9494-e9e0f15e945d",
     "showTitle": false,
     "title": ""
    }
   },
   "outputs": [],
   "source": [
    "df_org_sup = df[[\"COD_ORGSUP_LOTACAO\", \"ORGSUP_LOTACAO\"]].drop_duplicates()"
   ]
  },
  {
   "cell_type": "code",
   "execution_count": 0,
   "metadata": {
    "application/vnd.databricks.v1+cell": {
     "cellMetadata": {
      "byteLimit": 2048000,
      "rowLimit": 10000
     },
     "inputWidgets": {},
     "nuid": "61827a4b-673e-416e-bcd3-26214a39518d",
     "showTitle": false,
     "title": ""
    }
   },
   "outputs": [],
   "source": [
    "permanent_table_name = \"org_lotacao_superior\"\n",
    "# df_org_sup.write.format(\"parquet\").saveAsTable(permanent_table_name)\n",
    "df_org_sup.write.mode(\"overwrite\").saveAsTable(permanent_table_name)"
   ]
  },
  {
   "cell_type": "code",
   "execution_count": 0,
   "metadata": {
    "application/vnd.databricks.v1+cell": {
     "cellMetadata": {
      "byteLimit": 2048000,
      "implicitDf": true,
      "rowLimit": 10000
     },
     "inputWidgets": {},
     "nuid": "5aedb5ad-fb93-4779-9797-e96e8293a400",
     "showTitle": false,
     "title": ""
    }
   },
   "outputs": [
    {
     "output_type": "display_data",
     "data": {
      "text/html": [
       "<style scoped>\n",
       "  .table-result-container {\n",
       "    max-height: 300px;\n",
       "    overflow: auto;\n",
       "  }\n",
       "  table, th, td {\n",
       "    border: 1px solid black;\n",
       "    border-collapse: collapse;\n",
       "  }\n",
       "  th, td {\n",
       "    padding: 5px;\n",
       "  }\n",
       "  th {\n",
       "    text-align: left;\n",
       "  }\n",
       "</style><div class='table-result-container'><table class='table-result'><thead style='background-color: white'><tr><th>COD_ORGSUP_LOTACAO</th><th>ORGSUP_LOTACAO</th></tr></thead><tbody><tr><td>23000</td><td>Ministério da Previdência Social</td></tr><tr><td>15000</td><td>Ministério da Educação</td></tr><tr><td>49200</td><td>MINISTERIO DOS TRANSPORTES</td></tr><tr><td>17600</td><td>MINISTERIO DA FAZENDA</td></tr><tr><td>40200</td><td>MINISTERIO DAS CIDADES</td></tr></tbody></table></div>"
      ]
     },
     "metadata": {
      "application/vnd.databricks.v1+output": {
       "addedWidgets": {},
       "aggData": [],
       "aggError": "",
       "aggOverflow": false,
       "aggSchema": [],
       "aggSeriesLimitReached": false,
       "aggType": "",
       "arguments": {},
       "columnCustomDisplayInfos": {},
       "data": [
        [
         23000,
         "Ministério da Previdência Social"
        ],
        [
         15000,
         "Ministério da Educação"
        ],
        [
         49200,
         "MINISTERIO DOS TRANSPORTES"
        ],
        [
         17600,
         "MINISTERIO DA FAZENDA"
        ],
        [
         40200,
         "MINISTERIO DAS CIDADES"
        ]
       ],
       "datasetInfos": [],
       "dbfsResultPath": null,
       "isJsonSchema": true,
       "metadata": {},
       "overflow": false,
       "plotOptions": {
        "customPlotOptions": {},
        "displayType": "table",
        "pivotAggregation": null,
        "pivotColumns": null,
        "xColumns": null,
        "yColumns": null
       },
       "removedWidgets": [],
       "schema": [
        {
         "metadata": "{\"comment\":\"id dos órgãos superiores\"}",
         "name": "COD_ORGSUP_LOTACAO",
         "type": "\"integer\""
        },
        {
         "metadata": "{\"comment\":\"Descrição do órgão superior\"}",
         "name": "ORGSUP_LOTACAO",
         "type": "\"string\""
        }
       ],
       "type": "table"
      }
     },
     "output_type": "display_data"
    }
   ],
   "source": [
    "%sql\n",
    "select * from org_lotacao_superior LIMIT 5"
   ]
  },
  {
   "cell_type": "code",
   "execution_count": 0,
   "metadata": {
    "application/vnd.databricks.v1+cell": {
     "cellMetadata": {
      "byteLimit": 2048000,
      "rowLimit": 10000
     },
     "inputWidgets": {},
     "nuid": "73d36e32-d658-4ba9-93d0-e678f2cd4ff7",
     "showTitle": false,
     "title": ""
    }
   },
   "outputs": [],
   "source": [
    "df = df.drop(\"ORGSUP_LOTACAO\")"
   ]
  },
  {
   "cell_type": "code",
   "execution_count": 0,
   "metadata": {
    "application/vnd.databricks.v1+cell": {
     "cellMetadata": {
      "byteLimit": 2048000,
      "rowLimit": 10000
     },
     "inputWidgets": {},
     "nuid": "81f8e0be-74b4-415c-9d2d-f2f2900435c0",
     "showTitle": false,
     "title": ""
    }
   },
   "outputs": [],
   "source": [
    "cols_to_drop = ['NOME', 'CPF', 'MATRICULA', 'CLASSE_CARGO', 'REFERENCIA_CARGO', 'PADRAO_CARGO', \n",
    "               'NIVEL_CARGO', 'SIGLA_FUNCAO', 'NIVEL_FUNCAO', 'CODIGO_ATIVIDADE', 'OPCAO_PARCIAL', \n",
    "               'COD_UORG_EXERCICIO', 'UORG_EXERCICIO', 'COD_ORG_EXERCICIO', 'ORG_EXERCICIO', 'COD_ORGSUP_EXERCICIO', \n",
    "               'ORGSUP_EXERCICIO', 'COD_TIPO_VINCULO', 'DATA_INICIO_AFASTAMENTO', 'DATA_TERMINO_AFASTAMENTO',\n",
    "               'REGIME_JURIDICO', 'JORNADA_DE_TRABALHO', 'DATA_INGRESSO_CARGOFUNCAO', 'DATA_NOMEACAO_CARGOFUNCAO', \n",
    "               'DOCUMENTO_INGRESSO_SERVICOPUBLICO', 'DATA_DIPLOMA_INGRESSO_SERVICOPUBLICO', 'DIPLOMA_INGRESSO_CARGOFUNCAO',\n",
    "               'DIPLOMA_INGRESSO_ORGAO', 'DIPLOMA_INGRESSO_SERVICOPUBLICO', 'UF_EXERCICIO'\n",
    "               'DIPLOMA_INGRESSO_CARGOFUNCAO', 'UF_EXERCICIO'\n",
    "               ]"
   ]
  },
  {
   "cell_type": "code",
   "execution_count": 0,
   "metadata": {
    "application/vnd.databricks.v1+cell": {
     "cellMetadata": {
      "byteLimit": 2048000,
      "rowLimit": 10000
     },
     "inputWidgets": {},
     "nuid": "e4eb15c5-38a0-4b18-a618-4f691d923032",
     "showTitle": false,
     "title": ""
    }
   },
   "outputs": [],
   "source": [
    "\n",
    "# retirar diversas colunas que não são necessárias para respondera as questões\n",
    "df = df.drop(*cols_to_drop)"
   ]
  },
  {
   "cell_type": "code",
   "execution_count": 0,
   "metadata": {
    "application/vnd.databricks.v1+cell": {
     "cellMetadata": {
      "byteLimit": 2048000,
      "rowLimit": 10000
     },
     "inputWidgets": {},
     "nuid": "f3455dea-acf1-4f73-a3c0-da980abcd311",
     "showTitle": false,
     "title": ""
    }
   },
   "outputs": [],
   "source": [
    "permanent_table_name = \"qualificacao_servidores\"\n",
    "# df.write.format(\"parquet\").saveAsTable(permanent_table_name)\n",
    "df.write.mode(\"overwrite\").saveAsTable(permanent_table_name)"
   ]
  },
  {
   "cell_type": "code",
   "execution_count": 0,
   "metadata": {
    "application/vnd.databricks.v1+cell": {
     "cellMetadata": {
      "byteLimit": 2048000,
      "implicitDf": true,
      "rowLimit": 10000
     },
     "inputWidgets": {},
     "nuid": "c793c137-cc94-4c5c-9620-9d664ae578c9",
     "showTitle": false,
     "title": ""
    }
   },
   "outputs": [
    {
     "output_type": "display_data",
     "data": {
      "text/html": [
       "<style scoped>\n",
       "  .table-result-container {\n",
       "    max-height: 300px;\n",
       "    overflow: auto;\n",
       "  }\n",
       "  table, th, td {\n",
       "    border: 1px solid black;\n",
       "    border-collapse: collapse;\n",
       "  }\n",
       "  th, td {\n",
       "    padding: 5px;\n",
       "  }\n",
       "  th {\n",
       "    text-align: left;\n",
       "  }\n",
       "</style><div class='table-result-container'><table class='table-result'><thead style='background-color: white'><tr><th>Id_SERVIDOR_PORTAL</th><th>DESCRICAO_CARGO</th><th>FUNCAO</th><th>ATIVIDADE</th><th>COD_UORG_LOTACAO</th><th>COD_ORG_LOTACAO</th><th>COD_ORGSUP_LOTACAO</th><th>TIPO_VINCULO</th><th>SITUACAO_VINCULO</th><th>DATA_INGRESSO_ORGAO</th></tr></thead><tbody><tr><td>3174964</td><td>BIBLIOTECARIO-DOCUMENTALISTA</td><td>Sem informação</td><td>Sem informaç</td><td>26405000000040</td><td>26405</td><td>15000</td><td>Cargo</td><td>ATIVO PERMANENTE</td><td>2008-12-29</td></tr><tr><td>2903139</td><td>Sem informaç</td><td>FUNCAO GRATIFICADA - IFES</td><td>DIRETOR(A)</td><td>26239000001515</td><td>26239</td><td>15000</td><td>Função</td><td>ATIVO PERMANENTE</td><td>2006-07-24</td></tr><tr><td>2903139</td><td>PROFESSOR DO MAGISTERIO SUPERIOR</td><td>Sem informação</td><td>Sem informaç</td><td>26239000001515</td><td>26239</td><td>15000</td><td>Cargo</td><td>ATIVO PERMANENTE</td><td>2006-07-24</td></tr><tr><td>2868174</td><td>FISIOTERAPEUTA - 30H</td><td>Sem informação</td><td>Sem informaç</td><td>26443035000000</td><td>26443</td><td>15000</td><td>Cargo</td><td>CELETISTA/EMPREGADO</td><td>2022-12-07</td></tr><tr><td>3137242</td><td>PROFESSOR ENS BASICO TECN TECNOLOGICO</td><td>Sem informação</td><td>Sem informaç</td><td>26417000000013</td><td>26417</td><td>15000</td><td>Cargo</td><td>ATIVO PERMANENTE</td><td>2008-12-29</td></tr></tbody></table></div>"
      ]
     },
     "metadata": {
      "application/vnd.databricks.v1+output": {
       "addedWidgets": {},
       "aggData": [],
       "aggError": "",
       "aggOverflow": false,
       "aggSchema": [],
       "aggSeriesLimitReached": false,
       "aggType": "",
       "arguments": {},
       "columnCustomDisplayInfos": {},
       "data": [
        [
         3174964,
         "BIBLIOTECARIO-DOCUMENTALISTA",
         "Sem informação",
         "Sem informaç",
         26405000000040,
         26405,
         15000,
         "Cargo",
         "ATIVO PERMANENTE",
         "2008-12-29"
        ],
        [
         2903139,
         "Sem informaç",
         "FUNCAO GRATIFICADA - IFES",
         "DIRETOR(A)",
         26239000001515,
         26239,
         15000,
         "Função",
         "ATIVO PERMANENTE",
         "2006-07-24"
        ],
        [
         2903139,
         "PROFESSOR DO MAGISTERIO SUPERIOR",
         "Sem informação",
         "Sem informaç",
         26239000001515,
         26239,
         15000,
         "Cargo",
         "ATIVO PERMANENTE",
         "2006-07-24"
        ],
        [
         2868174,
         "FISIOTERAPEUTA - 30H",
         "Sem informação",
         "Sem informaç",
         26443035000000,
         26443,
         15000,
         "Cargo",
         "CELETISTA/EMPREGADO",
         "2022-12-07"
        ],
        [
         3137242,
         "PROFESSOR ENS BASICO TECN TECNOLOGICO",
         "Sem informação",
         "Sem informaç",
         26417000000013,
         26417,
         15000,
         "Cargo",
         "ATIVO PERMANENTE",
         "2008-12-29"
        ]
       ],
       "datasetInfos": [],
       "dbfsResultPath": null,
       "isJsonSchema": true,
       "metadata": {},
       "overflow": false,
       "plotOptions": {
        "customPlotOptions": {},
        "displayType": "table",
        "pivotAggregation": null,
        "pivotColumns": null,
        "xColumns": null,
        "yColumns": null
       },
       "removedWidgets": [],
       "schema": [
        {
         "metadata": "{\"comment\":\"id do servidor (é chave estrangeira nesta tabela e chave primária na tabela cadastro_servidores)\"}",
         "name": "Id_SERVIDOR_PORTAL",
         "type": "\"integer\""
        },
        {
         "metadata": "{\"comment\":\"Descrição do cargo do servidor\"}",
         "name": "DESCRICAO_CARGO",
         "type": "\"string\""
        },
        {
         "metadata": "{\"comment\":\"Função do servidor, no órgão em que está lotado\"}",
         "name": "FUNCAO",
         "type": "\"string\""
        },
        {
         "metadata": "{\"comment\":\"Atividade do servidor, no órgão em que está lotado\"}",
         "name": "ATIVIDADE",
         "type": "\"string\""
        },
        {
         "metadata": "{}",
         "name": "COD_UORG_LOTACAO",
         "type": "\"long\""
        },
        {
         "metadata": "{}",
         "name": "COD_ORG_LOTACAO",
         "type": "\"integer\""
        },
        {
         "metadata": "{}",
         "name": "COD_ORGSUP_LOTACAO",
         "type": "\"integer\""
        },
        {
         "metadata": "{}",
         "name": "TIPO_VINCULO",
         "type": "\"string\""
        },
        {
         "metadata": "{}",
         "name": "SITUACAO_VINCULO",
         "type": "\"string\""
        },
        {
         "metadata": "{\"__detected_date_formats\":\"d/M/yyyy\"}",
         "name": "DATA_INGRESSO_ORGAO",
         "type": "\"date\""
        }
       ],
       "type": "table"
      }
     },
     "output_type": "display_data"
    }
   ],
   "source": [
    "%sql\n",
    "select * from qualificacao_servidores limit 5"
   ]
  },
  {
   "cell_type": "code",
   "execution_count": 0,
   "metadata": {
    "application/vnd.databricks.v1+cell": {
     "cellMetadata": {
      "byteLimit": 2048000,
      "implicitDf": true,
      "rowLimit": 10000
     },
     "inputWidgets": {},
     "nuid": "c39937f8-1acf-4b0e-a00a-5493d79ac56a",
     "showTitle": false,
     "title": ""
    }
   },
   "outputs": [
    {
     "output_type": "display_data",
     "data": {
      "text/html": [
       "<style scoped>\n",
       "  .table-result-container {\n",
       "    max-height: 300px;\n",
       "    overflow: auto;\n",
       "  }\n",
       "  table, th, td {\n",
       "    border: 1px solid black;\n",
       "    border-collapse: collapse;\n",
       "  }\n",
       "  th, td {\n",
       "    padding: 5px;\n",
       "  }\n",
       "  th {\n",
       "    text-align: left;\n",
       "  }\n",
       "</style><div class='table-result-container'><table class='table-result'><thead style='background-color: white'><tr><th>NOME</th><th>FUNCAO</th><th>ORG_LOTACAO</th></tr></thead><tbody><tr><td>WILMA BOECHAT DE SOUZA SOARES</td><td>Sem informação</td><td>MINISTERIO DA FAZENDA</td></tr><tr><td>MARGARETH ZIMMERMANN</td><td>Sem informação</td><td>MINISTERIO DA FAZENDA</td></tr><tr><td>SOLANGE APARECIDA DO NASCIMENTO SOARES</td><td>Sem informação</td><td>MINISTERIO DA FAZENDA</td></tr><tr><td>CAROLINA BEATRIZ IMTHURN</td><td>Sem informação</td><td>MINISTERIO DA FAZENDA</td></tr><tr><td>PAULO ROBERTO BOTIN</td><td>Sem informação</td><td>MINISTERIO DA FAZENDA</td></tr><tr><td>BRASILIANO DIAS DOS SANTOS</td><td>Sem informação</td><td>MINISTERIO DA FAZENDA</td></tr><tr><td>MARIA LUCIANA PEREIRA DYSMAN SEIXAS</td><td>Sem informação</td><td>MINISTERIO DA FAZENDA</td></tr><tr><td>ROBERTO CARLOS DE ARAUJO</td><td>Sem informação</td><td>MINISTERIO DA FAZENDA</td></tr><tr><td>RICARDO VIANNA JORGE</td><td>Sem informação</td><td>MINISTERIO DA FAZENDA</td></tr><tr><td>VALERIA SILVA FERREIRA DA COSTA</td><td>Sem informação</td><td>MINISTERIO DA FAZENDA</td></tr></tbody></table></div>"
      ]
     },
     "metadata": {
      "application/vnd.databricks.v1+output": {
       "addedWidgets": {},
       "aggData": [],
       "aggError": "",
       "aggOverflow": false,
       "aggSchema": [],
       "aggSeriesLimitReached": false,
       "aggType": "",
       "arguments": {},
       "columnCustomDisplayInfos": {},
       "data": [
        [
         "WILMA BOECHAT DE SOUZA SOARES",
         "Sem informação",
         "MINISTERIO DA FAZENDA"
        ],
        [
         "MARGARETH ZIMMERMANN",
         "Sem informação",
         "MINISTERIO DA FAZENDA"
        ],
        [
         "SOLANGE APARECIDA DO NASCIMENTO SOARES",
         "Sem informação",
         "MINISTERIO DA FAZENDA"
        ],
        [
         "CAROLINA BEATRIZ IMTHURN",
         "Sem informação",
         "MINISTERIO DA FAZENDA"
        ],
        [
         "PAULO ROBERTO BOTIN",
         "Sem informação",
         "MINISTERIO DA FAZENDA"
        ],
        [
         "BRASILIANO DIAS DOS SANTOS",
         "Sem informação",
         "MINISTERIO DA FAZENDA"
        ],
        [
         "MARIA LUCIANA PEREIRA DYSMAN SEIXAS",
         "Sem informação",
         "MINISTERIO DA FAZENDA"
        ],
        [
         "ROBERTO CARLOS DE ARAUJO",
         "Sem informação",
         "MINISTERIO DA FAZENDA"
        ],
        [
         "RICARDO VIANNA JORGE",
         "Sem informação",
         "MINISTERIO DA FAZENDA"
        ],
        [
         "VALERIA SILVA FERREIRA DA COSTA",
         "Sem informação",
         "MINISTERIO DA FAZENDA"
        ]
       ],
       "datasetInfos": [],
       "dbfsResultPath": null,
       "isJsonSchema": true,
       "metadata": {},
       "overflow": false,
       "plotOptions": {
        "customPlotOptions": {},
        "displayType": "table",
        "pivotAggregation": null,
        "pivotColumns": null,
        "xColumns": null,
        "yColumns": null
       },
       "removedWidgets": [],
       "schema": [
        {
         "metadata": "{\"comment\":\"Nome completo do servidor\"}",
         "name": "NOME",
         "type": "\"string\""
        },
        {
         "metadata": "{\"comment\":\"Função do servidor, no órgão em que está lotado\"}",
         "name": "FUNCAO",
         "type": "\"string\""
        },
        {
         "metadata": "{\"comment\":\"Nome do órgão de lotação\"}",
         "name": "ORG_LOTACAO",
         "type": "\"string\""
        }
       ],
       "type": "table"
      }
     },
     "output_type": "display_data"
    }
   ],
   "source": [
    "%sql\n",
    "SELECT a.NOME, b.FUNCAO, c.ORG_LOTACAO  \n",
    "FROM cadastro_servidores a \n",
    "JOIN qualificacao_servidores b ON a.Id_SERVIDOR_PORTAL = b.Id_SERVIDOR_PORTAL \n",
    "JOIN org_lotacao c ON b.COD_ORG_LOTACAO = c.COD_ORG_LOTACAO\n",
    "WHERE b.DESCRICAO_CARGO = 'TECNICO DO SEGURO SOCIAL' AND c.ORG_LOTACAO <> 'Instituto Nacional do Seguro Social' LIMIT 10"
   ]
  }
 ],
 "metadata": {
  "application/vnd.databricks.v1+notebook": {
   "dashboards": [],
   "environmentMetadata": null,
   "language": "python",
   "notebookMetadata": {
    "mostRecentlyExecutedCommandWithImplicitDF": {
     "commandId": 3054552767795362,
     "dataframes": [
      "_sqldf"
     ]
    },
    "pythonIndentUnit": 4
   },
   "notebookName": "ETL Servidores Federais",
   "widgets": {}
  }
 },
 "nbformat": 4,
 "nbformat_minor": 0
}
