{
 "cells": [
  {
   "cell_type": "markdown",
   "metadata": {
    "application/vnd.databricks.v1+cell": {
     "cellMetadata": {
      "byteLimit": 2048000,
      "rowLimit": 10000
     },
     "inputWidgets": {},
     "nuid": "96816ed7-b08a-4ca3-abb9-f99880c3535d",
     "showTitle": false,
     "title": ""
    }
   },
   "source": [
    "\n",
    "## Overview\n",
    "\n",
    "Esse notebook cria uma tabela permanente no DBFS com os dados de Cartão Corporativo do Governo Federal. Esta tabela é considerada a tabela 'fato', pois contém os valores das transações. A tabela também foi normalizada para compor o modelo 'estrela'. "
   ]
  },
  {
   "cell_type": "code",
   "execution_count": 0,
   "metadata": {
    "application/vnd.databricks.v1+cell": {
     "cellMetadata": {
      "byteLimit": 2048000,
      "rowLimit": 10000
     },
     "inputWidgets": {},
     "nuid": "e59150c0-43ec-4166-bb4b-a2abf9ff5cda",
     "showTitle": false,
     "title": ""
    }
   },
   "outputs": [],
   "source": [
    "from datetime import datetime\n",
    "from pyspark.sql.functions import col, date_format"
   ]
  },
  {
   "cell_type": "code",
   "execution_count": 0,
   "metadata": {
    "application/vnd.databricks.v1+cell": {
     "cellMetadata": {
      "byteLimit": 2048000,
      "rowLimit": 10000
     },
     "inputWidgets": {},
     "nuid": "6482be4c-f067-47c9-b0ac-35c938b94601",
     "showTitle": false,
     "title": ""
    }
   },
   "outputs": [],
   "source": [
    "# File location and type\n",
    "file_location = \"/FileStore/tables/202401_CPGF-1.csv\"\n",
    "file_type = \"csv\"\n",
    "\n",
    "# CSV options\n",
    "infer_schema = \"false\"\n",
    "first_row_is_header = \"true\"\n",
    "delimiter = \";\"\n",
    "encode = 'latin1'\n",
    "\n",
    "# The applied options are for CSV files. For other file types, these will be ignored.\n",
    "df = spark.read.format(file_type) \\\n",
    "  .option(\"inferSchema\", infer_schema) \\\n",
    "  .option(\"header\", first_row_is_header) \\\n",
    "  .option(\"sep\", delimiter) \\\n",
    "  .option(\"encoding\", encode)  \\\n",
    "  .load(file_location)\n",
    "\n",
    "# display(df)"
   ]
  },
  {
   "cell_type": "code",
   "execution_count": 0,
   "metadata": {
    "application/vnd.databricks.v1+cell": {
     "cellMetadata": {
      "byteLimit": 2048000,
      "rowLimit": 10000
     },
     "inputWidgets": {},
     "nuid": "bd82bb99-1479-4d5c-be10-8c36df0f1d44",
     "showTitle": false,
     "title": ""
    }
   },
   "outputs": [],
   "source": [
    "cols_to_drop = [\"NOME ÓRGÃO SUPERIOR\", \"NOME ÓRGÃO\", \"NOME UNIDADE GESTORA\"]\n",
    "df = df.drop(*cols_to_drop)\n"
   ]
  },
  {
   "cell_type": "code",
   "execution_count": 0,
   "metadata": {
    "application/vnd.databricks.v1+cell": {
     "cellMetadata": {
      "byteLimit": 2048000,
      "rowLimit": 10000
     },
     "inputWidgets": {},
     "nuid": "88bd4c2c-0b46-4c8d-8f92-e8a18724ec46",
     "showTitle": false,
     "title": ""
    }
   },
   "outputs": [],
   "source": [
    "df = df.withColumn(\"DATA TRANSAÇÃO\", date_format(col(\"DATA TRANSAÇÃO\"), \"dd/MM/yyyy\"))"
   ]
  },
  {
   "cell_type": "code",
   "execution_count": 0,
   "metadata": {
    "application/vnd.databricks.v1+cell": {
     "cellMetadata": {
      "byteLimit": 2048000,
      "rowLimit": 10000
     },
     "inputWidgets": {},
     "nuid": "2309abbf-6e9e-4a1b-887c-f5117f9e236b",
     "showTitle": false,
     "title": ""
    }
   },
   "outputs": [
    {
     "output_type": "stream",
     "name": "stderr",
     "output_type": "stream",
     "text": [
      "/databricks/spark/python/pyspark/sql/dataframe.py:5178: FutureWarning: DataFrame.to_pandas_on_spark is deprecated. Use DataFrame.pandas_api instead.\n  warnings.warn(\n"
     ]
    }
   ],
   "source": [
    "df = df.to_pandas_on_spark()"
   ]
  },
  {
   "cell_type": "code",
   "execution_count": 0,
   "metadata": {
    "application/vnd.databricks.v1+cell": {
     "cellMetadata": {
      "byteLimit": 2048000,
      "rowLimit": 10000
     },
     "inputWidgets": {},
     "nuid": "4ccf90ed-61ed-44f6-b507-cdddcee689b2",
     "showTitle": false,
     "title": ""
    }
   },
   "outputs": [],
   "source": [
    "# df[\"DATA TRANSAÇÃO\"] = df[\"DATA TRANSAÇÃO\"].apply(lambda x: datetime.strptime(str(x), \"%d/%m/%Y\") if x not null else str(x))"
   ]
  },
  {
   "cell_type": "code",
   "execution_count": 0,
   "metadata": {
    "application/vnd.databricks.v1+cell": {
     "cellMetadata": {
      "byteLimit": 2048000,
      "rowLimit": 10000
     },
     "inputWidgets": {},
     "nuid": "7da91397-fe7b-42cb-b031-ca5e41dba27f",
     "showTitle": false,
     "title": ""
    }
   },
   "outputs": [],
   "source": [
    "df[\"VALOR TRANSAÇÃO\"] = df[\"VALOR TRANSAÇÃO\"].apply(lambda x: float(str(x).replace(\",\", \".\")))"
   ]
  },
  {
   "cell_type": "code",
   "execution_count": 0,
   "metadata": {
    "application/vnd.databricks.v1+cell": {
     "cellMetadata": {
      "byteLimit": 2048000,
      "implicitDf": true,
      "rowLimit": 10000
     },
     "inputWidgets": {},
     "nuid": "3b303a33-d07f-4642-ace9-35986a9b49e9",
     "showTitle": false,
     "title": ""
    }
   },
   "outputs": [],
   "source": [
    "df = df[(df[\"CNPJ OU CPF FAVORECIDO\"] != -1) & (df[\"CNPJ OU CPF FAVORECIDO\"] != -2)]"
   ]
  },
  {
   "cell_type": "code",
   "execution_count": 0,
   "metadata": {
    "application/vnd.databricks.v1+cell": {
     "cellMetadata": {
      "byteLimit": 2048000,
      "rowLimit": 10000
     },
     "inputWidgets": {},
     "nuid": "c4cfabf9-37ce-44e8-955a-8744c3651d7b",
     "showTitle": false,
     "title": ""
    }
   },
   "outputs": [],
   "source": [
    "column_names = [\"cod_org_sup\", \"cod_org\", \"unid_gestora\", \n",
    "                \"ano_extrato\", \"mes_extrato\", \"cpf_portador\", \n",
    "                \"nome_portador\", \"cnpj_cpf_fav\", \"nome_fav\",\n",
    "                \"transaction\", \"dt_trans\", \"vlr_trans\"]\n",
    "\n",
    "df.columns = column_names"
   ]
  },
  {
   "cell_type": "code",
   "execution_count": 0,
   "metadata": {
    "application/vnd.databricks.v1+cell": {
     "cellMetadata": {
      "byteLimit": 2048000,
      "rowLimit": 10000
     },
     "inputWidgets": {},
     "nuid": "3d4960b8-51d5-48e9-80ed-488afc835010",
     "showTitle": false,
     "title": ""
    }
   },
   "outputs": [],
   "source": [
    "df[[\"cod_org_sup\", \"cod_org\", \"unid_gestora\"]] = df[[\"cod_org_sup\", \"cod_org\", \"unid_gestora\"]].astype(int)"
   ]
  },
  {
   "cell_type": "code",
   "execution_count": 0,
   "metadata": {
    "application/vnd.databricks.v1+cell": {
     "cellMetadata": {
      "byteLimit": 2048000,
      "rowLimit": 10000
     },
     "inputWidgets": {},
     "nuid": "effa87c9-3a6b-4cd8-917b-22c5bce963c8",
     "showTitle": false,
     "title": ""
    }
   },
   "outputs": [],
   "source": [
    "df = df.to_spark()"
   ]
  },
  {
   "cell_type": "code",
   "execution_count": 0,
   "metadata": {
    "application/vnd.databricks.v1+cell": {
     "cellMetadata": {
      "byteLimit": 2048000,
      "implicitDf": true,
      "rowLimit": 10000
     },
     "inputWidgets": {},
     "nuid": "25657c6f-224f-4dbd-9ffd-e6517dade76b",
     "showTitle": false,
     "title": ""
    }
   },
   "outputs": [
    {
     "output_type": "display_data",
     "data": {
      "text/html": [
       "<style scoped>\n",
       "  .table-result-container {\n",
       "    max-height: 300px;\n",
       "    overflow: auto;\n",
       "  }\n",
       "  table, th, td {\n",
       "    border: 1px solid black;\n",
       "    border-collapse: collapse;\n",
       "  }\n",
       "  th, td {\n",
       "    padding: 5px;\n",
       "  }\n",
       "  th {\n",
       "    text-align: left;\n",
       "  }\n",
       "</style><div class='table-result-container'><table class='table-result'><thead style='background-color: white'><tr></tr></thead><tbody></tbody></table></div>"
      ]
     },
     "metadata": {
      "application/vnd.databricks.v1+output": {
       "addedWidgets": {},
       "aggData": [],
       "aggError": "",
       "aggOverflow": false,
       "aggSchema": [],
       "aggSeriesLimitReached": false,
       "aggType": "",
       "arguments": {},
       "columnCustomDisplayInfos": {},
       "data": [],
       "datasetInfos": [],
       "dbfsResultPath": null,
       "isJsonSchema": true,
       "metadata": {},
       "overflow": false,
       "plotOptions": {
        "customPlotOptions": {},
        "displayType": "table",
        "pivotAggregation": null,
        "pivotColumns": null,
        "xColumns": null,
        "yColumns": null
       },
       "removedWidgets": [],
       "schema": [],
       "type": "table"
      }
     },
     "output_type": "display_data"
    }
   ],
   "source": [
    "%sql\n",
    "DROP TABLE IF EXISTS fato_cpgf"
   ]
  },
  {
   "cell_type": "code",
   "execution_count": 0,
   "metadata": {
    "application/vnd.databricks.v1+cell": {
     "cellMetadata": {
      "byteLimit": 2048000,
      "rowLimit": 10000
     },
     "inputWidgets": {},
     "nuid": "1c6faa55-4cf6-4bb8-8074-b9210f225f50",
     "showTitle": false,
     "title": ""
    }
   },
   "outputs": [],
   "source": [
    "# cpgf -> cartão de pagamentos do governo federal\n",
    "permanent_table_name = \"fato_cpgf\"\n",
    "# df.write.format('parquet').saveAsTable(permanent_table_name)\n",
    "df.write.mode(\"overwrite\").saveAsTable(permanent_table_name)"
   ]
  },
  {
   "cell_type": "code",
   "execution_count": 0,
   "metadata": {
    "application/vnd.databricks.v1+cell": {
     "cellMetadata": {
      "byteLimit": 2048000,
      "implicitDf": true,
      "rowLimit": 10000
     },
     "inputWidgets": {},
     "nuid": "d5567439-5df6-4d2b-a1bf-7c03c6229e4b",
     "showTitle": false,
     "title": ""
    }
   },
   "outputs": [
    {
     "output_type": "display_data",
     "data": {
      "text/html": [
       "<style scoped>\n",
       "  .table-result-container {\n",
       "    max-height: 300px;\n",
       "    overflow: auto;\n",
       "  }\n",
       "  table, th, td {\n",
       "    border: 1px solid black;\n",
       "    border-collapse: collapse;\n",
       "  }\n",
       "  th, td {\n",
       "    padding: 5px;\n",
       "  }\n",
       "  th {\n",
       "    text-align: left;\n",
       "  }\n",
       "</style><div class='table-result-container'><table class='table-result'><thead style='background-color: white'><tr><th>cod_org</th><th>ORG_LOTACAO</th><th>total_gasto</th></tr></thead><tbody><tr><td>20101</td><td>Presidência da República</td><td>2221202.95</td></tr><tr><td>25000</td><td>Ministério da Saúde</td><td>100584.24</td></tr><tr><td>30802</td><td>Departamento de Polícia Rodoviária Federal</td><td>67798.53</td></tr><tr><td>36201</td><td>Fundação Oswaldo Cruz</td><td>47141.75</td></tr><tr><td>26429</td><td>Instituto Federal de Goiás</td><td>46737.75</td></tr><tr><td>26443</td><td>Empresa Brasileira de Serviços Hospitalares</td><td>42848.09</td></tr><tr><td>32396</td><td>Agência Nacional de Mineração</td><td>38104.58</td></tr><tr><td>44207</td><td>Instituto Chico Mendes de Conservação da Biodiversidade</td><td>34163.0</td></tr><tr><td>26249</td><td>Universidade Federal Rural do Rio de Janeiro</td><td>29963.61</td></tr><tr><td>26263</td><td>Universidade Federal de Lavras - MG</td><td>28829.16</td></tr></tbody></table></div>"
      ]
     },
     "metadata": {
      "application/vnd.databricks.v1+output": {
       "addedWidgets": {},
       "aggData": [],
       "aggError": "",
       "aggOverflow": false,
       "aggSchema": [],
       "aggSeriesLimitReached": false,
       "aggType": "",
       "arguments": {},
       "columnCustomDisplayInfos": {},
       "data": [
        [
         20101,
         "Presidência da República",
         2221202.95
        ],
        [
         25000,
         "Ministério da Saúde",
         100584.24
        ],
        [
         30802,
         "Departamento de Polícia Rodoviária Federal",
         67798.53
        ],
        [
         36201,
         "Fundação Oswaldo Cruz",
         47141.75
        ],
        [
         26429,
         "Instituto Federal de Goiás",
         46737.75
        ],
        [
         26443,
         "Empresa Brasileira de Serviços Hospitalares",
         42848.09
        ],
        [
         32396,
         "Agência Nacional de Mineração",
         38104.58
        ],
        [
         44207,
         "Instituto Chico Mendes de Conservação da Biodiversidade",
         34163.0
        ],
        [
         26249,
         "Universidade Federal Rural do Rio de Janeiro",
         29963.61
        ],
        [
         26263,
         "Universidade Federal de Lavras - MG",
         28829.16
        ]
       ],
       "datasetInfos": [],
       "dbfsResultPath": null,
       "isJsonSchema": true,
       "metadata": {},
       "overflow": false,
       "plotOptions": {
        "customPlotOptions": {},
        "displayType": "table",
        "pivotAggregation": null,
        "pivotColumns": null,
        "xColumns": null,
        "yColumns": null
       },
       "removedWidgets": [],
       "schema": [
        {
         "metadata": "{}",
         "name": "cod_org",
         "type": "\"long\""
        },
        {
         "metadata": "{\"comment\":\"Nome do órgão de lotação\"}",
         "name": "ORG_LOTACAO",
         "type": "\"string\""
        },
        {
         "metadata": "{}",
         "name": "total_gasto",
         "type": "\"double\""
        }
       ],
       "type": "table"
      }
     },
     "output_type": "display_data"
    }
   ],
   "source": [
    "%sql\n",
    "SELECT\n",
    "    fc.cod_org, ol.ORG_LOTACAO,     \n",
    "    ROUND(SUM(fc.vlr_trans), 2) AS total_gasto\n",
    "FROM\n",
    "    fato_cpgf fc\n",
    "INNER JOIN \n",
    "    org_lotacao ol \n",
    "ON\n",
    "    fc.cod_org = ol.COD_ORG_LOTACAO\n",
    "GROUP BY\n",
    "    fc.cod_org, ol.ORG_LOTACAO\n",
    "ORDER BY\n",
    "    total_gasto DESC\n",
    "LIMIT 10"
   ]
  },
  {
   "cell_type": "code",
   "execution_count": 0,
   "metadata": {
    "application/vnd.databricks.v1+cell": {
     "cellMetadata": {
      "byteLimit": 2048000,
      "implicitDf": true,
      "rowLimit": 10000
     },
     "inputWidgets": {},
     "nuid": "6fc44633-f73f-4a3d-b60e-febde7d82bb6",
     "showTitle": false,
     "title": ""
    }
   },
   "outputs": [
    {
     "output_type": "display_data",
     "data": {
      "text/html": [
       "<style scoped>\n",
       "  .table-result-container {\n",
       "    max-height: 300px;\n",
       "    overflow: auto;\n",
       "  }\n",
       "  table, th, td {\n",
       "    border: 1px solid black;\n",
       "    border-collapse: collapse;\n",
       "  }\n",
       "  th, td {\n",
       "    padding: 5px;\n",
       "  }\n",
       "  th {\n",
       "    text-align: left;\n",
       "  }\n",
       "</style><div class='table-result-container'><table class='table-result'><thead style='background-color: white'><tr><th>nome_portador</th><th>UORG_LOTACAO</th><th>total_gasto</th></tr></thead><tbody><tr><td>ANTENOR FONSECA DE OLIVEIRA FILHO</td><td>CENTRO DE REGISTRO E CONTROLE ACADEMICO</td><td>40233.66</td></tr><tr><td>NISVAL FERREIRA GUIMARAES</td><td>DIRECAO GERAL CAMPUS INHUMAS</td><td>38000.58</td></tr><tr><td>RICARDO YANEZ NOGUEIRA</td><td>INSTITUTO NAC DE CONTROL QUALID EM SAUDE</td><td>27917.96</td></tr><tr><td>DAVID CEZARIO DE SOUZA FILHO</td><td>INSTITUTO DE TECNOLOGIA EM IMUNOBIOLOGIC</td><td>27250.36</td></tr><tr><td>FERNANDO FRANCISCO DE SOUZA</td><td>DIRECAO GERAL CAMPUS INHUMAS</td><td>24808.42</td></tr><tr><td>MARCIA MARIA HENGEMUHLE</td><td>HOSPITAL UNIVERSITARIO DA UFSM</td><td>24260.94</td></tr><tr><td>LEONARDO LIMA BERGAMINI</td><td>GERENCIA DE MEIO AMBIENTE E GEOGRAFIA</td><td>21431.98</td></tr><tr><td>PAULO CESAR DO NASCIMENTO CORREA</td><td>COORDENACAO GERAL INFRAESTRUTURA CAMPI</td><td>21417.6</td></tr><tr><td>ANTENOR FONSECA DE OLIVEIRA FILHO</td><td>DIRETORIA DE PLANEJAMENTO</td><td>20116.83</td></tr><tr><td>ANTENOR FONSECA DE OLIVEIRA FILHO</td><td>DIVISAO OPERACIONAL</td><td>20116.83</td></tr></tbody></table></div>"
      ]
     },
     "metadata": {
      "application/vnd.databricks.v1+output": {
       "addedWidgets": {},
       "aggData": [],
       "aggError": "",
       "aggOverflow": false,
       "aggSchema": [],
       "aggSeriesLimitReached": false,
       "aggType": "",
       "arguments": {},
       "columnCustomDisplayInfos": {},
       "data": [
        [
         "ANTENOR FONSECA DE OLIVEIRA FILHO",
         "CENTRO DE REGISTRO E CONTROLE ACADEMICO",
         40233.66
        ],
        [
         "NISVAL FERREIRA GUIMARAES",
         "DIRECAO GERAL CAMPUS INHUMAS",
         38000.58
        ],
        [
         "RICARDO YANEZ NOGUEIRA",
         "INSTITUTO NAC DE CONTROL QUALID EM SAUDE",
         27917.96
        ],
        [
         "DAVID CEZARIO DE SOUZA FILHO",
         "INSTITUTO DE TECNOLOGIA EM IMUNOBIOLOGIC",
         27250.36
        ],
        [
         "FERNANDO FRANCISCO DE SOUZA",
         "DIRECAO GERAL CAMPUS INHUMAS",
         24808.42
        ],
        [
         "MARCIA MARIA HENGEMUHLE",
         "HOSPITAL UNIVERSITARIO DA UFSM",
         24260.94
        ],
        [
         "LEONARDO LIMA BERGAMINI",
         "GERENCIA DE MEIO AMBIENTE E GEOGRAFIA",
         21431.98
        ],
        [
         "PAULO CESAR DO NASCIMENTO CORREA",
         "COORDENACAO GERAL INFRAESTRUTURA CAMPI",
         21417.6
        ],
        [
         "ANTENOR FONSECA DE OLIVEIRA FILHO",
         "DIRETORIA DE PLANEJAMENTO",
         20116.83
        ],
        [
         "ANTENOR FONSECA DE OLIVEIRA FILHO",
         "DIVISAO OPERACIONAL",
         20116.83
        ]
       ],
       "datasetInfos": [],
       "dbfsResultPath": null,
       "isJsonSchema": true,
       "metadata": {},
       "overflow": false,
       "plotOptions": {
        "customPlotOptions": {},
        "displayType": "table",
        "pivotAggregation": null,
        "pivotColumns": null,
        "xColumns": null,
        "yColumns": null
       },
       "removedWidgets": [],
       "schema": [
        {
         "metadata": "{}",
         "name": "nome_portador",
         "type": "\"string\""
        },
        {
         "metadata": "{\"comment\":\"Descrição da lotação\"}",
         "name": "UORG_LOTACAO",
         "type": "\"string\""
        },
        {
         "metadata": "{}",
         "name": "total_gasto",
         "type": "\"double\""
        }
       ],
       "type": "table"
      }
     },
     "output_type": "display_data"
    }
   ],
   "source": [
    "%sql\n",
    "SELECT \n",
    "  fc.nome_portador, ug.UORG_LOTACAO, \n",
    "  round(sum(fc.vlr_trans), 2) AS total_gasto\n",
    "FROM \n",
    "  fato_cpgf fc\n",
    "INNER JOIN\n",
    "  cadastro_servidores cs\n",
    "ON\n",
    "  fc.cpf_portador = cs.CPF\n",
    "INNER JOIN\n",
    "  qualificacao_servidores qs\n",
    "ON\n",
    "  qs.Id_SERVIDOR_PORTAL = cs.id_SERVIDOR_PORTAL\n",
    "INNER JOIN\n",
    "  unid_org ug\n",
    "ON\n",
    "  qs.COD_UORG_LOTACAO = ug.COD_UORG_LOTACAO\n",
    "GROUP BY\n",
    "  fc.nome_portador, ug.UORG_LOTACAO\n",
    "ORDER BY\n",
    "  total_gasto DESC\n",
    "LIMIT 10"
   ]
  },
  {
   "cell_type": "code",
   "execution_count": 0,
   "metadata": {
    "application/vnd.databricks.v1+cell": {
     "cellMetadata": {
      "byteLimit": 2048000,
      "implicitDf": true,
      "rowLimit": 10000
     },
     "inputWidgets": {},
     "nuid": "448209a3-7c3a-4a02-9dd4-7f33dc58bcc3",
     "showTitle": false,
     "title": ""
    }
   },
   "outputs": [
    {
     "output_type": "display_data",
     "data": {
      "text/html": [
       "<style scoped>\n",
       "  .table-result-container {\n",
       "    max-height: 300px;\n",
       "    overflow: auto;\n",
       "  }\n",
       "  table, th, td {\n",
       "    border: 1px solid black;\n",
       "    border-collapse: collapse;\n",
       "  }\n",
       "  th, td {\n",
       "    padding: 5px;\n",
       "  }\n",
       "  th {\n",
       "    text-align: left;\n",
       "  }\n",
       "</style><div class='table-result-container'><table class='table-result'><thead style='background-color: white'><tr><th>cod_org</th><th>ORG_LOTACAO</th><th>total_gasto</th></tr></thead><tbody><tr><td>20101</td><td>Presidência da República</td><td>2221202.95</td></tr><tr><td>25000</td><td>Ministério da Saúde</td><td>100584.24</td></tr><tr><td>30802</td><td>Departamento de Polícia Rodoviária Federal</td><td>67798.53</td></tr><tr><td>36201</td><td>Fundação Oswaldo Cruz</td><td>47141.75</td></tr><tr><td>26429</td><td>Instituto Federal de Goiás</td><td>46737.75</td></tr><tr><td>26443</td><td>Empresa Brasileira de Serviços Hospitalares</td><td>42848.09</td></tr><tr><td>32396</td><td>Agência Nacional de Mineração</td><td>38104.58</td></tr><tr><td>44207</td><td>Instituto Chico Mendes de Conservação da Biodiversidade</td><td>34163.0</td></tr><tr><td>26249</td><td>Universidade Federal Rural do Rio de Janeiro</td><td>29963.61</td></tr><tr><td>26263</td><td>Universidade Federal de Lavras - MG</td><td>28829.16</td></tr><tr><td>22202</td><td>Empresa Brasileira de Pesquisa Agropecuária</td><td>28826.24</td></tr><tr><td>29214</td><td>Companhia Brasileira de Trens Urbanos</td><td>22683.03</td></tr><tr><td>22203</td><td>Companhia de Desenvolvimento dos Vales do São Francisco e do Parnaíba</td><td>21465.82</td></tr><tr><td>26292</td><td>Fundação Joaquim Nabuco</td><td>20776.78</td></tr><tr><td>25201</td><td>Banco Central do Brasil</td><td>17671.98</td></tr><tr><td>26402</td><td>Instituto Federal de Alagoas</td><td>16227.04</td></tr><tr><td>26406</td><td>Instituto Federal do Espírito Santo</td><td>13817.26</td></tr><tr><td>26404</td><td>Instituto Federal Baiano</td><td>13414.47</td></tr><tr><td>26409</td><td>Instituto Federal de Minas Gerais</td><td>12806.35</td></tr><tr><td>26408</td><td>Instituto Federal do Maranhão</td><td>12322.51</td></tr><tr><td>26237</td><td>Universidade Federal de Juiz de Fora - MG</td><td>11578.23</td></tr><tr><td>26280</td><td>Universidade Federal de São Carlos - SP</td><td>11114.45</td></tr><tr><td>26422</td><td>Instituto Federal Catarinense</td><td>10831.63</td></tr><tr><td>26247</td><td>Universidade Federal de Santa Maria - RS</td><td>10357.71</td></tr><tr><td>26281</td><td>Fundação Universidade Federal de Sergipe</td><td>10156.14</td></tr><tr><td>26351</td><td>Universidade Federal do Recôncavo da Bahia</td><td>10028.14</td></tr><tr><td>26268</td><td>Fundação Universidade Federal de Rondônia</td><td>10000.0</td></tr><tr><td>53202</td><td>Superintendência do Desenvolvimento da Amazônia</td><td>9955.57</td></tr><tr><td>26278</td><td>Fundação Universidade Federal de Pelotas</td><td>9328.48</td></tr><tr><td>26419</td><td>Instituto Federal do Rio Grande do Sul</td><td>8980.76</td></tr><tr><td>26277</td><td>Fundação Universidade Federal de Ouro Preto</td><td>8731.49</td></tr><tr><td>26257</td><td>Centro Federal de Educação Tecnológica de Minas Gerais</td><td>8688.56</td></tr><tr><td>26285</td><td>Fundação Universidade Federal de São João del-Rei</td><td>8657.8</td></tr><tr><td>26415</td><td>Instituto Federal de Mato Grosso do Sul</td><td>7940.79</td></tr><tr><td>26260</td><td>Universidade Federal de Alfenas - MG</td><td>6719.48</td></tr><tr><td>37000</td><td>Defensoria Pública da União</td><td>5707.94</td></tr><tr><td>26417</td><td>Instituto Federal da Paraíba</td><td>5565.7</td></tr><tr><td>26411</td><td>Instituto Federal do Sudeste de Minas Gerais</td><td>5559.67</td></tr><tr><td>44205</td><td>Agência Nacional de Águas</td><td>5188.23</td></tr><tr><td>26248</td><td>Universidade Federal Rural de Pernambuco</td><td>5142.0</td></tr><tr><td>26405</td><td>Instituto Federal do Ceará</td><td>4828.81</td></tr><tr><td>32000</td><td>Ministério de Minas e Energia</td><td>4792.9</td></tr><tr><td>26439</td><td>Instituto Federal de São Paulo</td><td>4555.15</td></tr><tr><td>26276</td><td>Universidade Federal de Mato Grosso</td><td>4276.53</td></tr><tr><td>26284</td><td>Universidade Federal de Ciências da Saúde de Porto Alegre</td><td>4267.21</td></tr><tr><td>26235</td><td>Universidade Federal de Goiás</td><td>3847.05</td></tr><tr><td>39250</td><td>Agência Nacional de Transportes Terrestres</td><td>3778.05</td></tr><tr><td>26414</td><td>Instituto Federal de Mato Grosso</td><td>3650.65</td></tr><tr><td>26275</td><td>Universidade Federal do Acre</td><td>3613.32</td></tr><tr><td>30203</td><td>Instituto Nacional de Metrologia, Qualidade e Tecnologia</td><td>3521.6</td></tr><tr><td>26421</td><td>Instituto Federal de Rondônia</td><td>3305.02</td></tr><tr><td>26258</td><td>Universidade Tecnológica Federal do Paraná</td><td>3007.11</td></tr><tr><td>26412</td><td>Instituto Federal do Sul de Minas Gerais</td><td>2716.68</td></tr><tr><td>26244</td><td>Universidade Federal do Rio Grande do Sul</td><td>2646.08</td></tr><tr><td>53203</td><td>Superintendência do Desenvolvimento do Nordeste</td><td>2643.2</td></tr><tr><td>26436</td><td>Instituto Federal Sul-rio-grandense</td><td>2493.87</td></tr><tr><td>26232</td><td>Universidade Federal da Bahia</td><td>2475.28</td></tr><tr><td>26261</td><td>Universidade Federal de Itajubá - MG</td><td>2269.51</td></tr><tr><td>26433</td><td>Instituto Federal do Rio de Janeiro</td><td>2214.16</td></tr><tr><td>35000</td><td>Ministério das Relações Exteriores</td><td>2178.7</td></tr><tr><td>26440</td><td>Universidade Federal da Fronteira Sul</td><td>1880.1</td></tr><tr><td>20415</td><td>Empresa Brasil de Comunicação</td><td>1710.36</td></tr><tr><td>26350</td><td>Fundação Universidade Federal da Grande Dourados</td><td>1676.7</td></tr><tr><td>33206</td><td>Superintendência Nacional de Previdência Complementar</td><td>1459.0</td></tr><tr><td>26410</td><td>Instituto Federal do Norte de Minas Gerais</td><td>1416.0</td></tr><tr><td>26452</td><td>UNIVERSIDADE FEDERAL DE CATALAO</td><td>1321.39</td></tr><tr><td>26269</td><td>Universidade Federal do Estado do Rio de Janeiro</td><td>1282.91</td></tr><tr><td>39252</td><td>Departamento Nacional de Infraestrutura de Transportes</td><td>1271.86</td></tr><tr><td>26267</td><td>Universidade Federal da Integração Latino-Americana</td><td>1135.0</td></tr><tr><td>26246</td><td>Universidade Federal de Santa Catarina</td><td>1093.06</td></tr><tr><td>26432</td><td>Instituto Federal do Paraná</td><td>1000.0</td></tr><tr><td>26242</td><td>Universidade Federal de Pernambuco</td><td>952.08</td></tr><tr><td>41231</td><td>Agência Nacional de Telecomunicações</td><td>780.0</td></tr><tr><td>26239</td><td>Universidade Federal do Pará</td><td>762.2</td></tr><tr><td>42207</td><td>Instituto Brasileiro de Museus</td><td>681.75</td></tr><tr><td>26254</td><td>Universidade Federal do Triângulo Mineiro</td><td>676.0</td></tr><tr><td>26424</td><td>Instituto Federal do Tocantins</td><td>673.2</td></tr><tr><td>26283</td><td>Universidade Federal de Mato Grosso do Sul</td><td>412.4</td></tr><tr><td>26273</td><td>Universidade Federal do Rio Grande - RS</td><td>397.75</td></tr><tr><td>26264</td><td>Universidade Federal Rural do Semi-Árido - RN</td><td>200.0</td></tr><tr><td>26255</td><td>Universidade Federal dos Vales do Jequitinhonha e Mucuri</td><td>108.0</td></tr></tbody></table></div>"
      ]
     },
     "metadata": {
      "application/vnd.databricks.v1+output": {
       "addedWidgets": {},
       "aggData": [],
       "aggError": "",
       "aggOverflow": false,
       "aggSchema": [],
       "aggSeriesLimitReached": false,
       "aggType": "",
       "arguments": {},
       "columnCustomDisplayInfos": {},
       "data": [
        [
         20101,
         "Presidência da República",
         2221202.95
        ],
        [
         25000,
         "Ministério da Saúde",
         100584.24
        ],
        [
         30802,
         "Departamento de Polícia Rodoviária Federal",
         67798.53
        ],
        [
         36201,
         "Fundação Oswaldo Cruz",
         47141.75
        ],
        [
         26429,
         "Instituto Federal de Goiás",
         46737.75
        ],
        [
         26443,
         "Empresa Brasileira de Serviços Hospitalares",
         42848.09
        ],
        [
         32396,
         "Agência Nacional de Mineração",
         38104.58
        ],
        [
         44207,
         "Instituto Chico Mendes de Conservação da Biodiversidade",
         34163.0
        ],
        [
         26249,
         "Universidade Federal Rural do Rio de Janeiro",
         29963.61
        ],
        [
         26263,
         "Universidade Federal de Lavras - MG",
         28829.16
        ],
        [
         22202,
         "Empresa Brasileira de Pesquisa Agropecuária",
         28826.24
        ],
        [
         29214,
         "Companhia Brasileira de Trens Urbanos",
         22683.03
        ],
        [
         22203,
         "Companhia de Desenvolvimento dos Vales do São Francisco e do Parnaíba",
         21465.82
        ],
        [
         26292,
         "Fundação Joaquim Nabuco",
         20776.78
        ],
        [
         25201,
         "Banco Central do Brasil",
         17671.98
        ],
        [
         26402,
         "Instituto Federal de Alagoas",
         16227.04
        ],
        [
         26406,
         "Instituto Federal do Espírito Santo",
         13817.26
        ],
        [
         26404,
         "Instituto Federal Baiano",
         13414.47
        ],
        [
         26409,
         "Instituto Federal de Minas Gerais",
         12806.35
        ],
        [
         26408,
         "Instituto Federal do Maranhão",
         12322.51
        ],
        [
         26237,
         "Universidade Federal de Juiz de Fora - MG",
         11578.23
        ],
        [
         26280,
         "Universidade Federal de São Carlos - SP",
         11114.45
        ],
        [
         26422,
         "Instituto Federal Catarinense",
         10831.63
        ],
        [
         26247,
         "Universidade Federal de Santa Maria - RS",
         10357.71
        ],
        [
         26281,
         "Fundação Universidade Federal de Sergipe",
         10156.14
        ],
        [
         26351,
         "Universidade Federal do Recôncavo da Bahia",
         10028.14
        ],
        [
         26268,
         "Fundação Universidade Federal de Rondônia",
         10000.0
        ],
        [
         53202,
         "Superintendência do Desenvolvimento da Amazônia",
         9955.57
        ],
        [
         26278,
         "Fundação Universidade Federal de Pelotas",
         9328.48
        ],
        [
         26419,
         "Instituto Federal do Rio Grande do Sul",
         8980.76
        ],
        [
         26277,
         "Fundação Universidade Federal de Ouro Preto",
         8731.49
        ],
        [
         26257,
         "Centro Federal de Educação Tecnológica de Minas Gerais",
         8688.56
        ],
        [
         26285,
         "Fundação Universidade Federal de São João del-Rei",
         8657.8
        ],
        [
         26415,
         "Instituto Federal de Mato Grosso do Sul",
         7940.79
        ],
        [
         26260,
         "Universidade Federal de Alfenas - MG",
         6719.48
        ],
        [
         37000,
         "Defensoria Pública da União",
         5707.94
        ],
        [
         26417,
         "Instituto Federal da Paraíba",
         5565.7
        ],
        [
         26411,
         "Instituto Federal do Sudeste de Minas Gerais",
         5559.67
        ],
        [
         44205,
         "Agência Nacional de Águas",
         5188.23
        ],
        [
         26248,
         "Universidade Federal Rural de Pernambuco",
         5142.0
        ],
        [
         26405,
         "Instituto Federal do Ceará",
         4828.81
        ],
        [
         32000,
         "Ministério de Minas e Energia",
         4792.9
        ],
        [
         26439,
         "Instituto Federal de São Paulo",
         4555.15
        ],
        [
         26276,
         "Universidade Federal de Mato Grosso",
         4276.53
        ],
        [
         26284,
         "Universidade Federal de Ciências da Saúde de Porto Alegre",
         4267.21
        ],
        [
         26235,
         "Universidade Federal de Goiás",
         3847.05
        ],
        [
         39250,
         "Agência Nacional de Transportes Terrestres",
         3778.05
        ],
        [
         26414,
         "Instituto Federal de Mato Grosso",
         3650.65
        ],
        [
         26275,
         "Universidade Federal do Acre",
         3613.32
        ],
        [
         30203,
         "Instituto Nacional de Metrologia, Qualidade e Tecnologia",
         3521.6
        ],
        [
         26421,
         "Instituto Federal de Rondônia",
         3305.02
        ],
        [
         26258,
         "Universidade Tecnológica Federal do Paraná",
         3007.11
        ],
        [
         26412,
         "Instituto Federal do Sul de Minas Gerais",
         2716.68
        ],
        [
         26244,
         "Universidade Federal do Rio Grande do Sul",
         2646.08
        ],
        [
         53203,
         "Superintendência do Desenvolvimento do Nordeste",
         2643.2
        ],
        [
         26436,
         "Instituto Federal Sul-rio-grandense",
         2493.87
        ],
        [
         26232,
         "Universidade Federal da Bahia",
         2475.28
        ],
        [
         26261,
         "Universidade Federal de Itajubá - MG",
         2269.51
        ],
        [
         26433,
         "Instituto Federal do Rio de Janeiro",
         2214.16
        ],
        [
         35000,
         "Ministério das Relações Exteriores",
         2178.7
        ],
        [
         26440,
         "Universidade Federal da Fronteira Sul",
         1880.1
        ],
        [
         20415,
         "Empresa Brasil de Comunicação",
         1710.36
        ],
        [
         26350,
         "Fundação Universidade Federal da Grande Dourados",
         1676.7
        ],
        [
         33206,
         "Superintendência Nacional de Previdência Complementar",
         1459.0
        ],
        [
         26410,
         "Instituto Federal do Norte de Minas Gerais",
         1416.0
        ],
        [
         26452,
         "UNIVERSIDADE FEDERAL DE CATALAO",
         1321.39
        ],
        [
         26269,
         "Universidade Federal do Estado do Rio de Janeiro",
         1282.91
        ],
        [
         39252,
         "Departamento Nacional de Infraestrutura de Transportes",
         1271.86
        ],
        [
         26267,
         "Universidade Federal da Integração Latino-Americana",
         1135.0
        ],
        [
         26246,
         "Universidade Federal de Santa Catarina",
         1093.06
        ],
        [
         26432,
         "Instituto Federal do Paraná",
         1000.0
        ],
        [
         26242,
         "Universidade Federal de Pernambuco",
         952.08
        ],
        [
         41231,
         "Agência Nacional de Telecomunicações",
         780.0
        ],
        [
         26239,
         "Universidade Federal do Pará",
         762.2
        ],
        [
         42207,
         "Instituto Brasileiro de Museus",
         681.75
        ],
        [
         26254,
         "Universidade Federal do Triângulo Mineiro",
         676.0
        ],
        [
         26424,
         "Instituto Federal do Tocantins",
         673.2
        ],
        [
         26283,
         "Universidade Federal de Mato Grosso do Sul",
         412.4
        ],
        [
         26273,
         "Universidade Federal do Rio Grande - RS",
         397.75
        ],
        [
         26264,
         "Universidade Federal Rural do Semi-Árido - RN",
         200.0
        ],
        [
         26255,
         "Universidade Federal dos Vales do Jequitinhonha e Mucuri",
         108.0
        ]
       ],
       "datasetInfos": [],
       "dbfsResultPath": null,
       "isJsonSchema": true,
       "metadata": {},
       "overflow": false,
       "plotOptions": {
        "customPlotOptions": {},
        "displayType": "table",
        "pivotAggregation": null,
        "pivotColumns": null,
        "xColumns": null,
        "yColumns": null
       },
       "removedWidgets": [],
       "schema": [
        {
         "metadata": "{}",
         "name": "cod_org",
         "type": "\"long\""
        },
        {
         "metadata": "{\"comment\":\"Nome do órgão de lotação\"}",
         "name": "ORG_LOTACAO",
         "type": "\"string\""
        },
        {
         "metadata": "{}",
         "name": "total_gasto",
         "type": "\"double\""
        }
       ],
       "type": "table"
      }
     },
     "output_type": "display_data"
    }
   ],
   "source": [
    "%sql\n",
    "SELECT\n",
    "    fc.cod_org, ol.ORG_LOTACAO, \n",
    "    ROUND(SUM(fc.vlr_trans), 2) AS total_gasto\n",
    "FROM\n",
    "    fato_cpgf fc\n",
    "INNER JOIN \n",
    "    org_lotacao ol \n",
    "ON\n",
    "    fc.cod_org = ol.COD_ORG_LOTACAO\n",
    "GROUP BY\n",
    "    fc.cod_org, ol.ORG_LOTACAO\n",
    "ORDER BY\n",
    "    total_gasto DESC"
   ]
  },
  {
   "cell_type": "code",
   "execution_count": 0,
   "metadata": {
    "application/vnd.databricks.v1+cell": {
     "cellMetadata": {
      "byteLimit": 2048000,
      "implicitDf": true,
      "rowLimit": 10000
     },
     "inputWidgets": {},
     "nuid": "57b7173d-52e1-48de-8283-29f964e0191f",
     "showTitle": false,
     "title": ""
    }
   },
   "outputs": [
    {
     "output_type": "display_data",
     "data": {
      "text/html": [
       "<style scoped>\n",
       "  .table-result-container {\n",
       "    max-height: 300px;\n",
       "    overflow: auto;\n",
       "  }\n",
       "  table, th, td {\n",
       "    border: 1px solid black;\n",
       "    border-collapse: collapse;\n",
       "  }\n",
       "  th, td {\n",
       "    padding: 5px;\n",
       "  }\n",
       "  th {\n",
       "    text-align: left;\n",
       "  }\n",
       "</style><div class='table-result-container'><table class='table-result'><thead style='background-color: white'><tr><th>cod_org</th><th>ORG_LOTACAO</th><th>total_gasto</th></tr></thead><tbody><tr><td>20101</td><td>Presidência da República</td><td>2221202.95</td></tr><tr><td>25000</td><td>Ministério da Saúde</td><td>100584.24</td></tr><tr><td>30802</td><td>Departamento de Polícia Rodoviária Federal</td><td>67798.53</td></tr><tr><td>36201</td><td>Fundação Oswaldo Cruz</td><td>47141.75</td></tr><tr><td>26429</td><td>Instituto Federal de Goiás</td><td>46737.75</td></tr><tr><td>26443</td><td>Empresa Brasileira de Serviços Hospitalares</td><td>42848.09</td></tr></tbody></table></div>"
      ]
     },
     "metadata": {
      "application/vnd.databricks.v1+output": {
       "addedWidgets": {},
       "aggData": [],
       "aggError": "",
       "aggOverflow": false,
       "aggSchema": [],
       "aggSeriesLimitReached": false,
       "aggType": "",
       "arguments": {},
       "columnCustomDisplayInfos": {},
       "data": [
        [
         20101,
         "Presidência da República",
         2221202.95
        ],
        [
         25000,
         "Ministério da Saúde",
         100584.24
        ],
        [
         30802,
         "Departamento de Polícia Rodoviária Federal",
         67798.53
        ],
        [
         36201,
         "Fundação Oswaldo Cruz",
         47141.75
        ],
        [
         26429,
         "Instituto Federal de Goiás",
         46737.75
        ],
        [
         26443,
         "Empresa Brasileira de Serviços Hospitalares",
         42848.09
        ]
       ],
       "datasetInfos": [],
       "dbfsResultPath": null,
       "isJsonSchema": true,
       "metadata": {},
       "overflow": false,
       "plotOptions": {
        "customPlotOptions": {},
        "displayType": "table",
        "pivotAggregation": null,
        "pivotColumns": null,
        "xColumns": null,
        "yColumns": null
       },
       "removedWidgets": [],
       "schema": [
        {
         "metadata": "{}",
         "name": "cod_org",
         "type": "\"long\""
        },
        {
         "metadata": "{\"comment\":\"Nome do órgão de lotação\"}",
         "name": "ORG_LOTACAO",
         "type": "\"string\""
        },
        {
         "metadata": "{}",
         "name": "total_gasto",
         "type": "\"double\""
        }
       ],
       "type": "table"
      }
     },
     "output_type": "display_data"
    }
   ],
   "source": [
    "%sql\n",
    "WITH avgspending AS (\n",
    "    SELECT\n",
    "        ROUND(AVG(total_gasto), 2) AS avg_gasto\n",
    "    FROM (\n",
    "        SELECT\n",
    "            fc.cod_org,\n",
    "            ol.ORG_LOTACAO,\n",
    "            SUM(fc.vlr_trans) AS total_gasto\n",
    "        FROM\n",
    "            fato_cpgf fc\n",
    "        INNER JOIN \n",
    "            org_lotacao ol \n",
    "        ON\n",
    "            fc.cod_org = ol.COD_ORG_LOTACAO\n",
    "        GROUP BY\n",
    "            fc.cod_org,\n",
    "            ol.ORG_LOTACAO\n",
    "  )\n",
    ")\n",
    "\n",
    "SELECT\n",
    "    fc.cod_org,\n",
    "    ol.ORG_LOTACAO,\n",
    "    ROUND(SUM(fc.vlr_trans), 2) AS total_gasto\n",
    "FROM\n",
    "    fato_cpgf fc\n",
    "INNER JOIN \n",
    "    org_lotacao ol \n",
    "ON\n",
    "    fc.cod_org = ol.COD_ORG_LOTACAO\n",
    "GROUP BY\n",
    "    fc.cod_org,\n",
    "    ol.ORG_LOTACAO\n",
    "HAVING\n",
    "    SUM(fc.vlr_trans) > (SELECT avg_gasto FROM avgspending)\n",
    "ORDER BY\n",
    "    total_gasto DESC"
   ]
  }
 ],
 "metadata": {
  "application/vnd.databricks.v1+notebook": {
   "dashboards": [],
   "environmentMetadata": null,
   "language": "python",
   "notebookMetadata": {
    "mostRecentlyExecutedCommandWithImplicitDF": {
     "commandId": 3244870935421704,
     "dataframes": [
      "_sqldf"
     ]
    },
    "pythonIndentUnit": 4
   },
   "notebookName": "ETL Cartão de Pagamentos do Governo Federal",
   "widgets": {}
  }
 },
 "nbformat": 4,
 "nbformat_minor": 0
}
