{
 "cells": [
  {
   "cell_type": "markdown",
   "metadata": {
    "application/vnd.databricks.v1+cell": {
     "cellMetadata": {
      "byteLimit": 2048000,
      "rowLimit": 10000
     },
     "inputWidgets": {},
     "nuid": "96816ed7-b08a-4ca3-abb9-f99880c3535d",
     "showTitle": false,
     "title": ""
    }
   },
   "source": [
    "\n",
    "## Overview\n",
    "\n",
    "Esse notebook cria uma tabela permanente no DBFS com os dados de Cartão Corporativo do Governo Federal. Esta tabela é considerada a tabela 'fato', pois contém os valores das transações. A tabela também foi normalizada para compor o modelo 'estrela'. \n",
    "Este notebook responde às questões propostas no PDF do MVP2."
   ]
  },
  {
   "cell_type": "code",
   "execution_count": 0,
   "metadata": {
    "application/vnd.databricks.v1+cell": {
     "cellMetadata": {
      "byteLimit": 2048000,
      "rowLimit": 10000
     },
     "inputWidgets": {},
     "nuid": "e59150c0-43ec-4166-bb4b-a2abf9ff5cda",
     "showTitle": false,
     "title": ""
    }
   },
   "outputs": [],
   "source": [
    "from datetime import datetime\n",
    "from pyspark.sql.functions import col, date_format"
   ]
  },
  {
   "cell_type": "code",
   "execution_count": 0,
   "metadata": {
    "application/vnd.databricks.v1+cell": {
     "cellMetadata": {
      "byteLimit": 2048000,
      "rowLimit": 10000
     },
     "inputWidgets": {},
     "nuid": "6482be4c-f067-47c9-b0ac-35c938b94601",
     "showTitle": false,
     "title": ""
    }
   },
   "outputs": [],
   "source": [
    "# File location and type\n",
    "file_location = \"/FileStore/tables/202401_CPGF-1.csv\"\n",
    "file_type = \"csv\"\n",
    "\n",
    "# CSV options\n",
    "infer_schema = \"false\"\n",
    "first_row_is_header = \"true\"\n",
    "delimiter = \";\"\n",
    "encode = 'latin1'\n",
    "\n",
    "# The applied options are for CSV files. For other file types, these will be ignored.\n",
    "df = spark.read.format(file_type) \\\n",
    "  .option(\"inferSchema\", infer_schema) \\\n",
    "  .option(\"header\", first_row_is_header) \\\n",
    "  .option(\"sep\", delimiter) \\\n",
    "  .option(\"encoding\", encode)  \\\n",
    "  .load(file_location)\n",
    "\n",
    "display(df)"
   ]
  },
  {
   "cell_type": "code",
   "execution_count": 0,
   "metadata": {
    "application/vnd.databricks.v1+cell": {
     "cellMetadata": {
      "byteLimit": 2048000,
      "rowLimit": 10000
     },
     "inputWidgets": {},
     "nuid": "bd82bb99-1479-4d5c-be10-8c36df0f1d44",
     "showTitle": false,
     "title": ""
    }
   },
   "outputs": [],
   "source": [
    "cols_to_drop = [\"NOME ÓRGÃO SUPERIOR\", \"NOME ÓRGÃO\", \"NOME UNIDADE GESTORA\", \"NOME PORTADOR\", \"NOME FAVORECIDO\"]\n",
    "df = df.drop(*cols_to_drop)\n"
   ]
  },
  {
   "cell_type": "code",
   "execution_count": 0,
   "metadata": {
    "application/vnd.databricks.v1+cell": {
     "cellMetadata": {
      "byteLimit": 2048000,
      "rowLimit": 10000
     },
     "inputWidgets": {},
     "nuid": "88bd4c2c-0b46-4c8d-8f92-e8a18724ec46",
     "showTitle": false,
     "title": ""
    }
   },
   "outputs": [],
   "source": [
    "df = df.withColumn(\"DATA TRANSAÇÃO\", date_format(col(\"DATA TRANSAÇÃO\"), \"dd/MM/yyyy\"))"
   ]
  },
  {
   "cell_type": "code",
   "execution_count": 0,
   "metadata": {
    "application/vnd.databricks.v1+cell": {
     "cellMetadata": {
      "byteLimit": 2048000,
      "rowLimit": 10000
     },
     "inputWidgets": {},
     "nuid": "2309abbf-6e9e-4a1b-887c-f5117f9e236b",
     "showTitle": false,
     "title": ""
    }
   },
   "outputs": [
    {
     "output_type": "stream",
     "name": "stderr",
     "output_type": "stream",
     "text": [
      "/databricks/spark/python/pyspark/sql/dataframe.py:5178: FutureWarning: DataFrame.to_pandas_on_spark is deprecated. Use DataFrame.pandas_api instead.\n  warnings.warn(\n"
     ]
    }
   ],
   "source": [
    "df = df.to_pandas_on_spark()"
   ]
  },
  {
   "cell_type": "code",
   "execution_count": 0,
   "metadata": {
    "application/vnd.databricks.v1+cell": {
     "cellMetadata": {
      "byteLimit": 2048000,
      "rowLimit": 10000
     },
     "inputWidgets": {},
     "nuid": "4ccf90ed-61ed-44f6-b507-cdddcee689b2",
     "showTitle": false,
     "title": ""
    }
   },
   "outputs": [],
   "source": [
    "# df[\"DATA TRANSAÇÃO\"] = df[\"DATA TRANSAÇÃO\"].apply(lambda x: datetime.strptime(str(x), \"%d/%m/%Y\") if x not null else str(x))"
   ]
  },
  {
   "cell_type": "code",
   "execution_count": 0,
   "metadata": {
    "application/vnd.databricks.v1+cell": {
     "cellMetadata": {
      "byteLimit": 2048000,
      "rowLimit": 10000
     },
     "inputWidgets": {},
     "nuid": "7da91397-fe7b-42cb-b031-ca5e41dba27f",
     "showTitle": false,
     "title": ""
    }
   },
   "outputs": [],
   "source": [
    "df[\"VALOR TRANSAÇÃO\"] = df[\"VALOR TRANSAÇÃO\"].apply(lambda x: float(str(x).replace(\",\", \".\")))"
   ]
  },
  {
   "cell_type": "code",
   "execution_count": 0,
   "metadata": {
    "application/vnd.databricks.v1+cell": {
     "cellMetadata": {
      "byteLimit": 2048000,
      "implicitDf": true,
      "rowLimit": 10000
     },
     "inputWidgets": {},
     "nuid": "3b303a33-d07f-4642-ace9-35986a9b49e9",
     "showTitle": false,
     "title": ""
    }
   },
   "outputs": [],
   "source": [
    "df = df[(df[\"CNPJ OU CPF FAVORECIDO\"] != -1) & (df[\"CNPJ OU CPF FAVORECIDO\"] != -2)]"
   ]
  },
  {
   "cell_type": "code",
   "execution_count": 0,
   "metadata": {
    "application/vnd.databricks.v1+cell": {
     "cellMetadata": {
      "byteLimit": 2048000,
      "rowLimit": 10000
     },
     "inputWidgets": {},
     "nuid": "c4cfabf9-37ce-44e8-955a-8744c3651d7b",
     "showTitle": false,
     "title": ""
    }
   },
   "outputs": [],
   "source": [
    "column_names = [\"cod_org_sup\", \"cod_org\", \"unid_gestora\", \n",
    "                \"ano_extrato\", \"mes_extrato\", \"cpf_portador\", \n",
    "                \"cnpj_cpf_fav\", \"transaction\", \"dt_trans\", \"vlr_trans\"]\n",
    "\n",
    "df.columns = column_names"
   ]
  },
  {
   "cell_type": "code",
   "execution_count": 0,
   "metadata": {
    "application/vnd.databricks.v1+cell": {
     "cellMetadata": {
      "byteLimit": 2048000,
      "rowLimit": 10000
     },
     "inputWidgets": {},
     "nuid": "3d4960b8-51d5-48e9-80ed-488afc835010",
     "showTitle": false,
     "title": ""
    }
   },
   "outputs": [],
   "source": [
    "df[[\"cod_org_sup\", \"cod_org\", \"unid_gestora\"]] = df[[\"cod_org_sup\", \"cod_org\", \"unid_gestora\"]].astype(int)"
   ]
  },
  {
   "cell_type": "code",
   "execution_count": 0,
   "metadata": {
    "application/vnd.databricks.v1+cell": {
     "cellMetadata": {
      "byteLimit": 2048000,
      "rowLimit": 10000
     },
     "inputWidgets": {},
     "nuid": "effa87c9-3a6b-4cd8-917b-22c5bce963c8",
     "showTitle": false,
     "title": ""
    }
   },
   "outputs": [],
   "source": [
    "df = df.to_spark()"
   ]
  },
  {
   "cell_type": "code",
   "execution_count": 0,
   "metadata": {
    "application/vnd.databricks.v1+cell": {
     "cellMetadata": {
      "byteLimit": 2048000,
      "implicitDf": true,
      "rowLimit": 10000
     },
     "inputWidgets": {},
     "nuid": "25657c6f-224f-4dbd-9ffd-e6517dade76b",
     "showTitle": false,
     "title": ""
    }
   },
   "outputs": [
    {
     "output_type": "display_data",
     "data": {
      "text/html": [
       "<style scoped>\n",
       "  .table-result-container {\n",
       "    max-height: 300px;\n",
       "    overflow: auto;\n",
       "  }\n",
       "  table, th, td {\n",
       "    border: 1px solid black;\n",
       "    border-collapse: collapse;\n",
       "  }\n",
       "  th, td {\n",
       "    padding: 5px;\n",
       "  }\n",
       "  th {\n",
       "    text-align: left;\n",
       "  }\n",
       "</style><div class='table-result-container'><table class='table-result'><thead style='background-color: white'><tr></tr></thead><tbody></tbody></table></div>"
      ]
     },
     "metadata": {
      "application/vnd.databricks.v1+output": {
       "addedWidgets": {},
       "aggData": [],
       "aggError": "",
       "aggOverflow": false,
       "aggSchema": [],
       "aggSeriesLimitReached": false,
       "aggType": "",
       "arguments": {},
       "columnCustomDisplayInfos": {},
       "data": [],
       "datasetInfos": [],
       "dbfsResultPath": null,
       "isJsonSchema": true,
       "metadata": {},
       "overflow": false,
       "plotOptions": {
        "customPlotOptions": {},
        "displayType": "table",
        "pivotAggregation": null,
        "pivotColumns": null,
        "xColumns": null,
        "yColumns": null
       },
       "removedWidgets": [],
       "schema": [],
       "type": "table"
      }
     },
     "output_type": "display_data"
    }
   ],
   "source": [
    "%sql\n",
    "DROP TABLE IF EXISTS fato_cpgf"
   ]
  },
  {
   "cell_type": "code",
   "execution_count": 0,
   "metadata": {
    "application/vnd.databricks.v1+cell": {
     "cellMetadata": {
      "byteLimit": 2048000,
      "rowLimit": 10000
     },
     "inputWidgets": {},
     "nuid": "1c6faa55-4cf6-4bb8-8074-b9210f225f50",
     "showTitle": false,
     "title": ""
    }
   },
   "outputs": [],
   "source": [
    "# cpgf -> cartão de pagamentos do governo federal\n",
    "permanent_table_name = \"fato_cpgf\"\n",
    "# df.write.format('parquet').saveAsTable(permanent_table_name)\n",
    "df.write.mode(\"overwrite\").saveAsTable(permanent_table_name)"
   ]
  },
  {
   "cell_type": "code",
   "execution_count": 0,
   "metadata": {
    "application/vnd.databricks.v1+cell": {
     "cellMetadata": {
      "byteLimit": 2048000,
      "implicitDf": true,
      "rowLimit": 10000
     },
     "inputWidgets": {},
     "nuid": "3a8b3bc6-7c81-4e3d-8fa9-47b4e1bdd86c",
     "showTitle": false,
     "title": ""
    }
   },
   "outputs": [
    {
     "output_type": "display_data",
     "data": {
      "text/html": [
       "<style scoped>\n",
       "  .table-result-container {\n",
       "    max-height: 300px;\n",
       "    overflow: auto;\n",
       "  }\n",
       "  table, th, td {\n",
       "    border: 1px solid black;\n",
       "    border-collapse: collapse;\n",
       "  }\n",
       "  th, td {\n",
       "    padding: 5px;\n",
       "  }\n",
       "  th {\n",
       "    text-align: left;\n",
       "  }\n",
       "</style><div class='table-result-container'><table class='table-result'><thead style='background-color: white'><tr><th>cod_org_sup</th><th>cod_org</th><th>unid_gestora</th><th>ano_extrato</th><th>mes_extrato</th><th>cpf_portador</th><th>cnpj_cpf_fav</th><th>transaction</th><th>dt_trans</th><th>vlr_trans</th></tr></thead><tbody><tr><td>63000</td><td>63000</td><td>110161</td><td>2024</td><td>01</td><td>***.562.861-**</td><td>05136706000107</td><td>COMPRA A/V - R$ - APRES</td><td>null</td><td>720.0</td></tr><tr><td>63000</td><td>63000</td><td>110161</td><td>2024</td><td>01</td><td>***.195.852-**</td><td>19878460000145</td><td>COMPRA A/V - R$ - APRES</td><td>null</td><td>1290.0</td></tr><tr><td>63000</td><td>63000</td><td>110161</td><td>2024</td><td>01</td><td>***.195.852-**</td><td>04932603000182</td><td>COMPRA A/V - R$ - APRES</td><td>null</td><td>8.0</td></tr><tr><td>63000</td><td>63000</td><td>110161</td><td>2024</td><td>01</td><td>***.195.852-**</td><td>43283811020266</td><td>COMPRA A/V - R$ - APRES</td><td>null</td><td>16.5</td></tr><tr><td>63000</td><td>63000</td><td>110161</td><td>2024</td><td>01</td><td>***.212.021-**</td><td>07708904000387</td><td>COMPRA A/V - R$ - APRES</td><td>null</td><td>513.6</td></tr></tbody></table></div>"
      ]
     },
     "metadata": {
      "application/vnd.databricks.v1+output": {
       "addedWidgets": {},
       "aggData": [],
       "aggError": "",
       "aggOverflow": false,
       "aggSchema": [],
       "aggSeriesLimitReached": false,
       "aggType": "",
       "arguments": {},
       "columnCustomDisplayInfos": {},
       "data": [
        [
         63000,
         63000,
         110161,
         "2024",
         "01",
         "***.562.861-**",
         "05136706000107",
         "COMPRA A/V - R$ - APRES",
         null,
         720.0
        ],
        [
         63000,
         63000,
         110161,
         "2024",
         "01",
         "***.195.852-**",
         "19878460000145",
         "COMPRA A/V - R$ - APRES",
         null,
         1290.0
        ],
        [
         63000,
         63000,
         110161,
         "2024",
         "01",
         "***.195.852-**",
         "04932603000182",
         "COMPRA A/V - R$ - APRES",
         null,
         8.0
        ],
        [
         63000,
         63000,
         110161,
         "2024",
         "01",
         "***.195.852-**",
         "43283811020266",
         "COMPRA A/V - R$ - APRES",
         null,
         16.5
        ],
        [
         63000,
         63000,
         110161,
         "2024",
         "01",
         "***.212.021-**",
         "07708904000387",
         "COMPRA A/V - R$ - APRES",
         null,
         513.6
        ]
       ],
       "datasetInfos": [],
       "dbfsResultPath": null,
       "isJsonSchema": true,
       "metadata": {},
       "overflow": false,
       "plotOptions": {
        "customPlotOptions": {},
        "displayType": "table",
        "pivotAggregation": null,
        "pivotColumns": null,
        "xColumns": null,
        "yColumns": null
       },
       "removedWidgets": [],
       "schema": [
        {
         "metadata": "{}",
         "name": "cod_org_sup",
         "type": "\"long\""
        },
        {
         "metadata": "{}",
         "name": "cod_org",
         "type": "\"long\""
        },
        {
         "metadata": "{}",
         "name": "unid_gestora",
         "type": "\"long\""
        },
        {
         "metadata": "{}",
         "name": "ano_extrato",
         "type": "\"string\""
        },
        {
         "metadata": "{}",
         "name": "mes_extrato",
         "type": "\"string\""
        },
        {
         "metadata": "{}",
         "name": "cpf_portador",
         "type": "\"string\""
        },
        {
         "metadata": "{\"comment\":\"Campo que associa os dados da tabela CEIS\"}",
         "name": "cnpj_cpf_fav",
         "type": "\"string\""
        },
        {
         "metadata": "{}",
         "name": "transaction",
         "type": "\"string\""
        },
        {
         "metadata": "{\"comment\":\"Data de ocorrência da compra com o cartão corporativo\"}",
         "name": "dt_trans",
         "type": "\"string\""
        },
        {
         "metadata": "{\"comment\":\"Valor pago com cartão corporativo\"}",
         "name": "vlr_trans",
         "type": "\"double\""
        }
       ],
       "type": "table"
      }
     },
     "output_type": "display_data"
    }
   ],
   "source": [
    "%sql\n",
    "select * from fato_cpgf limit 5"
   ]
  },
  {
   "cell_type": "markdown",
   "metadata": {
    "application/vnd.databricks.v1+cell": {
     "cellMetadata": {},
     "inputWidgets": {},
     "nuid": "bb99a13d-a5fe-4098-b84a-ae384b1dcdcc",
     "showTitle": false,
     "title": ""
    }
   },
   "source": [
    "a) TOP 10 ÓRGÃOS DA ADMINISTRAÇÃO FEDERAL QUE MAIS GASTARAM COM CARTÃO CORPORATIVO EM JAN/2024"
   ]
  },
  {
   "cell_type": "code",
   "execution_count": 0,
   "metadata": {
    "application/vnd.databricks.v1+cell": {
     "cellMetadata": {
      "byteLimit": 2048000,
      "implicitDf": true,
      "rowLimit": 10000
     },
     "inputWidgets": {},
     "nuid": "d5567439-5df6-4d2b-a1bf-7c03c6229e4b",
     "showTitle": false,
     "title": ""
    }
   },
   "outputs": [
    {
     "output_type": "display_data",
     "data": {
      "text/html": [
       "<style scoped>\n",
       "  .table-result-container {\n",
       "    max-height: 300px;\n",
       "    overflow: auto;\n",
       "  }\n",
       "  table, th, td {\n",
       "    border: 1px solid black;\n",
       "    border-collapse: collapse;\n",
       "  }\n",
       "  th, td {\n",
       "    padding: 5px;\n",
       "  }\n",
       "  th {\n",
       "    text-align: left;\n",
       "  }\n",
       "</style><div class='table-result-container'><table class='table-result'><thead style='background-color: white'><tr><th>cod_org</th><th>ORG_LOTACAO</th><th>total_gasto</th></tr></thead><tbody><tr><td>20101</td><td>Presidência da República</td><td>2221202.95</td></tr><tr><td>25000</td><td>Ministério da Saúde</td><td>100584.24</td></tr><tr><td>30802</td><td>Departamento de Polícia Rodoviária Federal</td><td>67798.53</td></tr><tr><td>36201</td><td>Fundação Oswaldo Cruz</td><td>47141.75</td></tr><tr><td>26429</td><td>Instituto Federal de Goiás</td><td>46737.75</td></tr><tr><td>26443</td><td>Empresa Brasileira de Serviços Hospitalares</td><td>42848.09</td></tr><tr><td>32396</td><td>Agência Nacional de Mineração</td><td>38104.58</td></tr><tr><td>44207</td><td>Instituto Chico Mendes de Conservação da Biodiversidade</td><td>34163.0</td></tr><tr><td>26249</td><td>Universidade Federal Rural do Rio de Janeiro</td><td>29963.61</td></tr><tr><td>26263</td><td>Universidade Federal de Lavras - MG</td><td>28829.16</td></tr></tbody></table></div>"
      ]
     },
     "metadata": {
      "application/vnd.databricks.v1+output": {
       "addedWidgets": {},
       "aggData": [],
       "aggError": "",
       "aggOverflow": false,
       "aggSchema": [],
       "aggSeriesLimitReached": false,
       "aggType": "",
       "arguments": {},
       "columnCustomDisplayInfos": {},
       "data": [
        [
         20101,
         "Presidência da República",
         2221202.95
        ],
        [
         25000,
         "Ministério da Saúde",
         100584.24
        ],
        [
         30802,
         "Departamento de Polícia Rodoviária Federal",
         67798.53
        ],
        [
         36201,
         "Fundação Oswaldo Cruz",
         47141.75
        ],
        [
         26429,
         "Instituto Federal de Goiás",
         46737.75
        ],
        [
         26443,
         "Empresa Brasileira de Serviços Hospitalares",
         42848.09
        ],
        [
         32396,
         "Agência Nacional de Mineração",
         38104.58
        ],
        [
         44207,
         "Instituto Chico Mendes de Conservação da Biodiversidade",
         34163.0
        ],
        [
         26249,
         "Universidade Federal Rural do Rio de Janeiro",
         29963.61
        ],
        [
         26263,
         "Universidade Federal de Lavras - MG",
         28829.16
        ]
       ],
       "datasetInfos": [],
       "dbfsResultPath": null,
       "isJsonSchema": true,
       "metadata": {},
       "overflow": false,
       "plotOptions": {
        "customPlotOptions": {},
        "displayType": "table",
        "pivotAggregation": null,
        "pivotColumns": null,
        "xColumns": null,
        "yColumns": null
       },
       "removedWidgets": [],
       "schema": [
        {
         "metadata": "{}",
         "name": "cod_org",
         "type": "\"long\""
        },
        {
         "metadata": "{\"comment\":\"Nome do órgão de lotação\"}",
         "name": "ORG_LOTACAO",
         "type": "\"string\""
        },
        {
         "metadata": "{}",
         "name": "total_gasto",
         "type": "\"double\""
        }
       ],
       "type": "table"
      }
     },
     "output_type": "display_data"
    }
   ],
   "source": [
    "%sql\n",
    "SELECT\n",
    "    fc.cod_org, ol.ORG_LOTACAO, \n",
    "    ROUND(SUM(fc.vlr_trans), 2) AS total_gasto\n",
    "FROM\n",
    "    fato_cpgf fc\n",
    "INNER JOIN \n",
    "    org_lotacao ol \n",
    "ON\n",
    "    ol.COD_ORG_LOTACAO = fc.cod_org\n",
    "GROUP BY\n",
    "    fc.cod_org, ol.ORG_LOTACAO\n",
    "ORDER BY\n",
    "    total_gasto DESC\n",
    "LIMIT 10"
   ]
  },
  {
   "cell_type": "markdown",
   "metadata": {
    "application/vnd.databricks.v1+cell": {
     "cellMetadata": {},
     "inputWidgets": {},
     "nuid": "cbdd0c05-ed61-48e7-a926-70cb08346868",
     "showTitle": false,
     "title": ""
    }
   },
   "source": [
    "b) TOP 10 SERVIDORES DA ADMINISTRAÇÃO FEDERAL QUE MAIS GASTARAM COM CARTÃO CORPORATIVO EM JAN/2024"
   ]
  },
  {
   "cell_type": "code",
   "execution_count": 0,
   "metadata": {
    "application/vnd.databricks.v1+cell": {
     "cellMetadata": {
      "byteLimit": 2048000,
      "implicitDf": true,
      "rowLimit": 10000
     },
     "inputWidgets": {},
     "nuid": "6fc44633-f73f-4a3d-b60e-febde7d82bb6",
     "showTitle": false,
     "title": ""
    }
   },
   "outputs": [
    {
     "output_type": "display_data",
     "data": {
      "text/html": [
       "<style scoped>\n",
       "  .table-result-container {\n",
       "    max-height: 300px;\n",
       "    overflow: auto;\n",
       "  }\n",
       "  table, th, td {\n",
       "    border: 1px solid black;\n",
       "    border-collapse: collapse;\n",
       "  }\n",
       "  th, td {\n",
       "    padding: 5px;\n",
       "  }\n",
       "  th {\n",
       "    text-align: left;\n",
       "  }\n",
       "</style><div class='table-result-container'><table class='table-result'><thead style='background-color: white'><tr><th>NOME</th><th>UORG_LOTACAO</th><th>total_gasto</th></tr></thead><tbody><tr><td>REBECA MEDEIROS FONSECA</td><td>CENTRO DE REGISTRO E CONTROLE ACADEMICO</td><td>40233.66</td></tr><tr><td>NISVAL FERREIRA GUIMARAES</td><td>DIRECAO GERAL CAMPUS INHUMAS</td><td>38000.58</td></tr><tr><td>RICARDO YANEZ NOGUEIRA</td><td>INSTITUTO NAC DE CONTROL QUALID EM SAUDE</td><td>27917.96</td></tr><tr><td>CRISTIANE FRENSCH PEREIRA</td><td>INSTITUTO DE TECNOLOGIA EM IMUNOBIOLOGIC</td><td>27250.36</td></tr><tr><td>FERNANDO FRANCISCO DE SOUZA</td><td>DIRECAO GERAL CAMPUS INHUMAS</td><td>24808.42</td></tr><tr><td>MARCIA MARIA HENGEMUHLE</td><td>HOSPITAL UNIVERSITARIO DA UFSM</td><td>24260.94</td></tr><tr><td>LEONARDO LIMA BERGAMINI</td><td>GERENCIA DE MEIO AMBIENTE E GEOGRAFIA</td><td>21431.98</td></tr><tr><td>PAULO CESAR DO NASCIMENTO CORREA</td><td>COORDENACAO GERAL INFRAESTRUTURA CAMPI</td><td>21417.6</td></tr><tr><td>LUCIANA BANDEIRA DE SOUZA</td><td>DIRETORIA DE PLANEJAMENTO</td><td>20116.83</td></tr><tr><td>ANTENOR FONSECA DE OLIVEIRA FILHO</td><td>DIVISAO OPERACIONAL</td><td>20116.83</td></tr></tbody></table></div>"
      ]
     },
     "metadata": {
      "application/vnd.databricks.v1+output": {
       "addedWidgets": {},
       "aggData": [],
       "aggError": "",
       "aggOverflow": false,
       "aggSchema": [],
       "aggSeriesLimitReached": false,
       "aggType": "",
       "arguments": {},
       "columnCustomDisplayInfos": {},
       "data": [
        [
         "REBECA MEDEIROS FONSECA",
         "CENTRO DE REGISTRO E CONTROLE ACADEMICO",
         40233.66
        ],
        [
         "NISVAL FERREIRA GUIMARAES",
         "DIRECAO GERAL CAMPUS INHUMAS",
         38000.58
        ],
        [
         "RICARDO YANEZ NOGUEIRA",
         "INSTITUTO NAC DE CONTROL QUALID EM SAUDE",
         27917.96
        ],
        [
         "CRISTIANE FRENSCH PEREIRA",
         "INSTITUTO DE TECNOLOGIA EM IMUNOBIOLOGIC",
         27250.36
        ],
        [
         "FERNANDO FRANCISCO DE SOUZA",
         "DIRECAO GERAL CAMPUS INHUMAS",
         24808.42
        ],
        [
         "MARCIA MARIA HENGEMUHLE",
         "HOSPITAL UNIVERSITARIO DA UFSM",
         24260.94
        ],
        [
         "LEONARDO LIMA BERGAMINI",
         "GERENCIA DE MEIO AMBIENTE E GEOGRAFIA",
         21431.98
        ],
        [
         "PAULO CESAR DO NASCIMENTO CORREA",
         "COORDENACAO GERAL INFRAESTRUTURA CAMPI",
         21417.6
        ],
        [
         "LUCIANA BANDEIRA DE SOUZA",
         "DIRETORIA DE PLANEJAMENTO",
         20116.83
        ],
        [
         "ANTENOR FONSECA DE OLIVEIRA FILHO",
         "DIVISAO OPERACIONAL",
         20116.83
        ]
       ],
       "datasetInfos": [],
       "dbfsResultPath": null,
       "isJsonSchema": true,
       "metadata": {},
       "overflow": false,
       "plotOptions": {
        "customPlotOptions": {},
        "displayType": "table",
        "pivotAggregation": null,
        "pivotColumns": null,
        "xColumns": null,
        "yColumns": null
       },
       "removedWidgets": [],
       "schema": [
        {
         "metadata": "{\"comment\":\"Nome completo do servidor\"}",
         "name": "NOME",
         "type": "\"string\""
        },
        {
         "metadata": "{\"comment\":\"Descrição da lotação\"}",
         "name": "UORG_LOTACAO",
         "type": "\"string\""
        },
        {
         "metadata": "{}",
         "name": "total_gasto",
         "type": "\"double\""
        }
       ],
       "type": "table"
      }
     },
     "output_type": "display_data"
    }
   ],
   "source": [
    "%sql\n",
    "SELECT  \n",
    "  cs.NOME, ug.UORG_LOTACAO, \n",
    "  round(sum(fc.vlr_trans), 2) AS total_gasto\n",
    "FROM \n",
    "  fato_cpgf fc\n",
    "INNER JOIN\n",
    "  cadastro_servidores cs\n",
    "ON \n",
    "  fc.cpf_portador = cs.CPF\n",
    "INNER JOIN\n",
    "  qualificacao_servidores qs\n",
    "ON\n",
    "  qs.Id_SERVIDOR_PORTAL = cs.id_SERVIDOR_PORTAL\n",
    "INNER JOIN\n",
    "  unid_org ug\n",
    "ON\n",
    "  qs.COD_UORG_LOTACAO = ug.COD_UORG_LOTACAO  \n",
    "GROUP BY\n",
    "  cs.NOME, ug.UORG_LOTACAO\n",
    "ORDER BY\n",
    "  total_gasto DESC\n",
    "LIMIT 10"
   ]
  },
  {
   "cell_type": "markdown",
   "metadata": {
    "application/vnd.databricks.v1+cell": {
     "cellMetadata": {},
     "inputWidgets": {},
     "nuid": "f940e7ec-11e8-44ad-a271-5eea062c9872",
     "showTitle": false,
     "title": ""
    }
   },
   "source": [
    "c) ÓRGÃOS DA ADMNISTRAÇÃO FEDERAL QUE GASTARAM MAIS DO QUE A MÉDIA DE GASTOS EM JAN/2024"
   ]
  },
  {
   "cell_type": "code",
   "execution_count": 0,
   "metadata": {
    "application/vnd.databricks.v1+cell": {
     "cellMetadata": {
      "byteLimit": 2048000,
      "implicitDf": true,
      "rowLimit": 10000
     },
     "inputWidgets": {},
     "nuid": "57b7173d-52e1-48de-8283-29f964e0191f",
     "showTitle": false,
     "title": ""
    }
   },
   "outputs": [
    {
     "output_type": "display_data",
     "data": {
      "text/html": [
       "<style scoped>\n",
       "  .table-result-container {\n",
       "    max-height: 300px;\n",
       "    overflow: auto;\n",
       "  }\n",
       "  table, th, td {\n",
       "    border: 1px solid black;\n",
       "    border-collapse: collapse;\n",
       "  }\n",
       "  th, td {\n",
       "    padding: 5px;\n",
       "  }\n",
       "  th {\n",
       "    text-align: left;\n",
       "  }\n",
       "</style><div class='table-result-container'><table class='table-result'><thead style='background-color: white'><tr><th>cod_org</th><th>ORG_LOTACAO</th><th>total_gasto</th></tr></thead><tbody><tr><td>20101</td><td>Presidência da República</td><td>2221202.95</td></tr><tr><td>25000</td><td>Ministério da Saúde</td><td>100584.24</td></tr><tr><td>30802</td><td>Departamento de Polícia Rodoviária Federal</td><td>67798.53</td></tr><tr><td>36201</td><td>Fundação Oswaldo Cruz</td><td>47141.75</td></tr><tr><td>26429</td><td>Instituto Federal de Goiás</td><td>46737.75</td></tr><tr><td>26443</td><td>Empresa Brasileira de Serviços Hospitalares</td><td>42848.09</td></tr></tbody></table></div>"
      ]
     },
     "metadata": {
      "application/vnd.databricks.v1+output": {
       "addedWidgets": {},
       "aggData": [],
       "aggError": "",
       "aggOverflow": false,
       "aggSchema": [],
       "aggSeriesLimitReached": false,
       "aggType": "",
       "arguments": {},
       "columnCustomDisplayInfos": {},
       "data": [
        [
         20101,
         "Presidência da República",
         2221202.95
        ],
        [
         25000,
         "Ministério da Saúde",
         100584.24
        ],
        [
         30802,
         "Departamento de Polícia Rodoviária Federal",
         67798.53
        ],
        [
         36201,
         "Fundação Oswaldo Cruz",
         47141.75
        ],
        [
         26429,
         "Instituto Federal de Goiás",
         46737.75
        ],
        [
         26443,
         "Empresa Brasileira de Serviços Hospitalares",
         42848.09
        ]
       ],
       "datasetInfos": [],
       "dbfsResultPath": null,
       "isJsonSchema": true,
       "metadata": {},
       "overflow": false,
       "plotOptions": {
        "customPlotOptions": {},
        "displayType": "table",
        "pivotAggregation": null,
        "pivotColumns": null,
        "xColumns": null,
        "yColumns": null
       },
       "removedWidgets": [],
       "schema": [
        {
         "metadata": "{}",
         "name": "cod_org",
         "type": "\"long\""
        },
        {
         "metadata": "{\"comment\":\"Nome do órgão de lotação\"}",
         "name": "ORG_LOTACAO",
         "type": "\"string\""
        },
        {
         "metadata": "{}",
         "name": "total_gasto",
         "type": "\"double\""
        }
       ],
       "type": "table"
      }
     },
     "output_type": "display_data"
    }
   ],
   "source": [
    "%sql\n",
    "WITH avgspending AS (\n",
    "    SELECT\n",
    "        ROUND(AVG(total_gasto), 2) AS avg_gasto\n",
    "    FROM (\n",
    "        SELECT\n",
    "            fc.cod_org,\n",
    "            ol.ORG_LOTACAO,\n",
    "            SUM(fc.vlr_trans) AS total_gasto\n",
    "        FROM\n",
    "            fato_cpgf fc\n",
    "        INNER JOIN \n",
    "            org_lotacao ol \n",
    "        ON\n",
    "            fc.cod_org = ol.COD_ORG_LOTACAO\n",
    "        GROUP BY\n",
    "            fc.cod_org,\n",
    "            ol.ORG_LOTACAO\n",
    "  )\n",
    ")\n",
    "\n",
    "SELECT\n",
    "    fc.cod_org,\n",
    "    ol.ORG_LOTACAO,\n",
    "    ROUND(SUM(fc.vlr_trans), 2) AS total_gasto\n",
    "FROM\n",
    "    fato_cpgf fc\n",
    "INNER JOIN \n",
    "    org_lotacao ol \n",
    "ON\n",
    "    fc.cod_org = ol.COD_ORG_LOTACAO\n",
    "GROUP BY\n",
    "    fc.cod_org,\n",
    "    ol.ORG_LOTACAO\n",
    "HAVING\n",
    "    SUM(fc.vlr_trans) > (SELECT avg_gasto FROM avgspending)\n",
    "ORDER BY\n",
    "    total_gasto DESC"
   ]
  },
  {
   "cell_type": "markdown",
   "metadata": {
    "application/vnd.databricks.v1+cell": {
     "cellMetadata": {},
     "inputWidgets": {},
     "nuid": "7d3582a2-bb18-42ac-b539-99aff51be7db",
     "showTitle": false,
     "title": ""
    }
   },
   "source": [
    "d) COMPRAS NO CARTÃO CORPORATIVO, EM JAN/2024, COM EMPRESA PUNIDA, QUE CONSTE NA TABELA CEIS, DA CGU"
   ]
  },
  {
   "cell_type": "code",
   "execution_count": 0,
   "metadata": {
    "application/vnd.databricks.v1+cell": {
     "cellMetadata": {
      "byteLimit": 2048000,
      "implicitDf": true,
      "rowLimit": 10000
     },
     "inputWidgets": {},
     "nuid": "c5408f08-14ef-4f53-8118-e445b8cf894d",
     "showTitle": false,
     "title": ""
    }
   },
   "outputs": [
    {
     "output_type": "display_data",
     "data": {
      "text/html": [
       "<style scoped>\n",
       "  .table-result-container {\n",
       "    max-height: 300px;\n",
       "    overflow: auto;\n",
       "  }\n",
       "  table, th, td {\n",
       "    border: 1px solid black;\n",
       "    border-collapse: collapse;\n",
       "  }\n",
       "  th, td {\n",
       "    padding: 5px;\n",
       "  }\n",
       "  th {\n",
       "    text-align: left;\n",
       "  }\n",
       "</style><div class='table-result-container'><table class='table-result'><thead style='background-color: white'><tr><th>cnpj_sanc</th><th>razao_social</th><th>n_processo</th><th>categ_sancao</th><th>dt_in_san</th><th>dt_trans</th><th>dt_fin_san</th><th>vlr_trans</th></tr></thead><tbody><tr><td>02458330000150</td><td>MULTISERV - COMERCIO E SERVICOS LTDA</td><td>0200160588615</td><td>Declaração de Inidoneidade com prazo determinado</td><td>14/02/2020</td><td>null</td><td>null</td><td>930.0</td></tr><tr><td>07358914000178</td><td>CEQUIMICA LTDA</td><td>019.5050.2019.0020074-73</td><td>Suspensão</td><td>23/04/2024</td><td>null</td><td>04/08/2024</td><td>2315.9</td></tr><tr><td>32602639000133</td><td>LUKATONER SUPPLIES LTDA</td><td>303/23</td><td>Impedimento/proibição de contratar com prazo determinado</td><td>09/02/2024</td><td>null</td><td>09/02/2025</td><td>218.0</td></tr></tbody></table></div>"
      ]
     },
     "metadata": {
      "application/vnd.databricks.v1+output": {
       "addedWidgets": {},
       "aggData": [],
       "aggError": "",
       "aggOverflow": false,
       "aggSchema": [],
       "aggSeriesLimitReached": false,
       "aggType": "",
       "arguments": {},
       "columnCustomDisplayInfos": {},
       "data": [
        [
         "02458330000150",
         "MULTISERV - COMERCIO E SERVICOS LTDA",
         "0200160588615",
         "Declaração de Inidoneidade com prazo determinado",
         "14/02/2020",
         null,
         null,
         930.0
        ],
        [
         "07358914000178",
         "CEQUIMICA LTDA",
         "019.5050.2019.0020074-73",
         "Suspensão",
         "23/04/2024",
         null,
         "04/08/2024",
         2315.9
        ],
        [
         "32602639000133",
         "LUKATONER SUPPLIES LTDA",
         "303/23",
         "Impedimento/proibição de contratar com prazo determinado",
         "09/02/2024",
         null,
         "09/02/2025",
         218.0
        ]
       ],
       "datasetInfos": [],
       "dbfsResultPath": null,
       "isJsonSchema": true,
       "metadata": {},
       "overflow": false,
       "plotOptions": {
        "customPlotOptions": {},
        "displayType": "table",
        "pivotAggregation": null,
        "pivotColumns": null,
        "xColumns": null,
        "yColumns": null
       },
       "removedWidgets": [],
       "schema": [
        {
         "metadata": "{\"comment\":\"Campo que associa os dados da tabela de pagamentos com cartão corporativo\"}",
         "name": "cnpj_sanc",
         "type": "\"string\""
        },
        {
         "metadata": "{}",
         "name": "razao_social",
         "type": "\"string\""
        },
        {
         "metadata": "{}",
         "name": "n_processo",
         "type": "\"string\""
        },
        {
         "metadata": "{}",
         "name": "categ_sancao",
         "type": "\"string\""
        },
        {
         "metadata": "{}",
         "name": "dt_in_san",
         "type": "\"string\""
        },
        {
         "metadata": "{}",
         "name": "dt_trans",
         "type": "\"string\""
        },
        {
         "metadata": "{}",
         "name": "dt_fin_san",
         "type": "\"string\""
        },
        {
         "metadata": "{}",
         "name": "vlr_trans",
         "type": "\"double\""
        }
       ],
       "type": "table"
      }
     },
     "output_type": "display_data"
    }
   ],
   "source": [
    "\n",
    "%sql\n",
    "SELECT\n",
    "  ce.cnpj_sanc, cde.razao_social, ce.n_processo, \n",
    "  ce.categ_sancao, ce.dt_in_san, cp.dt_trans, ce.dt_fin_san, \n",
    "  cp.vlr_trans\n",
    "FROM \n",
    "  ceis ce\n",
    "INNER JOIN\n",
    "  fato_cpgf cp\n",
    "ON\n",
    "  ce.cnpj_sanc = cp.cnpj_cpf_fav\n",
    "INNER JOIN \n",
    "  cadastro_empresas cde\n",
    "ON \n",
    "  ce.cnpj_sanc = cde.cnpj"
   ]
  },
  {
   "cell_type": "code",
   "execution_count": 0,
   "metadata": {
    "application/vnd.databricks.v1+cell": {
     "cellMetadata": {
      "byteLimit": 2048000,
      "implicitDf": true,
      "rowLimit": 10000
     },
     "inputWidgets": {},
     "nuid": "d28c4a26-c246-4651-9201-aab837e8e384",
     "showTitle": false,
     "title": ""
    }
   },
   "outputs": [
    {
     "output_type": "display_data",
     "data": {
      "text/html": [
       "<style scoped>\n",
       "  .table-result-container {\n",
       "    max-height: 300px;\n",
       "    overflow: auto;\n",
       "  }\n",
       "  table, th, td {\n",
       "    border: 1px solid black;\n",
       "    border-collapse: collapse;\n",
       "  }\n",
       "  th, td {\n",
       "    padding: 5px;\n",
       "  }\n",
       "  th {\n",
       "    text-align: left;\n",
       "  }\n",
       "</style><div class='table-result-container'><table class='table-result'><thead style='background-color: white'><tr><th>cnpj_sanc</th><th>razao_social</th><th>n_processo</th><th>categ_sancao</th><th>dt_in_san</th><th>dt_trans</th><th>dt_fin_san</th><th>vlr_trans</th></tr></thead><tbody></tbody></table></div>"
      ]
     },
     "metadata": {
      "application/vnd.databricks.v1+output": {
       "addedWidgets": {},
       "aggData": [],
       "aggError": "",
       "aggOverflow": false,
       "aggSchema": [],
       "aggSeriesLimitReached": false,
       "aggType": "",
       "arguments": {},
       "columnCustomDisplayInfos": {},
       "data": [],
       "datasetInfos": [],
       "dbfsResultPath": null,
       "isJsonSchema": true,
       "metadata": {},
       "overflow": false,
       "plotOptions": {
        "customPlotOptions": {},
        "displayType": "table",
        "pivotAggregation": null,
        "pivotColumns": null,
        "xColumns": null,
        "yColumns": null
       },
       "removedWidgets": [],
       "schema": [
        {
         "metadata": "{\"comment\":\"Campo que associa os dados da tabela de pagamentos com cartão corporativo\"}",
         "name": "cnpj_sanc",
         "type": "\"string\""
        },
        {
         "metadata": "{}",
         "name": "razao_social",
         "type": "\"string\""
        },
        {
         "metadata": "{}",
         "name": "n_processo",
         "type": "\"string\""
        },
        {
         "metadata": "{}",
         "name": "categ_sancao",
         "type": "\"string\""
        },
        {
         "metadata": "{}",
         "name": "dt_in_san",
         "type": "\"string\""
        },
        {
         "metadata": "{}",
         "name": "dt_trans",
         "type": "\"string\""
        },
        {
         "metadata": "{}",
         "name": "dt_fin_san",
         "type": "\"string\""
        },
        {
         "metadata": "{}",
         "name": "vlr_trans",
         "type": "\"double\""
        }
       ],
       "type": "table"
      }
     },
     "output_type": "display_data"
    }
   ],
   "source": [
    "\n",
    "%sql\n",
    "SELECT\n",
    "  ce.cnpj_sanc, cde.razao_social, ce.n_processo, \n",
    "  ce.categ_sancao, ce.dt_in_san, cp.dt_trans, ce.dt_fin_san, \n",
    "  cp.vlr_trans\n",
    "FROM \n",
    "  ceis ce\n",
    "INNER JOIN\n",
    "  fato_cpgf cp\n",
    "ON\n",
    "  ce.cnpj_sanc = cp.cnpj_cpf_fav\n",
    "INNER JOIN \n",
    "  cadastro_empresas cde\n",
    "ON \n",
    "  ce.cnpj_sanc = cde.cnpj\n",
    "WHERE\n",
    "  date(cp.dt_trans) BETWEEN date(ce.dt_in_san) AND date(ce.dt_fin_san)"
   ]
  }
 ],
 "metadata": {
  "application/vnd.databricks.v1+notebook": {
   "dashboards": [],
   "environmentMetadata": null,
   "language": "python",
   "notebookMetadata": {
    "mostRecentlyExecutedCommandWithImplicitDF": {
     "commandId": 343301238124046,
     "dataframes": [
      "_sqldf"
     ]
    },
    "pythonIndentUnit": 4
   },
   "notebookName": "ETL Cartão de Pagamentos do Governo Federal",
   "widgets": {}
  }
 },
 "nbformat": 4,
 "nbformat_minor": 0
}
