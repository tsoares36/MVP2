{
 "cells": [
  {
   "cell_type": "markdown",
   "metadata": {
    "application/vnd.databricks.v1+cell": {
     "cellMetadata": {
      "byteLimit": 2048000,
      "rowLimit": 10000
     },
     "inputWidgets": {},
     "nuid": "96816ed7-b08a-4ca3-abb9-f99880c3535d",
     "showTitle": false,
     "title": ""
    }
   },
   "source": [
    "\n",
    "## Overview\n",
    "\n",
    "Esse notebook cria uma tabela permanente no DBFS com os dados de Cartão Corporativo do Governo Federal. Esta tabela é considerada a tabela 'fato', pois contém os valores das transações. A tabela também foi normalizada para compor o modelo 'estrela'. "
   ]
  },
  {
   "cell_type": "code",
   "execution_count": 0,
   "metadata": {
    "application/vnd.databricks.v1+cell": {
     "cellMetadata": {
      "byteLimit": 2048000,
      "rowLimit": 10000
     },
     "inputWidgets": {},
     "nuid": "e59150c0-43ec-4166-bb4b-a2abf9ff5cda",
     "showTitle": false,
     "title": ""
    }
   },
   "outputs": [],
   "source": [
    "from datetime import datetime\n",
    "from pyspark.sql.functions import col, date_format"
   ]
  },
  {
   "cell_type": "code",
   "execution_count": 0,
   "metadata": {
    "application/vnd.databricks.v1+cell": {
     "cellMetadata": {
      "byteLimit": 2048000,
      "rowLimit": 10000
     },
     "inputWidgets": {},
     "nuid": "6482be4c-f067-47c9-b0ac-35c938b94601",
     "showTitle": false,
     "title": ""
    }
   },
   "outputs": [],
   "source": [
    "# File location and type\n",
    "file_location = \"/FileStore/tables/202401_CPGF-1.csv\"\n",
    "file_type = \"csv\"\n",
    "\n",
    "# CSV options\n",
    "infer_schema = \"false\"\n",
    "first_row_is_header = \"true\"\n",
    "delimiter = \";\"\n",
    "encode = 'latin1'\n",
    "\n",
    "# The applied options are for CSV files. For other file types, these will be ignored.\n",
    "df = spark.read.format(file_type) \\\n",
    "  .option(\"inferSchema\", infer_schema) \\\n",
    "  .option(\"header\", first_row_is_header) \\\n",
    "  .option(\"sep\", delimiter) \\\n",
    "  .option(\"encoding\", encode)  \\\n",
    "  .load(file_location)\n",
    "\n",
    "# display(df)"
   ]
  },
  {
   "cell_type": "code",
   "execution_count": 0,
   "metadata": {
    "application/vnd.databricks.v1+cell": {
     "cellMetadata": {
      "byteLimit": 2048000,
      "rowLimit": 10000
     },
     "inputWidgets": {},
     "nuid": "bd82bb99-1479-4d5c-be10-8c36df0f1d44",
     "showTitle": false,
     "title": ""
    }
   },
   "outputs": [],
   "source": [
    "cols_to_drop = [\"NOME ÓRGÃO SUPERIOR\", \"NOME ÓRGÃO\", \"NOME UNIDADE GESTORA\"]\n",
    "df = df.drop(*cols_to_drop)\n"
   ]
  },
  {
   "cell_type": "code",
   "execution_count": 0,
   "metadata": {
    "application/vnd.databricks.v1+cell": {
     "cellMetadata": {
      "byteLimit": 2048000,
      "rowLimit": 10000
     },
     "inputWidgets": {},
     "nuid": "88bd4c2c-0b46-4c8d-8f92-e8a18724ec46",
     "showTitle": false,
     "title": ""
    }
   },
   "outputs": [],
   "source": [
    "df = df.withColumn(\"DATA TRANSAÇÃO\", date_format(col(\"DATA TRANSAÇÃO\"), \"dd/MM/yyyy\"))"
   ]
  },
  {
   "cell_type": "code",
   "execution_count": 0,
   "metadata": {
    "application/vnd.databricks.v1+cell": {
     "cellMetadata": {
      "byteLimit": 2048000,
      "rowLimit": 10000
     },
     "inputWidgets": {},
     "nuid": "2309abbf-6e9e-4a1b-887c-f5117f9e236b",
     "showTitle": false,
     "title": ""
    }
   },
   "outputs": [],
   "source": [
    "df = df.to_pandas_on_spark()"
   ]
  },
  {
   "cell_type": "code",
   "execution_count": 0,
   "metadata": {
    "application/vnd.databricks.v1+cell": {
     "cellMetadata": {
      "byteLimit": 2048000,
      "rowLimit": 10000
     },
     "inputWidgets": {},
     "nuid": "4ccf90ed-61ed-44f6-b507-cdddcee689b2",
     "showTitle": false,
     "title": ""
    }
   },
   "outputs": [],
   "source": [
    "# df[\"DATA TRANSAÇÃO\"] = df[\"DATA TRANSAÇÃO\"].apply(lambda x: datetime.strptime(str(x), \"%d/%m/%Y\") if x not null else str(x))"
   ]
  },
  {
   "cell_type": "code",
   "execution_count": 0,
   "metadata": {
    "application/vnd.databricks.v1+cell": {
     "cellMetadata": {
      "byteLimit": 2048000,
      "rowLimit": 10000
     },
     "inputWidgets": {},
     "nuid": "7da91397-fe7b-42cb-b031-ca5e41dba27f",
     "showTitle": false,
     "title": ""
    }
   },
   "outputs": [],
   "source": [
    "df[\"VALOR TRANSAÇÃO\"] = df[\"VALOR TRANSAÇÃO\"].apply(lambda x: float(str(x).replace(\",\", \".\")))"
   ]
  },
  {
   "cell_type": "code",
   "execution_count": 0,
   "metadata": {
    "application/vnd.databricks.v1+cell": {
     "cellMetadata": {
      "byteLimit": 2048000,
      "implicitDf": true,
      "rowLimit": 10000
     },
     "inputWidgets": {},
     "nuid": "3b303a33-d07f-4642-ace9-35986a9b49e9",
     "showTitle": false,
     "title": ""
    }
   },
   "outputs": [],
   "source": [
    "df = df[(df[\"CNPJ OU CPF FAVORECIDO\"] != -1) & (df[\"CNPJ OU CPF FAVORECIDO\"] != -2)]"
   ]
  },
  {
   "cell_type": "code",
   "execution_count": 0,
   "metadata": {
    "application/vnd.databricks.v1+cell": {
     "cellMetadata": {
      "byteLimit": 2048000,
      "rowLimit": 10000
     },
     "inputWidgets": {},
     "nuid": "c4cfabf9-37ce-44e8-955a-8744c3651d7b",
     "showTitle": false,
     "title": ""
    }
   },
   "outputs": [],
   "source": [
    "column_names = [\"cod_org_sup\", \"cod_org\", \"unid_gestora\", \n",
    "                \"ano_extrato\", \"mes_extrato\", \"cpf_portador\", \n",
    "                \"nome_portador\", \"cnpj_cpf_fav\", \"nome_fav\",\n",
    "                \"transaction\", \"dt_trans\", \"vlr_trans\"]\n",
    "\n",
    "df.columns = column_names"
   ]
  },
  {
   "cell_type": "code",
   "execution_count": 0,
   "metadata": {
    "application/vnd.databricks.v1+cell": {
     "cellMetadata": {
      "byteLimit": 2048000,
      "rowLimit": 10000
     },
     "inputWidgets": {},
     "nuid": "effa87c9-3a6b-4cd8-917b-22c5bce963c8",
     "showTitle": false,
     "title": ""
    }
   },
   "outputs": [],
   "source": [
    "df = df.to_spark()"
   ]
  },
  {
   "cell_type": "code",
   "execution_count": 0,
   "metadata": {
    "application/vnd.databricks.v1+cell": {
     "cellMetadata": {
      "byteLimit": 2048000,
      "rowLimit": 10000
     },
     "inputWidgets": {},
     "nuid": "1c6faa55-4cf6-4bb8-8074-b9210f225f50",
     "showTitle": false,
     "title": ""
    }
   },
   "outputs": [],
   "source": [
    "# cpgf -> cartão de pagamentos do governo federal\n",
    "permanent_table_name = \"fato_cpgf\"\n",
    "# df.write.format('parquet').saveAsTable(permanent_table_name)\n",
    "df.write.mode(\"overwrite\").saveAsTable(permanent_table_name)"
   ]
  },
  {
   "cell_type": "code",
   "execution_count": 0,
   "metadata": {
    "application/vnd.databricks.v1+cell": {
     "cellMetadata": {
      "byteLimit": 2048000,
      "implicitDf": true,
      "rowLimit": 10000
     },
     "inputWidgets": {},
     "nuid": "d5567439-5df6-4d2b-a1bf-7c03c6229e4b",
     "showTitle": false,
     "title": ""
    }
   },
   "outputs": [],
   "source": [
    "%sql\n",
    "SELECT\n",
    "    fc.cod_org, ol.ORG_LOTACAO,     \n",
    "    ROUND(SUM(fc.vlr_trans), 2) AS total_gasto\n",
    "FROM\n",
    "    fato_cpgf fc\n",
    "INNER JOIN \n",
    "    org_lotacao ol \n",
    "ON\n",
    "    fc.cod_org = ol.COD_ORG_LOTACAO\n",
    "GROUP BY\n",
    "    fc.cod_org, ol.ORG_LOTACAO\n",
    "ORDER BY\n",
    "    total_gasto DESC\n",
    "LIMIT 10"
   ]
  },
  {
   "cell_type": "code",
   "execution_count": 0,
   "metadata": {
    "application/vnd.databricks.v1+cell": {
     "cellMetadata": {
      "byteLimit": 2048000,
      "implicitDf": true,
      "rowLimit": 10000
     },
     "inputWidgets": {},
     "nuid": "6fc44633-f73f-4a3d-b60e-febde7d82bb6",
     "showTitle": false,
     "title": ""
    }
   },
   "outputs": [],
   "source": [
    "%sql\n",
    "SELECT \n",
    "  fc.nome_portador, ug.UORG_LOTACAO, \n",
    "  round(sum(fc.vlr_trans), 2) AS total_gasto\n",
    "FROM \n",
    "  fato_cpgf fc\n",
    "INNER JOIN\n",
    "  cadastro_servidores cs\n",
    "ON\n",
    "  fc.cpf_portador = cs.CPF\n",
    "INNER JOIN\n",
    "  qualificacao_servidores qs\n",
    "ON\n",
    "  qs.Id_SERVIDOR_PORTAL = cs.id_SERVIDOR_PORTAL\n",
    "INNER JOIN\n",
    "  unid_org ug\n",
    "ON\n",
    "  qs.COD_UORG_LOTACAO = ug.COD_UORG_LOTACAO\n",
    "GROUP BY\n",
    "  fc.nome_portador, ug.UORG_LOTACAO\n",
    "ORDER BY\n",
    "  total_gasto DESC\n",
    "LIMIT 10"
   ]
  },
  {
   "cell_type": "code",
   "execution_count": 0,
   "metadata": {
    "application/vnd.databricks.v1+cell": {
     "cellMetadata": {
      "byteLimit": 2048000,
      "implicitDf": true,
      "rowLimit": 10000
     },
     "inputWidgets": {},
     "nuid": "448209a3-7c3a-4a02-9dd4-7f33dc58bcc3",
     "showTitle": false,
     "title": ""
    }
   },
   "outputs": [],
   "source": [
    "%sql\n",
    "SELECT\n",
    "    fc.cod_org, ol.ORG_LOTACAO, \n",
    "    ROUND(SUM(fc.vlr_trans), 2) AS total_gasto\n",
    "FROM\n",
    "    fato_cpgf fc\n",
    "INNER JOIN \n",
    "    org_lotacao ol \n",
    "ON\n",
    "    fc.cod_org = ol.COD_ORG_LOTACAO\n",
    "GROUP BY\n",
    "    fc.cod_org, ol.ORG_LOTACAO\n",
    "ORDER BY\n",
    "    total_gasto DESC"
   ]
  },
  {
   "cell_type": "code",
   "execution_count": 0,
   "metadata": {
    "application/vnd.databricks.v1+cell": {
     "cellMetadata": {
      "byteLimit": 2048000,
      "implicitDf": true,
      "rowLimit": 10000
     },
     "inputWidgets": {},
     "nuid": "57b7173d-52e1-48de-8283-29f964e0191f",
     "showTitle": false,
     "title": ""
    }
   },
   "outputs": [],
   "source": [
    "%sql\n",
    "WITH avgspending AS (\n",
    "    SELECT\n",
    "        ROUND(AVG(total_gasto), 2) AS avg_gasto\n",
    "    FROM (\n",
    "        SELECT\n",
    "            fc.cod_org,\n",
    "            ol.ORG_LOTACAO,\n",
    "            SUM(fc.vlr_trans) AS total_gasto\n",
    "        FROM\n",
    "            fato_cpgf fc\n",
    "        INNER JOIN \n",
    "            org_lotacao ol \n",
    "        ON\n",
    "            fc.cod_org = ol.COD_ORG_LOTACAO\n",
    "        GROUP BY\n",
    "            fc.cod_org,\n",
    "            ol.ORG_LOTACAO\n",
    "  )\n",
    ")\n",
    "\n",
    "SELECT\n",
    "    fc.cod_org,\n",
    "    ol.ORG_LOTACAO,\n",
    "    ROUND(SUM(fc.vlr_trans), 2) AS total_gasto\n",
    "FROM\n",
    "    fato_cpgf fc\n",
    "INNER JOIN \n",
    "    org_lotacao ol \n",
    "ON\n",
    "    fc.cod_org = ol.COD_ORG_LOTACAO\n",
    "GROUP BY\n",
    "    fc.cod_org,\n",
    "    ol.ORG_LOTACAO\n",
    "HAVING\n",
    "    SUM(fc.vlr_trans) > (SELECT avg_gasto FROM avgspending)\n",
    "ORDER BY\n",
    "    total_gasto DESC"
   ]
  }
 ],
 "metadata": {
  "application/vnd.databricks.v1+notebook": {
   "dashboards": [],
   "environmentMetadata": null,
   "language": "python",
   "notebookMetadata": {
    "mostRecentlyExecutedCommandWithImplicitDF": {
     "commandId": 3244870935421704,
     "dataframes": [
      "_sqldf"
     ]
    },
    "pythonIndentUnit": 4
   },
   "notebookName": "ETL Cartão de Pagamentos do Governo Federal",
   "widgets": {}
  }
 },
 "nbformat": 4,
 "nbformat_minor": 0
}
