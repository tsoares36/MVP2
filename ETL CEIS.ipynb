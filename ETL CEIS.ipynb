{
 "cells": [
  {
   "cell_type": "markdown",
   "metadata": {
    "application/vnd.databricks.v1+cell": {
     "cellMetadata": {
      "byteLimit": 2048000,
      "rowLimit": 10000
     },
     "inputWidgets": {},
     "nuid": "96816ed7-b08a-4ca3-abb9-f99880c3535d",
     "showTitle": false,
     "title": ""
    }
   },
   "source": [
    "\n",
    "## Overview\n",
    "\n",
    "Este notebook contém o tratamento da tabela de Empresas Inidôneas e Suspensas, mantida pela CGU. O objetivo é verificar se há gastos no cartão corporativo efetuado com alguma empresa sancionada. Para limitar o escopo, só serão mantidas as Pessoas Jurídicas."
   ]
  },
  {
   "cell_type": "code",
   "execution_count": 0,
   "metadata": {
    "application/vnd.databricks.v1+cell": {
     "cellMetadata": {
      "byteLimit": 2048000,
      "rowLimit": 10000
     },
     "inputWidgets": {},
     "nuid": "6482be4c-f067-47c9-b0ac-35c938b94601",
     "showTitle": false,
     "title": ""
    }
   },
   "outputs": [],
   "source": [
    "# File location and type\n",
    "file_location = \"/FileStore/tables/CEIS.csv\"\n",
    "file_type = \"csv\"\n",
    "\n",
    "# CSV options\n",
    "infer_schema = \"false\"\n",
    "first_row_is_header = \"true\"\n",
    "delimiter = \";\"\n",
    "encode = 'latin1'\n",
    "\n",
    "\n",
    "# The applied options are for CSV files. For other file types, these will be ignored.\n",
    "df = spark.read.format(file_type) \\\n",
    "  .option(\"inferSchema\", infer_schema) \\\n",
    "  .option(\"header\", first_row_is_header) \\\n",
    "  .option(\"sep\", delimiter) \\\n",
    "  .option(\"encoding\", encode) \\\n",
    "  .load(file_location)\n",
    "\n",
    "# display(df)"
   ]
  },
  {
   "cell_type": "code",
   "execution_count": 0,
   "metadata": {
    "application/vnd.databricks.v1+cell": {
     "cellMetadata": {
      "byteLimit": 2048000,
      "rowLimit": 10000
     },
     "inputWidgets": {},
     "nuid": "7d137b2e-bc44-4226-bf60-40895a5bfa0a",
     "showTitle": false,
     "title": ""
    }
   },
   "outputs": [],
   "source": [
    "df = df.filter(df[\"TIPO DE PESSOA\"] == \"J\")"
   ]
  },
  {
   "cell_type": "code",
   "execution_count": 0,
   "metadata": {
    "application/vnd.databricks.v1+cell": {
     "cellMetadata": {
      "byteLimit": 2048000,
      "rowLimit": 10000
     },
     "inputWidgets": {},
     "nuid": "355cb705-19e4-4311-bc3f-2e382007321f",
     "showTitle": false,
     "title": ""
    }
   },
   "outputs": [],
   "source": [
    "# retirar colunas desnecessárias\n",
    "cols_to_drop = [\"CADASTRO\", \"NOME INFORMADO PELO ÓRGÃO SANCIONADOR\", \n",
    "                \"NOME FANTASIA - CADASTRO RECEITA\", \"DETALHAMENTO\", \n",
    "                \"DATA DO TRÂNSITO EM JULGADO\", \"ABRAGÊNCIA DEFINIDA EM DECISÃO JUDICIAL\"]\n",
    "df = df.drop(*cols_to_drop)"
   ]
  },
  {
   "cell_type": "code",
   "execution_count": 0,
   "metadata": {
    "application/vnd.databricks.v1+cell": {
     "cellMetadata": {
      "byteLimit": 2048000,
      "rowLimit": 10000
     },
     "inputWidgets": {},
     "nuid": "dc9234a8-202c-41dc-b1c6-b3811ff1a0c9",
     "showTitle": false,
     "title": ""
    }
   },
   "outputs": [],
   "source": [
    "new_col_names = [\"cadastro\", \"tipo_pessoa\", \"cnpj_sanc\", \n",
    "                 \"nome_sanc\", \"razao_social\", \"n_processo\", \n",
    "                 \"categ_sancao\", \"dt_in_san\", \"dt_fin_san\", \n",
    "                 \"dt_pub\", \"pub\", \"org_sancionador\", \"uf_orgao\",\n",
    "                 \"esfera_org\", \"fund_legal\"]\n",
    "\n",
    "df = df.toDF(*new_col_names)"
   ]
  },
  {
   "cell_type": "markdown",
   "metadata": {
    "application/vnd.databricks.v1+cell": {
     "cellMetadata": {},
     "inputWidgets": {},
     "nuid": "f3ee2da4-65d9-4cbc-8cae-5bf24e82a6ce",
     "showTitle": false,
     "title": ""
    }
   },
   "source": [
    "Dividir tabela: uma tabela conterá apenas os dados cadastrais das empresas, e a outra, os dados de sanção"
   ]
  },
  {
   "cell_type": "code",
   "execution_count": 0,
   "metadata": {
    "application/vnd.databricks.v1+cell": {
     "cellMetadata": {
      "byteLimit": 2048000,
      "rowLimit": 10000
     },
     "inputWidgets": {},
     "nuid": "4d9682b8-b5dc-45dd-8b49-f416d594084c",
     "showTitle": false,
     "title": ""
    }
   },
   "outputs": [],
   "source": [
    "df_empresas = df[[\"cnpj_sanc\", \"nome_sanc\", \"razao_social\"]]"
   ]
  },
  {
   "cell_type": "code",
   "execution_count": 0,
   "metadata": {
    "application/vnd.databricks.v1+cell": {
     "cellMetadata": {
      "byteLimit": 2048000,
      "rowLimit": 10000
     },
     "inputWidgets": {},
     "nuid": "a09aaaa1-b272-4f6f-9bc3-2c559390ddc9",
     "showTitle": false,
     "title": ""
    }
   },
   "outputs": [],
   "source": [
    "new_cols_empresas = [\"cnpj\", \"nome\", \"razao_social\"]\n",
    "df_empresas = df_empresas.toDF(*new_cols_empresas).dropDuplicates([\"cnpj\"])"
   ]
  },
  {
   "cell_type": "code",
   "execution_count": 0,
   "metadata": {
    "application/vnd.databricks.v1+cell": {
     "cellMetadata": {
      "byteLimit": 2048000,
      "rowLimit": 10000
     },
     "inputWidgets": {},
     "nuid": "38cb8cf6-1f91-4fcb-9870-acb647c9630d",
     "showTitle": false,
     "title": ""
    }
   },
   "outputs": [],
   "source": [
    "cols_to_drop = [\"nome_sanc\", \"razao_social\"]\n",
    "df = df.drop(*cols_to_drop)"
   ]
  },
  {
   "cell_type": "code",
   "execution_count": 0,
   "metadata": {
    "application/vnd.databricks.v1+cell": {
     "cellMetadata": {
      "byteLimit": 2048000,
      "rowLimit": 10000
     },
     "inputWidgets": {},
     "nuid": "db9631f6-bb4a-42ca-8a3c-0d48af932331",
     "showTitle": false,
     "title": ""
    }
   },
   "outputs": [],
   "source": [
    "# With this registered as a temp view, it will only be available to this particular notebook. If you'd like other users to be able to query this table, you can also create a table from the DataFrame.\n",
    "# Once saved, this table will persist across cluster restarts as well as allow various users across different notebooks to query this data.\n",
    "# To do so, choose your table name and uncomment the bottom line.\n",
    "\n",
    "permanent_table_name = \"ceis\"\n",
    "# df.write.format(\"parquet\").saveAsTable(permanent_table_name)\n",
    "df.write.mode(\"overwrite\").saveAsTable(permanent_table_name)"
   ]
  },
  {
   "cell_type": "code",
   "execution_count": 0,
   "metadata": {
    "application/vnd.databricks.v1+cell": {
     "cellMetadata": {
      "byteLimit": 2048000,
      "implicitDf": true,
      "rowLimit": 10000
     },
     "inputWidgets": {},
     "nuid": "c7815f9a-872e-4e9c-b7ed-ba3f4ed6691a",
     "showTitle": false,
     "title": ""
    }
   },
   "outputs": [
    {
     "output_type": "display_data",
     "data": {
      "text/html": [
       "<style scoped>\n",
       "  .table-result-container {\n",
       "    max-height: 300px;\n",
       "    overflow: auto;\n",
       "  }\n",
       "  table, th, td {\n",
       "    border: 1px solid black;\n",
       "    border-collapse: collapse;\n",
       "  }\n",
       "  th, td {\n",
       "    padding: 5px;\n",
       "  }\n",
       "  th {\n",
       "    text-align: left;\n",
       "  }\n",
       "</style><div class='table-result-container'><table class='table-result'><thead style='background-color: white'><tr><th>cadastro</th><th>tipo_pessoa</th><th>cnpj_sanc</th><th>nome_sanc</th><th>razao_social</th><th>n_processo</th><th>categ_sancao</th><th>dt_in_san</th><th>dt_fin_san</th><th>dt_pub</th><th>pub</th><th>org_sancionador</th><th>uf_orgao</th><th>esfera_org</th><th>fund_legal</th></tr></thead><tbody><tr><td>106167</td><td>J</td><td>00368364000129</td><td>null</td><td>null</td><td>00032225520098260197</td><td>Impedimento/proibição de contratar com prazo determinado</td><td>27/08/2019</td><td>27/08/2024</td><td>null</td><td>Sem Informação</td><td>Justiça Federal de Primeiro Grau em São Paulo</td><td>SP</td><td>FEDERAL</td><td>LEI 8429 - ART. 12 - INDEPENDENTEMENTE DAS SANÇÕES PENAIS, CIVIS E ADMINISTRATIVAS PREVISTAS NA LEGISLAÇÃO ESPECÍFICA, ESTÁ O RESPONSÁVEL PELO ATO DE IMPROBIDADE SUJEITO ÀS SEGUINTES COMINAÇÕES, QUE PODEM SER APLICADAS ISOLADA OU CUMULATIVAMENTE, DE ACORDO COM A GRAVIDADE DO FATO: I - NA HIPÓTESE DO ART. 9°, PERDA DOS BENS OU VALORES ACRESCIDOS ILICITAMENTE AO PATRIMÔNIO, RESSARCIMENTO INTEGRAL DO DANO, QUANDO HOUVER, PERDA DA FUNÇÃO PÚBLICA, SUSPENSÃO DOS DIREITOS POLÍTICOS DE OITO A DEZ ANOS, PAGAMENTO DE MULTA CIVIL DE ATÉ TRÊS VEZES O VALOR DO ACRÉSCIMO PATRIMONIAL E PROIBIÇÃO DE CONTRATAR COM O PODER PÚBLICO OU RECEBER BENEFÍCIOS OU INCENTIVOS FISCAIS OU CREDITÍCIOS, DIRETA OU INDIRETAMENTE, AINDA QUE POR INTERMÉDIO DE PESSOA JURÍDICA DA QUAL SEJA SÓCIO MAJORITÁRIO, PELO PRAZO DE DEZ ANOS; II - NA HIPÓTESE DO ART. 10, RESSARCIMENTO INTEGRAL DO DANO, PERDA DOS BENS OU VALORES ACRESCIDOS ILICITAMENTE AO PATRIMÔNIO, SE CONCORRER ESTA CIRCUNSTÂNCIA, PERDA DA FUNÇÃO PÚBLICA, SUSPENSÃO DOS DIREITOS POLÍTICOS DE CINCO A OITO ANOS, PAGAMENTO DE MULTA CIVIL DE ATÉ DUAS VEZES O VALOR DO DANO E PROIBIÇÃO DE CONTRATAR COM O PODER PÚBLICO OU RECEBER BENEFÍCIOS OU INCENTIVOS FISCAIS OU CREDITÍCIOS, DIRETA OU INDIRETAMENTE, AINDA QUE POR INTERMÉDIO DE PESSOA JURÍDICA DA QUAL SEJA SÓCIO MAJORITÁRIO, PELO PRAZO DE CINCO ANOS; III - NA HIPÓTESE DO ART. 11, RESSARCIMENTO INTEGRAL DO DANO, SE HOUVER, PERDA DA FUNÇÃO PÚBLICA, SUSPENSÃO DOS DIREITOS POLÍTICOS DE TRÊS A CINCO ANOS, PAGAMENTO DE MULTA CIVIL DE ATÉ CEM VEZES O VALOR DA REMUNERAÇÃO PERCEBIDA PELO AGENTE E PROIBIÇÃO DE CONTRATAR COM O PODER PÚBLICO OU RECEBER BENEFÍCIOS OU INCENTIVOS FISCAIS OU CREDITÍCIOS, DIRETA OU INDIRETAMENTE, AINDA QUE POR INTERMÉDIO DE PESSOA JURÍDICA DA QUAL SEJA SÓCIO MAJORITÁRIO, PELO PRAZO DE TRÊS ANOS.</td></tr><tr><td>303288</td><td>J</td><td>32769825000161</td><td>null</td><td>null</td><td>23314.000919.2022</td><td>Impedimento/proibição de contratar com prazo determinado</td><td>24/10/2022</td><td>24/10/2024</td><td>null</td><td>Sem Informação</td><td>INST.FED.DE EDUC.,CIENC.E TEC. DE SÃO PAULO</td><td>SP</td><td>FEDERAL</td><td>LEI 10520 - ART. 7º - QUEM, CONVOCADO DENTRO DO PRAZO DE VALIDADE DA SUA PROPOSTA, NÃO CELEBRAR O CONTRATO, DEIXAR DE ENTREGAR OU APRESENTAR DOCUMENTAÇÃO FALSA EXIGIDA PARA O CERTAME, ENSEJAR O RETARDAMENTO DA EXECUÇÃO DE SEU OBJETO, NÃO MANTIVER A PROPOSTA, FALHAR OU FRAUDAR NA EXECUÇÃO DO CONTRATO, COMPORTAR-SE DE MODO INIDÔNEO OU COMETER FRAUDE FISCAL, FICARÁ IMPEDIDO DE LICITAR E CONTRATAR COM A UNIÃO, ESTADOS, DISTRITO FEDERAL OU MUNICÍPIOS E, SERÁ DESCREDENCIADO NO SICAF, OU NOS SISTEMAS DE CADASTRAMENTO DE FORNECEDORES A QUE SE REFERE O INCISO XIV DO ART. 4O DESTA LEI, PELO PRAZO DE ATÉ 5 (CINCO) ANOS, SEM PREJUÍZO DAS MULTAS PREVISTAS EM EDITAL E NO CONTRATO E DAS DEMAIS COMINAÇÕES LEGAIS.</td></tr><tr><td>92682</td><td>J</td><td>04267536000129</td><td>null</td><td>null</td><td>0200170175165</td><td>Declaração de Inidoneidade com prazo determinado</td><td>16/03/2018</td><td>null</td><td>16/03/2018</td><td>Diário Oficial do Estado Seção LICITACOES Pagina 11</td><td>Governo do Estado da Bahia (BA)</td><td>BA</td><td>ESTADUAL</td><td>LEI 9433 (BA) - ART. 186, III - AO CANDIDATO A CADASTRAMENTO, AO LICITANTE E AO CONTRATADO, QUE INCORRAM NAS FALTAS PREVISTAS NESTA LEI, APLICAM-SE, SEGUNDO A NATUREZA E A GRAVIDADE DA FALTA, ASSEGURADA A DEFESA PRÉVIA, AS SEGUINTES SANÇÕES: III- DECLARAÇÃO DE INIDONEIDADE PARA LICITAR OU CONTRATAR COM A ADMINISTRAÇÃO PÚBLICA, ENQUANTO PERDURAREM OS MOTIVOS DETERMINANTES DESTA PUNIÇÃO E ATÉ QUE SEJA PROMOVIDA SUA REABILITAÇÃO PERANTE A ADMINISTRAÇÃO PÚBLICA ESTADUAL</td></tr><tr><td>300398</td><td>J</td><td>27178359000100</td><td>null</td><td>null</td><td>579/2022</td><td>Suspensão</td><td>18/11/2022</td><td>17/11/2024</td><td>null</td><td>Sem Informação</td><td>ESTADO DO RIO DE JANEIRO</td><td>RJ</td><td>ESTADUAL</td><td>LEI 8666 - ART. 87, III - PELA INEXECUÇÃO TOTAL OU PARCIAL DO CONTRATO A ADMINISTRAÇÃO PODERÁ, GARANTIDA A PRÉVIA DEFESA, APLICAR AO CONTRATADO AS SEGUINTES SANÇÕES: III - SUSPENSÃO TEMPORÁRIA DE PARTICIPAÇÃO EM LICITAÇÃO E IMPEDIMENTO DE CONTRATAR COM A ADMINISTRAÇÃO, POR PRAZO NÃO SUPERIOR A 2 (DOIS) ANOS</td></tr><tr><td>303502</td><td>J</td><td>33070387000101</td><td>null</td><td>null</td><td>64482004985202354</td><td>Impedimento/proibição de contratar com prazo determinado</td><td>06/10/2023</td><td>06/10/2024</td><td>null</td><td>Sem Informação</td><td>COMANDO DO EXERCITO</td><td>DF</td><td>FEDERAL</td><td>LEI 14133 - ART. 156, III - IMPEDIMENTO DE LICITAR E CONTRATAR</td></tr></tbody></table></div>"
      ]
     },
     "metadata": {
      "application/vnd.databricks.v1+output": {
       "addedWidgets": {},
       "aggData": [],
       "aggError": "",
       "aggOverflow": false,
       "aggSchema": [],
       "aggSeriesLimitReached": false,
       "aggType": "",
       "arguments": {},
       "columnCustomDisplayInfos": {},
       "data": [
        [
         "106167",
         "J",
         "00368364000129",
         null,
         null,
         "00032225520098260197",
         "Impedimento/proibição de contratar com prazo determinado",
         "27/08/2019",
         "27/08/2024",
         null,
         "Sem Informação",
         "Justiça Federal de Primeiro Grau em São Paulo",
         "SP",
         "FEDERAL",
         "LEI 8429 - ART. 12 - INDEPENDENTEMENTE DAS SANÇÕES PENAIS, CIVIS E ADMINISTRATIVAS PREVISTAS NA LEGISLAÇÃO ESPECÍFICA, ESTÁ O RESPONSÁVEL PELO ATO DE IMPROBIDADE SUJEITO ÀS SEGUINTES COMINAÇÕES, QUE PODEM SER APLICADAS ISOLADA OU CUMULATIVAMENTE, DE ACORDO COM A GRAVIDADE DO FATO: I - NA HIPÓTESE DO ART. 9°, PERDA DOS BENS OU VALORES ACRESCIDOS ILICITAMENTE AO PATRIMÔNIO, RESSARCIMENTO INTEGRAL DO DANO, QUANDO HOUVER, PERDA DA FUNÇÃO PÚBLICA, SUSPENSÃO DOS DIREITOS POLÍTICOS DE OITO A DEZ ANOS, PAGAMENTO DE MULTA CIVIL DE ATÉ TRÊS VEZES O VALOR DO ACRÉSCIMO PATRIMONIAL E PROIBIÇÃO DE CONTRATAR COM O PODER PÚBLICO OU RECEBER BENEFÍCIOS OU INCENTIVOS FISCAIS OU CREDITÍCIOS, DIRETA OU INDIRETAMENTE, AINDA QUE POR INTERMÉDIO DE PESSOA JURÍDICA DA QUAL SEJA SÓCIO MAJORITÁRIO, PELO PRAZO DE DEZ ANOS; II - NA HIPÓTESE DO ART. 10, RESSARCIMENTO INTEGRAL DO DANO, PERDA DOS BENS OU VALORES ACRESCIDOS ILICITAMENTE AO PATRIMÔNIO, SE CONCORRER ESTA CIRCUNSTÂNCIA, PERDA DA FUNÇÃO PÚBLICA, SUSPENSÃO DOS DIREITOS POLÍTICOS DE CINCO A OITO ANOS, PAGAMENTO DE MULTA CIVIL DE ATÉ DUAS VEZES O VALOR DO DANO E PROIBIÇÃO DE CONTRATAR COM O PODER PÚBLICO OU RECEBER BENEFÍCIOS OU INCENTIVOS FISCAIS OU CREDITÍCIOS, DIRETA OU INDIRETAMENTE, AINDA QUE POR INTERMÉDIO DE PESSOA JURÍDICA DA QUAL SEJA SÓCIO MAJORITÁRIO, PELO PRAZO DE CINCO ANOS; III - NA HIPÓTESE DO ART. 11, RESSARCIMENTO INTEGRAL DO DANO, SE HOUVER, PERDA DA FUNÇÃO PÚBLICA, SUSPENSÃO DOS DIREITOS POLÍTICOS DE TRÊS A CINCO ANOS, PAGAMENTO DE MULTA CIVIL DE ATÉ CEM VEZES O VALOR DA REMUNERAÇÃO PERCEBIDA PELO AGENTE E PROIBIÇÃO DE CONTRATAR COM O PODER PÚBLICO OU RECEBER BENEFÍCIOS OU INCENTIVOS FISCAIS OU CREDITÍCIOS, DIRETA OU INDIRETAMENTE, AINDA QUE POR INTERMÉDIO DE PESSOA JURÍDICA DA QUAL SEJA SÓCIO MAJORITÁRIO, PELO PRAZO DE TRÊS ANOS."
        ],
        [
         "303288",
         "J",
         "32769825000161",
         null,
         null,
         "23314.000919.2022",
         "Impedimento/proibição de contratar com prazo determinado",
         "24/10/2022",
         "24/10/2024",
         null,
         "Sem Informação",
         "INST.FED.DE EDUC.,CIENC.E TEC. DE SÃO PAULO",
         "SP",
         "FEDERAL",
         "LEI 10520 - ART. 7º - QUEM, CONVOCADO DENTRO DO PRAZO DE VALIDADE DA SUA PROPOSTA, NÃO CELEBRAR O CONTRATO, DEIXAR DE ENTREGAR OU APRESENTAR DOCUMENTAÇÃO FALSA EXIGIDA PARA O CERTAME, ENSEJAR O RETARDAMENTO DA EXECUÇÃO DE SEU OBJETO, NÃO MANTIVER A PROPOSTA, FALHAR OU FRAUDAR NA EXECUÇÃO DO CONTRATO, COMPORTAR-SE DE MODO INIDÔNEO OU COMETER FRAUDE FISCAL, FICARÁ IMPEDIDO DE LICITAR E CONTRATAR COM A UNIÃO, ESTADOS, DISTRITO FEDERAL OU MUNICÍPIOS E, SERÁ DESCREDENCIADO NO SICAF, OU NOS SISTEMAS DE CADASTRAMENTO DE FORNECEDORES A QUE SE REFERE O INCISO XIV DO ART. 4O DESTA LEI, PELO PRAZO DE ATÉ 5 (CINCO) ANOS, SEM PREJUÍZO DAS MULTAS PREVISTAS EM EDITAL E NO CONTRATO E DAS DEMAIS COMINAÇÕES LEGAIS."
        ],
        [
         "92682",
         "J",
         "04267536000129",
         null,
         null,
         "0200170175165",
         "Declaração de Inidoneidade com prazo determinado",
         "16/03/2018",
         null,
         "16/03/2018",
         "Diário Oficial do Estado Seção LICITACOES Pagina 11",
         "Governo do Estado da Bahia (BA)",
         "BA",
         "ESTADUAL",
         "LEI 9433 (BA) - ART. 186, III - AO CANDIDATO A CADASTRAMENTO, AO LICITANTE E AO CONTRATADO, QUE INCORRAM NAS FALTAS PREVISTAS NESTA LEI, APLICAM-SE, SEGUNDO A NATUREZA E A GRAVIDADE DA FALTA, ASSEGURADA A DEFESA PRÉVIA, AS SEGUINTES SANÇÕES: III- DECLARAÇÃO DE INIDONEIDADE PARA LICITAR OU CONTRATAR COM A ADMINISTRAÇÃO PÚBLICA, ENQUANTO PERDURAREM OS MOTIVOS DETERMINANTES DESTA PUNIÇÃO E ATÉ QUE SEJA PROMOVIDA SUA REABILITAÇÃO PERANTE A ADMINISTRAÇÃO PÚBLICA ESTADUAL"
        ],
        [
         "300398",
         "J",
         "27178359000100",
         null,
         null,
         "579/2022",
         "Suspensão",
         "18/11/2022",
         "17/11/2024",
         null,
         "Sem Informação",
         "ESTADO DO RIO DE JANEIRO",
         "RJ",
         "ESTADUAL",
         "LEI 8666 - ART. 87, III - PELA INEXECUÇÃO TOTAL OU PARCIAL DO CONTRATO A ADMINISTRAÇÃO PODERÁ, GARANTIDA A PRÉVIA DEFESA, APLICAR AO CONTRATADO AS SEGUINTES SANÇÕES: III - SUSPENSÃO TEMPORÁRIA DE PARTICIPAÇÃO EM LICITAÇÃO E IMPEDIMENTO DE CONTRATAR COM A ADMINISTRAÇÃO, POR PRAZO NÃO SUPERIOR A 2 (DOIS) ANOS"
        ],
        [
         "303502",
         "J",
         "33070387000101",
         null,
         null,
         "64482004985202354",
         "Impedimento/proibição de contratar com prazo determinado",
         "06/10/2023",
         "06/10/2024",
         null,
         "Sem Informação",
         "COMANDO DO EXERCITO",
         "DF",
         "FEDERAL",
         "LEI 14133 - ART. 156, III - IMPEDIMENTO DE LICITAR E CONTRATAR"
        ]
       ],
       "datasetInfos": [],
       "dbfsResultPath": null,
       "isJsonSchema": true,
       "metadata": {},
       "overflow": false,
       "plotOptions": {
        "customPlotOptions": {},
        "displayType": "table",
        "pivotAggregation": null,
        "pivotColumns": null,
        "xColumns": null,
        "yColumns": null
       },
       "removedWidgets": [],
       "schema": [
        {
         "metadata": "{}",
         "name": "cadastro",
         "type": "\"string\""
        },
        {
         "metadata": "{}",
         "name": "tipo_pessoa",
         "type": "\"string\""
        },
        {
         "metadata": "{\"comment\":\"Campo que associa os dados da tabela de pagamentos com cartão corporativo\"}",
         "name": "cnpj_sanc",
         "type": "\"string\""
        },
        {
         "metadata": "{}",
         "name": "nome_sanc",
         "type": "\"string\""
        },
        {
         "metadata": "{}",
         "name": "razao_social",
         "type": "\"string\""
        },
        {
         "metadata": "{}",
         "name": "n_processo",
         "type": "\"string\""
        },
        {
         "metadata": "{}",
         "name": "categ_sancao",
         "type": "\"string\""
        },
        {
         "metadata": "{}",
         "name": "dt_in_san",
         "type": "\"string\""
        },
        {
         "metadata": "{}",
         "name": "dt_fin_san",
         "type": "\"string\""
        },
        {
         "metadata": "{}",
         "name": "dt_pub",
         "type": "\"string\""
        },
        {
         "metadata": "{}",
         "name": "pub",
         "type": "\"string\""
        },
        {
         "metadata": "{}",
         "name": "org_sancionador",
         "type": "\"string\""
        },
        {
         "metadata": "{}",
         "name": "uf_orgao",
         "type": "\"string\""
        },
        {
         "metadata": "{}",
         "name": "esfera_org",
         "type": "\"string\""
        },
        {
         "metadata": "{}",
         "name": "fund_legal",
         "type": "\"string\""
        }
       ],
       "type": "table"
      }
     },
     "output_type": "display_data"
    }
   ],
   "source": [
    "%sql\n",
    "select * from ceis limit 5"
   ]
  },
  {
   "cell_type": "code",
   "execution_count": 0,
   "metadata": {
    "application/vnd.databricks.v1+cell": {
     "cellMetadata": {
      "byteLimit": 2048000,
      "implicitDf": true,
      "rowLimit": 10000
     },
     "inputWidgets": {},
     "nuid": "4be7353f-c761-4b5e-abbb-a4d9d5225896",
     "showTitle": false,
     "title": ""
    }
   },
   "outputs": [
    {
     "output_type": "display_data",
     "data": {
      "text/html": [
       "<style scoped>\n",
       "  .table-result-container {\n",
       "    max-height: 300px;\n",
       "    overflow: auto;\n",
       "  }\n",
       "  table, th, td {\n",
       "    border: 1px solid black;\n",
       "    border-collapse: collapse;\n",
       "  }\n",
       "  th, td {\n",
       "    padding: 5px;\n",
       "  }\n",
       "  th {\n",
       "    text-align: left;\n",
       "  }\n",
       "</style><div class='table-result-container'><table class='table-result'><thead style='background-color: white'><tr></tr></thead><tbody></tbody></table></div>"
      ]
     },
     "metadata": {
      "application/vnd.databricks.v1+output": {
       "addedWidgets": {},
       "aggData": [],
       "aggError": "",
       "aggOverflow": false,
       "aggSchema": [],
       "aggSeriesLimitReached": false,
       "aggType": "",
       "arguments": {},
       "columnCustomDisplayInfos": {},
       "data": [],
       "datasetInfos": [],
       "dbfsResultPath": null,
       "isJsonSchema": true,
       "metadata": {},
       "overflow": false,
       "plotOptions": {
        "customPlotOptions": {},
        "displayType": "table",
        "pivotAggregation": null,
        "pivotColumns": null,
        "xColumns": null,
        "yColumns": null
       },
       "removedWidgets": [],
       "schema": [],
       "type": "table"
      }
     },
     "output_type": "display_data"
    }
   ],
   "source": [
    "%sql\n",
    "DROP TABLE IF EXISTS cadastro_empresas"
   ]
  },
  {
   "cell_type": "code",
   "execution_count": 0,
   "metadata": {
    "application/vnd.databricks.v1+cell": {
     "cellMetadata": {
      "byteLimit": 2048000,
      "rowLimit": 10000
     },
     "inputWidgets": {},
     "nuid": "a711cb4b-8ea1-4d4a-b6a3-8264ec3b0b30",
     "showTitle": false,
     "title": ""
    }
   },
   "outputs": [],
   "source": [
    "permanent_table_name = \"cadastro_empresas\"\n",
    "# df_empresas.write.format(\"parquet\").saveAsTable(permanent_table_name)\n",
    "df_empresas.write.mode(\"overwrite\").saveAsTable(permanent_table_name)"
   ]
  },
  {
   "cell_type": "code",
   "execution_count": 0,
   "metadata": {
    "application/vnd.databricks.v1+cell": {
     "cellMetadata": {
      "byteLimit": 2048000,
      "implicitDf": true,
      "rowLimit": 10000
     },
     "inputWidgets": {},
     "nuid": "dd5946eb-7697-41aa-92be-3d1ae3a9af22",
     "showTitle": false,
     "title": ""
    }
   },
   "outputs": [
    {
     "output_type": "display_data",
     "data": {
      "text/html": [
       "<style scoped>\n",
       "  .table-result-container {\n",
       "    max-height: 300px;\n",
       "    overflow: auto;\n",
       "  }\n",
       "  table, th, td {\n",
       "    border: 1px solid black;\n",
       "    border-collapse: collapse;\n",
       "  }\n",
       "  th, td {\n",
       "    padding: 5px;\n",
       "  }\n",
       "  th {\n",
       "    text-align: left;\n",
       "  }\n",
       "</style><div class='table-result-container'><table class='table-result'><thead style='background-color: white'><tr><th>cnpj</th><th>nome</th><th>razao_social</th></tr></thead><tbody><tr><td>00000104000104</td><td>INSTITUTO GRANDE VITÓRIA</td><td>INSTITUTO GRANDE VITORIA</td></tr><tr><td>00000113000197</td><td>ASSOCIAÇÃO GRUPO DE MAES SOLIDARIAS BEM VIVER</td><td>ASSOCIACAO GRUPO DE MAES SOLIDARIAS BEM VIVER</td></tr><tr><td>00000145000192</td><td>ASSOCIAÇÃO CLUBE DE MÃES RITA DE CÁSSIA</td><td>ASSOCIACAO E CLUBE DE MAES 'RITA DE CASSIA'</td></tr><tr><td>00002776000140</td><td>DEUTSCHEBRAS COMERCIAL E ENGENHARIA LTDA</td><td>DEUTSCHEBRAS COMERCIAL E ENGENHARIA LTDA</td></tr><tr><td>00004564000100</td><td>IGREJA EVANGÉLICA ASSEMBLÉIA DE DEUS</td><td>IGREJA EVANGELICA ASSEMBLEIA DE DEUS</td></tr></tbody></table></div>"
      ]
     },
     "metadata": {
      "application/vnd.databricks.v1+output": {
       "addedWidgets": {},
       "aggData": [],
       "aggError": "",
       "aggOverflow": false,
       "aggSchema": [],
       "aggSeriesLimitReached": false,
       "aggType": "",
       "arguments": {},
       "columnCustomDisplayInfos": {},
       "data": [
        [
         "00000104000104",
         "INSTITUTO GRANDE VITÓRIA",
         "INSTITUTO GRANDE VITORIA"
        ],
        [
         "00000113000197",
         "ASSOCIAÇÃO GRUPO DE MAES SOLIDARIAS BEM VIVER",
         "ASSOCIACAO GRUPO DE MAES SOLIDARIAS BEM VIVER"
        ],
        [
         "00000145000192",
         "ASSOCIAÇÃO CLUBE DE MÃES RITA DE CÁSSIA",
         "ASSOCIACAO E CLUBE DE MAES 'RITA DE CASSIA'"
        ],
        [
         "00002776000140",
         "DEUTSCHEBRAS COMERCIAL E ENGENHARIA LTDA",
         "DEUTSCHEBRAS COMERCIAL E ENGENHARIA LTDA"
        ],
        [
         "00004564000100",
         "IGREJA EVANGÉLICA ASSEMBLÉIA DE DEUS",
         "IGREJA EVANGELICA ASSEMBLEIA DE DEUS"
        ]
       ],
       "datasetInfos": [],
       "dbfsResultPath": null,
       "isJsonSchema": true,
       "metadata": {},
       "overflow": false,
       "plotOptions": {
        "customPlotOptions": {},
        "displayType": "table",
        "pivotAggregation": null,
        "pivotColumns": null,
        "xColumns": null,
        "yColumns": null
       },
       "removedWidgets": [],
       "schema": [
        {
         "metadata": "{\"comment\":\"CNPJ completo da empresa, na RFB\"}",
         "name": "cnpj",
         "type": "\"string\""
        },
        {
         "metadata": "{\"comment\":\"Nome da empresa (geralmente nome fantasia da organização)\"}",
         "name": "nome",
         "type": "\"string\""
        },
        {
         "metadata": "{\"comment\":\"Nome cadastrado na RFB\"}",
         "name": "razao_social",
         "type": "\"string\""
        }
       ],
       "type": "table"
      }
     },
     "output_type": "display_data"
    }
   ],
   "source": [
    "%sql\n",
    "select * from cadastro_empresas limit 5"
   ]
  }
 ],
 "metadata": {
  "application/vnd.databricks.v1+notebook": {
   "dashboards": [],
   "environmentMetadata": null,
   "language": "python",
   "notebookMetadata": {
    "mostRecentlyExecutedCommandWithImplicitDF": {
     "commandId": 86573857376465,
     "dataframes": [
      "_sqldf"
     ]
    },
    "pythonIndentUnit": 4
   },
   "notebookName": "ETL CEIS",
   "widgets": {}
  }
 },
 "nbformat": 4,
 "nbformat_minor": 0
}
