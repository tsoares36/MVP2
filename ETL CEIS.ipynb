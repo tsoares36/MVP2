{
 "cells": [
  {
   "cell_type": "markdown",
   "metadata": {
    "application/vnd.databricks.v1+cell": {
     "cellMetadata": {
      "byteLimit": 2048000,
      "rowLimit": 10000
     },
     "inputWidgets": {},
     "nuid": "96816ed7-b08a-4ca3-abb9-f99880c3535d",
     "showTitle": false,
     "title": ""
    }
   },
   "source": [
    "\n",
    "## Overview\n",
    "\n",
    "Este notebook contém o tratamento da tabela de Empresas Inidôneas e Suspensas, mantida pela CGU. O objetivo é verificar se há gastos no cartão corporativo efetuado com alguma empresa sancionada. Para limitar o escopo, só serão mantidas as Pessoas Jurídicas."
   ]
  },
  {
   "cell_type": "code",
   "execution_count": 0,
   "metadata": {
    "application/vnd.databricks.v1+cell": {
     "cellMetadata": {
      "byteLimit": 2048000,
      "rowLimit": 10000
     },
     "inputWidgets": {},
     "nuid": "6482be4c-f067-47c9-b0ac-35c938b94601",
     "showTitle": false,
     "title": ""
    }
   },
   "outputs": [],
   "source": [
    "# File location and type\n",
    "file_location = \"/FileStore/tables/CEIS.csv\"\n",
    "file_type = \"csv\"\n",
    "\n",
    "# CSV options\n",
    "infer_schema = \"false\"\n",
    "first_row_is_header = \"true\"\n",
    "delimiter = \";\"\n",
    "encode = 'latin1'\n",
    "\n",
    "\n",
    "# The applied options are for CSV files. For other file types, these will be ignored.\n",
    "df = spark.read.format(file_type) \\\n",
    "  .option(\"inferSchema\", infer_schema) \\\n",
    "  .option(\"header\", first_row_is_header) \\\n",
    "  .option(\"sep\", delimiter) \\\n",
    "  .option(\"encoding\", encode) \\\n",
    "  .load(file_location)\n",
    "\n",
    "# display(df)"
   ]
  },
  {
   "cell_type": "code",
   "execution_count": 0,
   "metadata": {
    "application/vnd.databricks.v1+cell": {
     "cellMetadata": {
      "byteLimit": 2048000,
      "rowLimit": 10000
     },
     "inputWidgets": {},
     "nuid": "7d137b2e-bc44-4226-bf60-40895a5bfa0a",
     "showTitle": false,
     "title": ""
    }
   },
   "outputs": [],
   "source": [
    "df = df.filter(df[\"TIPO DE PESSOA\"] == \"J\")"
   ]
  },
  {
   "cell_type": "code",
   "execution_count": 0,
   "metadata": {
    "application/vnd.databricks.v1+cell": {
     "cellMetadata": {
      "byteLimit": 2048000,
      "rowLimit": 10000
     },
     "inputWidgets": {},
     "nuid": "355cb705-19e4-4311-bc3f-2e382007321f",
     "showTitle": false,
     "title": ""
    }
   },
   "outputs": [],
   "source": [
    "# retirar colunas desnecessárias\n",
    "cols_to_drop = [\"CADASTRO\", \"NOME INFORMADO PELO ÓRGÃO SANCIONADOR\", \n",
    "                \"NOME FANTASIA - CADASTRO RECEITA\", \"DETALHAMENTO\", \n",
    "                \"DATA DO TRÂNSITO EM JULGADO\", \"ABRAGÊNCIA DEFINIDA EM DECISÃO JUDICIAL\"]\n",
    "df = df.drop(*cols_to_drop)"
   ]
  },
  {
   "cell_type": "code",
   "execution_count": 0,
   "metadata": {
    "application/vnd.databricks.v1+cell": {
     "cellMetadata": {
      "byteLimit": 2048000,
      "rowLimit": 10000
     },
     "inputWidgets": {},
     "nuid": "dc9234a8-202c-41dc-b1c6-b3811ff1a0c9",
     "showTitle": false,
     "title": ""
    }
   },
   "outputs": [],
   "source": [
    "new_col_names = [\"cadastro\", \"tipo_pessoa\", \"cnpj_sanc\", \n",
    "                 \"nome_sanc\", \"razao_social\", \"n_processo\", \n",
    "                 \"categ_sancao\", \"dt_in_san\", \"dt_fin_san\", \n",
    "                 \"dt_pub\", \"pub\", \"org_sancionador\", \"uf_orgao\",\n",
    "                 \"esfera_org\", \"fund_legal\"]\n",
    "\n",
    "df = df.toDF(*new_col_names)"
   ]
  },
  {
   "cell_type": "code",
   "execution_count": 0,
   "metadata": {
    "application/vnd.databricks.v1+cell": {
     "cellMetadata": {
      "byteLimit": 2048000,
      "rowLimit": 10000
     },
     "inputWidgets": {},
     "nuid": "bd82bb99-1479-4d5c-be10-8c36df0f1d44",
     "showTitle": false,
     "title": ""
    }
   },
   "outputs": [],
   "source": [
    "# Create a view or table\n",
    "\n",
    "# temp_table_name = \"CEIS_csv\"\n",
    "\n",
    "# df.createOrReplaceTempView(temp_table_name)"
   ]
  },
  {
   "cell_type": "code",
   "execution_count": 0,
   "metadata": {
    "application/vnd.databricks.v1+cell": {
     "cellMetadata": {
      "byteLimit": 2048000,
      "rowLimit": 10000
     },
     "inputWidgets": {},
     "nuid": "db9631f6-bb4a-42ca-8a3c-0d48af932331",
     "showTitle": false,
     "title": ""
    }
   },
   "outputs": [],
   "source": [
    "# With this registered as a temp view, it will only be available to this particular notebook. If you'd like other users to be able to query this table, you can also create a table from the DataFrame.\n",
    "# Once saved, this table will persist across cluster restarts as well as allow various users across different notebooks to query this data.\n",
    "# To do so, choose your table name and uncomment the bottom line.\n",
    "\n",
    "permanent_table_name = \"CEIS\"\n",
    "# df.write.format(\"parquet\").saveAsTable(permanent_table_name)\n",
    "df.write.mode(\"overwrite\").saveAsTable(permanent_table_name)"
   ]
  },
  {
   "cell_type": "code",
   "execution_count": 0,
   "metadata": {
    "application/vnd.databricks.v1+cell": {
     "cellMetadata": {
      "byteLimit": 2048000,
      "implicitDf": true,
      "rowLimit": 10000
     },
     "inputWidgets": {},
     "nuid": "181e4845-603e-4efe-b5f2-e5df0ad14b4f",
     "showTitle": false,
     "title": ""
    }
   },
   "outputs": [
    {
     "output_type": "display_data",
     "data": {
      "text/html": [
       "<style scoped>\n",
       "  .table-result-container {\n",
       "    max-height: 300px;\n",
       "    overflow: auto;\n",
       "  }\n",
       "  table, th, td {\n",
       "    border: 1px solid black;\n",
       "    border-collapse: collapse;\n",
       "  }\n",
       "  th, td {\n",
       "    padding: 5px;\n",
       "  }\n",
       "  th {\n",
       "    text-align: left;\n",
       "  }\n",
       "</style><div class='table-result-container'><table class='table-result'><thead style='background-color: white'><tr><th>cadastro</th><th>tipo_pessoa</th><th>cnpj_sanc</th><th>nome_sanc</th><th>razao_social</th><th>n_processo</th><th>categ_sancao</th><th>dt_in_san</th><th>dt_fin_san</th><th>dt_pub</th><th>pub</th><th>org_sancionador</th><th>uf_orgao</th><th>esfera_org</th><th>fund_legal</th></tr></thead><tbody><tr><td>106167</td><td>J</td><td>00368364000129</td><td>ENGECIVIC CONSTRUçõES LTDA</td><td>ENGECIVIC CONSTRUCOES LTDA</td><td>00032225520098260197</td><td>Impedimento/proibição de contratar com prazo determinado</td><td>27/08/2019</td><td>27/08/2024</td><td>null</td><td>Sem Informação</td><td>Justiça Federal de Primeiro Grau em São Paulo</td><td>SP</td><td>FEDERAL</td><td>LEI 8429 - ART. 12 - INDEPENDENTEMENTE DAS SANÇÕES PENAIS, CIVIS E ADMINISTRATIVAS PREVISTAS NA LEGISLAÇÃO ESPECÍFICA, ESTÁ O RESPONSÁVEL PELO ATO DE IMPROBIDADE SUJEITO ÀS SEGUINTES COMINAÇÕES, QUE PODEM SER APLICADAS ISOLADA OU CUMULATIVAMENTE, DE ACORDO COM A GRAVIDADE DO FATO: I - NA HIPÓTESE DO ART. 9°, PERDA DOS BENS OU VALORES ACRESCIDOS ILICITAMENTE AO PATRIMÔNIO, RESSARCIMENTO INTEGRAL DO DANO, QUANDO HOUVER, PERDA DA FUNÇÃO PÚBLICA, SUSPENSÃO DOS DIREITOS POLÍTICOS DE OITO A DEZ ANOS, PAGAMENTO DE MULTA CIVIL DE ATÉ TRÊS VEZES O VALOR DO ACRÉSCIMO PATRIMONIAL E PROIBIÇÃO DE CONTRATAR COM O PODER PÚBLICO OU RECEBER BENEFÍCIOS OU INCENTIVOS FISCAIS OU CREDITÍCIOS, DIRETA OU INDIRETAMENTE, AINDA QUE POR INTERMÉDIO DE PESSOA JURÍDICA DA QUAL SEJA SÓCIO MAJORITÁRIO, PELO PRAZO DE DEZ ANOS; II - NA HIPÓTESE DO ART. 10, RESSARCIMENTO INTEGRAL DO DANO, PERDA DOS BENS OU VALORES ACRESCIDOS ILICITAMENTE AO PATRIMÔNIO, SE CONCORRER ESTA CIRCUNSTÂNCIA, PERDA DA FUNÇÃO PÚBLICA, SUSPENSÃO DOS DIREITOS POLÍTICOS DE CINCO A OITO ANOS, PAGAMENTO DE MULTA CIVIL DE ATÉ DUAS VEZES O VALOR DO DANO E PROIBIÇÃO DE CONTRATAR COM O PODER PÚBLICO OU RECEBER BENEFÍCIOS OU INCENTIVOS FISCAIS OU CREDITÍCIOS, DIRETA OU INDIRETAMENTE, AINDA QUE POR INTERMÉDIO DE PESSOA JURÍDICA DA QUAL SEJA SÓCIO MAJORITÁRIO, PELO PRAZO DE CINCO ANOS; III - NA HIPÓTESE DO ART. 11, RESSARCIMENTO INTEGRAL DO DANO, SE HOUVER, PERDA DA FUNÇÃO PÚBLICA, SUSPENSÃO DOS DIREITOS POLÍTICOS DE TRÊS A CINCO ANOS, PAGAMENTO DE MULTA CIVIL DE ATÉ CEM VEZES O VALOR DA REMUNERAÇÃO PERCEBIDA PELO AGENTE E PROIBIÇÃO DE CONTRATAR COM O PODER PÚBLICO OU RECEBER BENEFÍCIOS OU INCENTIVOS FISCAIS OU CREDITÍCIOS, DIRETA OU INDIRETAMENTE, AINDA QUE POR INTERMÉDIO DE PESSOA JURÍDICA DA QUAL SEJA SÓCIO MAJORITÁRIO, PELO PRAZO DE TRÊS ANOS.</td></tr><tr><td>303288</td><td>J</td><td>32769825000161</td><td>PERCIVAL JUNIO MIRANDA SILVA 01783239182</td><td>PERCIVAL JUNIO MIRANDA SILVA 01783239182</td><td>23314.000919.2022</td><td>Impedimento/proibição de contratar com prazo determinado</td><td>24/10/2022</td><td>24/10/2024</td><td>null</td><td>Sem Informação</td><td>INST.FED.DE EDUC.,CIENC.E TEC. DE SÃO PAULO</td><td>SP</td><td>FEDERAL</td><td>LEI 10520 - ART. 7º - QUEM, CONVOCADO DENTRO DO PRAZO DE VALIDADE DA SUA PROPOSTA, NÃO CELEBRAR O CONTRATO, DEIXAR DE ENTREGAR OU APRESENTAR DOCUMENTAÇÃO FALSA EXIGIDA PARA O CERTAME, ENSEJAR O RETARDAMENTO DA EXECUÇÃO DE SEU OBJETO, NÃO MANTIVER A PROPOSTA, FALHAR OU FRAUDAR NA EXECUÇÃO DO CONTRATO, COMPORTAR-SE DE MODO INIDÔNEO OU COMETER FRAUDE FISCAL, FICARÁ IMPEDIDO DE LICITAR E CONTRATAR COM A UNIÃO, ESTADOS, DISTRITO FEDERAL OU MUNICÍPIOS E, SERÁ DESCREDENCIADO NO SICAF, OU NOS SISTEMAS DE CADASTRAMENTO DE FORNECEDORES A QUE SE REFERE O INCISO XIV DO ART. 4O DESTA LEI, PELO PRAZO DE ATÉ 5 (CINCO) ANOS, SEM PREJUÍZO DAS MULTAS PREVISTAS EM EDITAL E NO CONTRATO E DAS DEMAIS COMINAÇÕES LEGAIS.</td></tr><tr><td>92682</td><td>J</td><td>04267536000129</td><td>CAD ENGENHARIA LTDA</td><td>CAD ENGENHARIA LTDA</td><td>0200170175165</td><td>Declaração de Inidoneidade com prazo determinado</td><td>16/03/2018</td><td>null</td><td>16/03/2018</td><td>Diário Oficial do Estado Seção LICITACOES Pagina 11</td><td>Governo do Estado da Bahia (BA)</td><td>BA</td><td>ESTADUAL</td><td>LEI 9433 (BA) - ART. 186, III - AO CANDIDATO A CADASTRAMENTO, AO LICITANTE E AO CONTRATADO, QUE INCORRAM NAS FALTAS PREVISTAS NESTA LEI, APLICAM-SE, SEGUNDO A NATUREZA E A GRAVIDADE DA FALTA, ASSEGURADA A DEFESA PRÉVIA, AS SEGUINTES SANÇÕES: III- DECLARAÇÃO DE INIDONEIDADE PARA LICITAR OU CONTRATAR COM A ADMINISTRAÇÃO PÚBLICA, ENQUANTO PERDURAREM OS MOTIVOS DETERMINANTES DESTA PUNIÇÃO E ATÉ QUE SEJA PROMOVIDA SUA REABILITAÇÃO PERANTE A ADMINISTRAÇÃO PÚBLICA ESTADUAL</td></tr><tr><td>300398</td><td>J</td><td>27178359000100</td><td>COOPERATIVA DE LATICINIOS SELITA</td><td>COOPERATIVA DE LATICINIOS SELITA</td><td>579/2022</td><td>Suspensão</td><td>18/11/2022</td><td>17/11/2024</td><td>null</td><td>Sem Informação</td><td>ESTADO DO RIO DE JANEIRO</td><td>RJ</td><td>ESTADUAL</td><td>LEI 8666 - ART. 87, III - PELA INEXECUÇÃO TOTAL OU PARCIAL DO CONTRATO A ADMINISTRAÇÃO PODERÁ, GARANTIDA A PRÉVIA DEFESA, APLICAR AO CONTRATADO AS SEGUINTES SANÇÕES: III - SUSPENSÃO TEMPORÁRIA DE PARTICIPAÇÃO EM LICITAÇÃO E IMPEDIMENTO DE CONTRATAR COM A ADMINISTRAÇÃO, POR PRAZO NÃO SUPERIOR A 2 (DOIS) ANOS</td></tr><tr><td>303502</td><td>J</td><td>33070387000101</td><td>LIFE COMERCIO E SERVICOS LTDA</td><td>LIFE COMERCIO E SERVICOS LTDA</td><td>64482004985202354</td><td>Impedimento/proibição de contratar com prazo determinado</td><td>06/10/2023</td><td>06/10/2024</td><td>null</td><td>Sem Informação</td><td>COMANDO DO EXERCITO</td><td>DF</td><td>FEDERAL</td><td>LEI 14133 - ART. 156, III - IMPEDIMENTO DE LICITAR E CONTRATAR</td></tr><tr><td>305500</td><td>J</td><td>21211964000159</td><td>W V SERVIÇOS TÉCNICOS LTDA</td><td>WV SERVICOS TECNICOS LTDA.</td><td>019.5162.2019.0071576-31</td><td>Impedimento/proibição de contratar com prazo determinado</td><td>01/05/2024</td><td>16/12/2024</td><td>01/05/2024</td><td>Diário Oficial do Estado Seção LICITAÇÕES Pagina 17</td><td>Governo do Estado da Bahia (BA)</td><td>BA</td><td>ESTADUAL</td><td>LEI 9433 (BA) - ART. 186, II - AO CANDIDATO A CADASTRAMENTO, AO LICITANTE E AO CONTRATADO, QUE INCORRAM NAS FALTAS PREVISTAS NESTA LEI, APLICAM-SE, SEGUNDO A NATUREZA E A GRAVIDADE DA FALTA, ASSEGURADA A DEFESA PRÉVIA, AS SEGUINTES SANÇÕES: II- SUSPENSÃO TEMPORÁRIA DE PARTICIPAÇÃO EM LICITAÇÃO E IMPEDIMENTO DE CONTRATAR COM A ADMINISTRAÇÃO, POR PRAZO NÃO EXCEDENTE A 05 (CINCO) ANOS</td></tr><tr><td>87402</td><td>J</td><td>11268845000189</td><td>ARROJO SERVICOS E CONSTRUCOES LTDA ME</td><td>ARROJO ENGENHARIA E CONSTRUCOES LTDA</td><td>0200120420622</td><td>Declaração de Inidoneidade com prazo determinado</td><td>27/07/2017</td><td>null</td><td>27/07/2017</td><td>Diário Oficial do Estado Seção LICITACOES Pagina 14</td><td>Governo do Estado da Bahia (BA)</td><td>BA</td><td>ESTADUAL</td><td>LEI 9433 (BA) - ART. 186, III - AO CANDIDATO A CADASTRAMENTO, AO LICITANTE E AO CONTRATADO, QUE INCORRAM NAS FALTAS PREVISTAS NESTA LEI, APLICAM-SE, SEGUNDO A NATUREZA E A GRAVIDADE DA FALTA, ASSEGURADA A DEFESA PRÉVIA, AS SEGUINTES SANÇÕES: III- DECLARAÇÃO DE INIDONEIDADE PARA LICITAR OU CONTRATAR COM A ADMINISTRAÇÃO PÚBLICA, ENQUANTO PERDURAREM OS MOTIVOS DETERMINANTES DESTA PUNIÇÃO E ATÉ QUE SEJA PROMOVIDA SUA REABILITAÇÃO PERANTE A ADMINISTRAÇÃO PÚBLICA ESTADUAL</td></tr><tr><td>138468</td><td>J</td><td>14674428000124</td><td>J S COMERCIO IMPORTACAO E DISTRIBUICAO DE PRODUTOS HOSPITALAR EIRELI</td><td>JS COMERCIO, IMPORTACAO E DISTRIBUICAO DE PRODUTOS HOSPITALAR LTDA</td><td>019.5175.2018.0012347-55</td><td>Declaração de Inidoneidade com prazo determinado</td><td>12/07/2022</td><td>null</td><td>12/07/2022</td><td>Diário Oficial do Estado Seção licitações Pagina 18</td><td>Governo do Estado da Bahia (BA)</td><td>BA</td><td>ESTADUAL</td><td>LEI 9433 (BA) - ART. 186, III - AO CANDIDATO A CADASTRAMENTO, AO LICITANTE E AO CONTRATADO, QUE INCORRAM NAS FALTAS PREVISTAS NESTA LEI, APLICAM-SE, SEGUNDO A NATUREZA E A GRAVIDADE DA FALTA, ASSEGURADA A DEFESA PRÉVIA, AS SEGUINTES SANÇÕES: III- DECLARAÇÃO DE INIDONEIDADE PARA LICITAR OU CONTRATAR COM A ADMINISTRAÇÃO PÚBLICA, ENQUANTO PERDURAREM OS MOTIVOS DETERMINANTES DESTA PUNIÇÃO E ATÉ QUE SEJA PROMOVIDA SUA REABILITAÇÃO PERANTE A ADMINISTRAÇÃO PÚBLICA ESTADUAL</td></tr><tr><td>70705</td><td>J</td><td>13058237000175</td><td>MIL E P I SINALIZAÇÃO E SOLDAS LTDA</td><td>MIL SOLUCOES PARA TRABALHO EM ALTURA E EPIS LTDA</td><td>0200120392130</td><td>Declaração de Inidoneidade com prazo determinado</td><td>03/04/2015</td><td>null</td><td>03/04/2015</td><td>Diário Oficial do Estado Seção 05 Pagina 11</td><td>Governo do Estado da Bahia (BA)</td><td>BA</td><td>ESTADUAL</td><td>LEI 9433 (BA) - ART. 186, III - AO CANDIDATO A CADASTRAMENTO, AO LICITANTE E AO CONTRATADO, QUE INCORRAM NAS FALTAS PREVISTAS NESTA LEI, APLICAM-SE, SEGUNDO A NATUREZA E A GRAVIDADE DA FALTA, ASSEGURADA A DEFESA PRÉVIA, AS SEGUINTES SANÇÕES: III- DECLARAÇÃO DE INIDONEIDADE PARA LICITAR OU CONTRATAR COM A ADMINISTRAÇÃO PÚBLICA, ENQUANTO PERDURAREM OS MOTIVOS DETERMINANTES DESTA PUNIÇÃO E ATÉ QUE SEJA PROMOVIDA SUA REABILITAÇÃO PERANTE A ADMINISTRAÇÃO PÚBLICA ESTADUAL</td></tr><tr><td>90871</td><td>J</td><td>32693996000154</td><td>RM SERVICOS TECNOLOGIA E RECURSOS HUMANOS LTDA</td><td>RRC SERVICO ADMINISTRATIVO LTDA</td><td>1111120006649</td><td>Declaração de Inidoneidade com prazo determinado</td><td>05/01/2018</td><td>null</td><td>05/01/2018</td><td>Diário Oficial do Estado Seção LICITACOES Pagina 13</td><td>Governo do Estado da Bahia (BA)</td><td>BA</td><td>ESTADUAL</td><td>LEI 9433 (BA) - ART. 186, III - AO CANDIDATO A CADASTRAMENTO, AO LICITANTE E AO CONTRATADO, QUE INCORRAM NAS FALTAS PREVISTAS NESTA LEI, APLICAM-SE, SEGUNDO A NATUREZA E A GRAVIDADE DA FALTA, ASSEGURADA A DEFESA PRÉVIA, AS SEGUINTES SANÇÕES: III- DECLARAÇÃO DE INIDONEIDADE PARA LICITAR OU CONTRATAR COM A ADMINISTRAÇÃO PÚBLICA, ENQUANTO PERDURAREM OS MOTIVOS DETERMINANTES DESTA PUNIÇÃO E ATÉ QUE SEJA PROMOVIDA SUA REABILITAÇÃO PERANTE A ADMINISTRAÇÃO PÚBLICA ESTADUAL</td></tr></tbody></table></div>"
      ]
     },
     "metadata": {
      "application/vnd.databricks.v1+output": {
       "addedWidgets": {},
       "aggData": [],
       "aggError": "",
       "aggOverflow": false,
       "aggSchema": [],
       "aggSeriesLimitReached": false,
       "aggType": "",
       "arguments": {},
       "columnCustomDisplayInfos": {},
       "data": [
        [
         "106167",
         "J",
         "00368364000129",
         "ENGECIVIC CONSTRUçõES LTDA",
         "ENGECIVIC CONSTRUCOES LTDA",
         "00032225520098260197",
         "Impedimento/proibição de contratar com prazo determinado",
         "27/08/2019",
         "27/08/2024",
         null,
         "Sem Informação",
         "Justiça Federal de Primeiro Grau em São Paulo",
         "SP",
         "FEDERAL",
         "LEI 8429 - ART. 12 - INDEPENDENTEMENTE DAS SANÇÕES PENAIS, CIVIS E ADMINISTRATIVAS PREVISTAS NA LEGISLAÇÃO ESPECÍFICA, ESTÁ O RESPONSÁVEL PELO ATO DE IMPROBIDADE SUJEITO ÀS SEGUINTES COMINAÇÕES, QUE PODEM SER APLICADAS ISOLADA OU CUMULATIVAMENTE, DE ACORDO COM A GRAVIDADE DO FATO: I - NA HIPÓTESE DO ART. 9°, PERDA DOS BENS OU VALORES ACRESCIDOS ILICITAMENTE AO PATRIMÔNIO, RESSARCIMENTO INTEGRAL DO DANO, QUANDO HOUVER, PERDA DA FUNÇÃO PÚBLICA, SUSPENSÃO DOS DIREITOS POLÍTICOS DE OITO A DEZ ANOS, PAGAMENTO DE MULTA CIVIL DE ATÉ TRÊS VEZES O VALOR DO ACRÉSCIMO PATRIMONIAL E PROIBIÇÃO DE CONTRATAR COM O PODER PÚBLICO OU RECEBER BENEFÍCIOS OU INCENTIVOS FISCAIS OU CREDITÍCIOS, DIRETA OU INDIRETAMENTE, AINDA QUE POR INTERMÉDIO DE PESSOA JURÍDICA DA QUAL SEJA SÓCIO MAJORITÁRIO, PELO PRAZO DE DEZ ANOS; II - NA HIPÓTESE DO ART. 10, RESSARCIMENTO INTEGRAL DO DANO, PERDA DOS BENS OU VALORES ACRESCIDOS ILICITAMENTE AO PATRIMÔNIO, SE CONCORRER ESTA CIRCUNSTÂNCIA, PERDA DA FUNÇÃO PÚBLICA, SUSPENSÃO DOS DIREITOS POLÍTICOS DE CINCO A OITO ANOS, PAGAMENTO DE MULTA CIVIL DE ATÉ DUAS VEZES O VALOR DO DANO E PROIBIÇÃO DE CONTRATAR COM O PODER PÚBLICO OU RECEBER BENEFÍCIOS OU INCENTIVOS FISCAIS OU CREDITÍCIOS, DIRETA OU INDIRETAMENTE, AINDA QUE POR INTERMÉDIO DE PESSOA JURÍDICA DA QUAL SEJA SÓCIO MAJORITÁRIO, PELO PRAZO DE CINCO ANOS; III - NA HIPÓTESE DO ART. 11, RESSARCIMENTO INTEGRAL DO DANO, SE HOUVER, PERDA DA FUNÇÃO PÚBLICA, SUSPENSÃO DOS DIREITOS POLÍTICOS DE TRÊS A CINCO ANOS, PAGAMENTO DE MULTA CIVIL DE ATÉ CEM VEZES O VALOR DA REMUNERAÇÃO PERCEBIDA PELO AGENTE E PROIBIÇÃO DE CONTRATAR COM O PODER PÚBLICO OU RECEBER BENEFÍCIOS OU INCENTIVOS FISCAIS OU CREDITÍCIOS, DIRETA OU INDIRETAMENTE, AINDA QUE POR INTERMÉDIO DE PESSOA JURÍDICA DA QUAL SEJA SÓCIO MAJORITÁRIO, PELO PRAZO DE TRÊS ANOS."
        ],
        [
         "303288",
         "J",
         "32769825000161",
         "PERCIVAL JUNIO MIRANDA SILVA 01783239182",
         "PERCIVAL JUNIO MIRANDA SILVA 01783239182",
         "23314.000919.2022",
         "Impedimento/proibição de contratar com prazo determinado",
         "24/10/2022",
         "24/10/2024",
         null,
         "Sem Informação",
         "INST.FED.DE EDUC.,CIENC.E TEC. DE SÃO PAULO",
         "SP",
         "FEDERAL",
         "LEI 10520 - ART. 7º - QUEM, CONVOCADO DENTRO DO PRAZO DE VALIDADE DA SUA PROPOSTA, NÃO CELEBRAR O CONTRATO, DEIXAR DE ENTREGAR OU APRESENTAR DOCUMENTAÇÃO FALSA EXIGIDA PARA O CERTAME, ENSEJAR O RETARDAMENTO DA EXECUÇÃO DE SEU OBJETO, NÃO MANTIVER A PROPOSTA, FALHAR OU FRAUDAR NA EXECUÇÃO DO CONTRATO, COMPORTAR-SE DE MODO INIDÔNEO OU COMETER FRAUDE FISCAL, FICARÁ IMPEDIDO DE LICITAR E CONTRATAR COM A UNIÃO, ESTADOS, DISTRITO FEDERAL OU MUNICÍPIOS E, SERÁ DESCREDENCIADO NO SICAF, OU NOS SISTEMAS DE CADASTRAMENTO DE FORNECEDORES A QUE SE REFERE O INCISO XIV DO ART. 4O DESTA LEI, PELO PRAZO DE ATÉ 5 (CINCO) ANOS, SEM PREJUÍZO DAS MULTAS PREVISTAS EM EDITAL E NO CONTRATO E DAS DEMAIS COMINAÇÕES LEGAIS."
        ],
        [
         "92682",
         "J",
         "04267536000129",
         "CAD ENGENHARIA LTDA",
         "CAD ENGENHARIA LTDA",
         "0200170175165",
         "Declaração de Inidoneidade com prazo determinado",
         "16/03/2018",
         null,
         "16/03/2018",
         "Diário Oficial do Estado Seção LICITACOES Pagina 11",
         "Governo do Estado da Bahia (BA)",
         "BA",
         "ESTADUAL",
         "LEI 9433 (BA) - ART. 186, III - AO CANDIDATO A CADASTRAMENTO, AO LICITANTE E AO CONTRATADO, QUE INCORRAM NAS FALTAS PREVISTAS NESTA LEI, APLICAM-SE, SEGUNDO A NATUREZA E A GRAVIDADE DA FALTA, ASSEGURADA A DEFESA PRÉVIA, AS SEGUINTES SANÇÕES: III- DECLARAÇÃO DE INIDONEIDADE PARA LICITAR OU CONTRATAR COM A ADMINISTRAÇÃO PÚBLICA, ENQUANTO PERDURAREM OS MOTIVOS DETERMINANTES DESTA PUNIÇÃO E ATÉ QUE SEJA PROMOVIDA SUA REABILITAÇÃO PERANTE A ADMINISTRAÇÃO PÚBLICA ESTADUAL"
        ],
        [
         "300398",
         "J",
         "27178359000100",
         "COOPERATIVA DE LATICINIOS SELITA",
         "COOPERATIVA DE LATICINIOS SELITA",
         "579/2022",
         "Suspensão",
         "18/11/2022",
         "17/11/2024",
         null,
         "Sem Informação",
         "ESTADO DO RIO DE JANEIRO",
         "RJ",
         "ESTADUAL",
         "LEI 8666 - ART. 87, III - PELA INEXECUÇÃO TOTAL OU PARCIAL DO CONTRATO A ADMINISTRAÇÃO PODERÁ, GARANTIDA A PRÉVIA DEFESA, APLICAR AO CONTRATADO AS SEGUINTES SANÇÕES: III - SUSPENSÃO TEMPORÁRIA DE PARTICIPAÇÃO EM LICITAÇÃO E IMPEDIMENTO DE CONTRATAR COM A ADMINISTRAÇÃO, POR PRAZO NÃO SUPERIOR A 2 (DOIS) ANOS"
        ],
        [
         "303502",
         "J",
         "33070387000101",
         "LIFE COMERCIO E SERVICOS LTDA",
         "LIFE COMERCIO E SERVICOS LTDA",
         "64482004985202354",
         "Impedimento/proibição de contratar com prazo determinado",
         "06/10/2023",
         "06/10/2024",
         null,
         "Sem Informação",
         "COMANDO DO EXERCITO",
         "DF",
         "FEDERAL",
         "LEI 14133 - ART. 156, III - IMPEDIMENTO DE LICITAR E CONTRATAR"
        ],
        [
         "305500",
         "J",
         "21211964000159",
         "W V SERVIÇOS TÉCNICOS LTDA",
         "WV SERVICOS TECNICOS LTDA.",
         "019.5162.2019.0071576-31",
         "Impedimento/proibição de contratar com prazo determinado",
         "01/05/2024",
         "16/12/2024",
         "01/05/2024",
         "Diário Oficial do Estado Seção LICITAÇÕES Pagina 17",
         "Governo do Estado da Bahia (BA)",
         "BA",
         "ESTADUAL",
         "LEI 9433 (BA) - ART. 186, II - AO CANDIDATO A CADASTRAMENTO, AO LICITANTE E AO CONTRATADO, QUE INCORRAM NAS FALTAS PREVISTAS NESTA LEI, APLICAM-SE, SEGUNDO A NATUREZA E A GRAVIDADE DA FALTA, ASSEGURADA A DEFESA PRÉVIA, AS SEGUINTES SANÇÕES: II- SUSPENSÃO TEMPORÁRIA DE PARTICIPAÇÃO EM LICITAÇÃO E IMPEDIMENTO DE CONTRATAR COM A ADMINISTRAÇÃO, POR PRAZO NÃO EXCEDENTE A 05 (CINCO) ANOS"
        ],
        [
         "87402",
         "J",
         "11268845000189",
         "ARROJO SERVICOS E CONSTRUCOES LTDA ME",
         "ARROJO ENGENHARIA E CONSTRUCOES LTDA",
         "0200120420622",
         "Declaração de Inidoneidade com prazo determinado",
         "27/07/2017",
         null,
         "27/07/2017",
         "Diário Oficial do Estado Seção LICITACOES Pagina 14",
         "Governo do Estado da Bahia (BA)",
         "BA",
         "ESTADUAL",
         "LEI 9433 (BA) - ART. 186, III - AO CANDIDATO A CADASTRAMENTO, AO LICITANTE E AO CONTRATADO, QUE INCORRAM NAS FALTAS PREVISTAS NESTA LEI, APLICAM-SE, SEGUNDO A NATUREZA E A GRAVIDADE DA FALTA, ASSEGURADA A DEFESA PRÉVIA, AS SEGUINTES SANÇÕES: III- DECLARAÇÃO DE INIDONEIDADE PARA LICITAR OU CONTRATAR COM A ADMINISTRAÇÃO PÚBLICA, ENQUANTO PERDURAREM OS MOTIVOS DETERMINANTES DESTA PUNIÇÃO E ATÉ QUE SEJA PROMOVIDA SUA REABILITAÇÃO PERANTE A ADMINISTRAÇÃO PÚBLICA ESTADUAL"
        ],
        [
         "138468",
         "J",
         "14674428000124",
         "J S COMERCIO IMPORTACAO E DISTRIBUICAO DE PRODUTOS HOSPITALAR EIRELI",
         "JS COMERCIO, IMPORTACAO E DISTRIBUICAO DE PRODUTOS HOSPITALAR LTDA",
         "019.5175.2018.0012347-55",
         "Declaração de Inidoneidade com prazo determinado",
         "12/07/2022",
         null,
         "12/07/2022",
         "Diário Oficial do Estado Seção licitações Pagina 18",
         "Governo do Estado da Bahia (BA)",
         "BA",
         "ESTADUAL",
         "LEI 9433 (BA) - ART. 186, III - AO CANDIDATO A CADASTRAMENTO, AO LICITANTE E AO CONTRATADO, QUE INCORRAM NAS FALTAS PREVISTAS NESTA LEI, APLICAM-SE, SEGUNDO A NATUREZA E A GRAVIDADE DA FALTA, ASSEGURADA A DEFESA PRÉVIA, AS SEGUINTES SANÇÕES: III- DECLARAÇÃO DE INIDONEIDADE PARA LICITAR OU CONTRATAR COM A ADMINISTRAÇÃO PÚBLICA, ENQUANTO PERDURAREM OS MOTIVOS DETERMINANTES DESTA PUNIÇÃO E ATÉ QUE SEJA PROMOVIDA SUA REABILITAÇÃO PERANTE A ADMINISTRAÇÃO PÚBLICA ESTADUAL"
        ],
        [
         "70705",
         "J",
         "13058237000175",
         "MIL E P I SINALIZAÇÃO E SOLDAS LTDA",
         "MIL SOLUCOES PARA TRABALHO EM ALTURA E EPIS LTDA",
         "0200120392130",
         "Declaração de Inidoneidade com prazo determinado",
         "03/04/2015",
         null,
         "03/04/2015",
         "Diário Oficial do Estado Seção 05 Pagina 11",
         "Governo do Estado da Bahia (BA)",
         "BA",
         "ESTADUAL",
         "LEI 9433 (BA) - ART. 186, III - AO CANDIDATO A CADASTRAMENTO, AO LICITANTE E AO CONTRATADO, QUE INCORRAM NAS FALTAS PREVISTAS NESTA LEI, APLICAM-SE, SEGUNDO A NATUREZA E A GRAVIDADE DA FALTA, ASSEGURADA A DEFESA PRÉVIA, AS SEGUINTES SANÇÕES: III- DECLARAÇÃO DE INIDONEIDADE PARA LICITAR OU CONTRATAR COM A ADMINISTRAÇÃO PÚBLICA, ENQUANTO PERDURAREM OS MOTIVOS DETERMINANTES DESTA PUNIÇÃO E ATÉ QUE SEJA PROMOVIDA SUA REABILITAÇÃO PERANTE A ADMINISTRAÇÃO PÚBLICA ESTADUAL"
        ],
        [
         "90871",
         "J",
         "32693996000154",
         "RM SERVICOS TECNOLOGIA E RECURSOS HUMANOS LTDA",
         "RRC SERVICO ADMINISTRATIVO LTDA",
         "1111120006649",
         "Declaração de Inidoneidade com prazo determinado",
         "05/01/2018",
         null,
         "05/01/2018",
         "Diário Oficial do Estado Seção LICITACOES Pagina 13",
         "Governo do Estado da Bahia (BA)",
         "BA",
         "ESTADUAL",
         "LEI 9433 (BA) - ART. 186, III - AO CANDIDATO A CADASTRAMENTO, AO LICITANTE E AO CONTRATADO, QUE INCORRAM NAS FALTAS PREVISTAS NESTA LEI, APLICAM-SE, SEGUNDO A NATUREZA E A GRAVIDADE DA FALTA, ASSEGURADA A DEFESA PRÉVIA, AS SEGUINTES SANÇÕES: III- DECLARAÇÃO DE INIDONEIDADE PARA LICITAR OU CONTRATAR COM A ADMINISTRAÇÃO PÚBLICA, ENQUANTO PERDURAREM OS MOTIVOS DETERMINANTES DESTA PUNIÇÃO E ATÉ QUE SEJA PROMOVIDA SUA REABILITAÇÃO PERANTE A ADMINISTRAÇÃO PÚBLICA ESTADUAL"
        ]
       ],
       "datasetInfos": [],
       "dbfsResultPath": null,
       "isJsonSchema": true,
       "metadata": {},
       "overflow": false,
       "plotOptions": {
        "customPlotOptions": {},
        "displayType": "table",
        "pivotAggregation": null,
        "pivotColumns": null,
        "xColumns": null,
        "yColumns": null
       },
       "removedWidgets": [],
       "schema": [
        {
         "metadata": "{}",
         "name": "cadastro",
         "type": "\"string\""
        },
        {
         "metadata": "{}",
         "name": "tipo_pessoa",
         "type": "\"string\""
        },
        {
         "metadata": "{\"comment\":\"Campo que associa os dados da tabela de pagamentos com cartão corporativo\"}",
         "name": "cnpj_sanc",
         "type": "\"string\""
        },
        {
         "metadata": "{}",
         "name": "nome_sanc",
         "type": "\"string\""
        },
        {
         "metadata": "{}",
         "name": "razao_social",
         "type": "\"string\""
        },
        {
         "metadata": "{}",
         "name": "n_processo",
         "type": "\"string\""
        },
        {
         "metadata": "{}",
         "name": "categ_sancao",
         "type": "\"string\""
        },
        {
         "metadata": "{}",
         "name": "dt_in_san",
         "type": "\"string\""
        },
        {
         "metadata": "{}",
         "name": "dt_fin_san",
         "type": "\"string\""
        },
        {
         "metadata": "{}",
         "name": "dt_pub",
         "type": "\"string\""
        },
        {
         "metadata": "{}",
         "name": "pub",
         "type": "\"string\""
        },
        {
         "metadata": "{}",
         "name": "org_sancionador",
         "type": "\"string\""
        },
        {
         "metadata": "{}",
         "name": "uf_orgao",
         "type": "\"string\""
        },
        {
         "metadata": "{}",
         "name": "esfera_org",
         "type": "\"string\""
        },
        {
         "metadata": "{}",
         "name": "fund_legal",
         "type": "\"string\""
        }
       ],
       "type": "table"
      }
     },
     "output_type": "display_data"
    }
   ],
   "source": [
    "%sql\n",
    "select * from ceis limit 10"
   ]
  },
  {
   "cell_type": "code",
   "execution_count": 0,
   "metadata": {
    "application/vnd.databricks.v1+cell": {
     "cellMetadata": {
      "byteLimit": 2048000,
      "implicitDf": true,
      "rowLimit": 10000
     },
     "inputWidgets": {},
     "nuid": "7d3b2f23-83cd-4d8e-9dc7-9e28b457661a",
     "showTitle": false,
     "title": ""
    }
   },
   "outputs": [
    {
     "output_type": "display_data",
     "data": {
      "text/html": [
       "<style scoped>\n",
       "  .table-result-container {\n",
       "    max-height: 300px;\n",
       "    overflow: auto;\n",
       "  }\n",
       "  table, th, td {\n",
       "    border: 1px solid black;\n",
       "    border-collapse: collapse;\n",
       "  }\n",
       "  th, td {\n",
       "    padding: 5px;\n",
       "  }\n",
       "  th {\n",
       "    text-align: left;\n",
       "  }\n",
       "</style><div class='table-result-container'><table class='table-result'><thead style='background-color: white'><tr><th>razao_social</th><th>n_processo</th><th>dt_in_san</th><th>dt_fin_san</th><th>categ_sancao</th><th>dt_trans</th><th>vlr_trans</th></tr></thead><tbody><tr><td>MULTISERV - COMERCIO E SERVICOS LTDA</td><td>0200160588615</td><td>14/02/2020</td><td>null</td><td>Declaração de Inidoneidade com prazo determinado</td><td>null</td><td>930.0</td></tr><tr><td>CEQUIMICA LTDA</td><td>019.5050.2019.0020074-73</td><td>23/04/2024</td><td>04/08/2024</td><td>Suspensão</td><td>null</td><td>2315.9</td></tr><tr><td>LUKATONER SUPPLIES LTDA</td><td>303/23</td><td>09/02/2024</td><td>09/02/2025</td><td>Impedimento/proibição de contratar com prazo determinado</td><td>null</td><td>218.0</td></tr></tbody></table></div>"
      ]
     },
     "metadata": {
      "application/vnd.databricks.v1+output": {
       "addedWidgets": {},
       "aggData": [],
       "aggError": "",
       "aggOverflow": false,
       "aggSchema": [],
       "aggSeriesLimitReached": false,
       "aggType": "",
       "arguments": {},
       "columnCustomDisplayInfos": {},
       "data": [
        [
         "MULTISERV - COMERCIO E SERVICOS LTDA",
         "0200160588615",
         "14/02/2020",
         null,
         "Declaração de Inidoneidade com prazo determinado",
         null,
         930.0
        ],
        [
         "CEQUIMICA LTDA",
         "019.5050.2019.0020074-73",
         "23/04/2024",
         "04/08/2024",
         "Suspensão",
         null,
         2315.9
        ],
        [
         "LUKATONER SUPPLIES LTDA",
         "303/23",
         "09/02/2024",
         "09/02/2025",
         "Impedimento/proibição de contratar com prazo determinado",
         null,
         218.0
        ]
       ],
       "datasetInfos": [],
       "dbfsResultPath": null,
       "isJsonSchema": true,
       "metadata": {},
       "overflow": false,
       "plotOptions": {
        "customPlotOptions": {},
        "displayType": "table",
        "pivotAggregation": null,
        "pivotColumns": null,
        "xColumns": null,
        "yColumns": null
       },
       "removedWidgets": [],
       "schema": [
        {
         "metadata": "{}",
         "name": "razao_social",
         "type": "\"string\""
        },
        {
         "metadata": "{}",
         "name": "n_processo",
         "type": "\"string\""
        },
        {
         "metadata": "{}",
         "name": "dt_in_san",
         "type": "\"string\""
        },
        {
         "metadata": "{}",
         "name": "dt_fin_san",
         "type": "\"string\""
        },
        {
         "metadata": "{}",
         "name": "categ_sancao",
         "type": "\"string\""
        },
        {
         "metadata": "{}",
         "name": "dt_trans",
         "type": "\"string\""
        },
        {
         "metadata": "{}",
         "name": "vlr_trans",
         "type": "\"double\""
        }
       ],
       "type": "table"
      }
     },
     "output_type": "display_data"
    }
   ],
   "source": [
    "%sql\n",
    "select\n",
    "  a.razao_social, a.n_processo, a.dt_in_san, a.dt_fin_san, a.categ_sancao, b.dt_trans, b.vlr_trans\n",
    "from\n",
    "  ceis a\n",
    "inner join\n",
    "  fato_cpgf b\n",
    "on\n",
    "  a.cnpj_sanc = b.cnpj_cpf_fav"
   ]
  },
  {
   "cell_type": "code",
   "execution_count": 0,
   "metadata": {
    "application/vnd.databricks.v1+cell": {
     "cellMetadata": {
      "byteLimit": 2048000,
      "implicitDf": true,
      "rowLimit": 10000
     },
     "inputWidgets": {},
     "nuid": "d8acbb82-32a0-48d0-ba67-96af8a0febb9",
     "showTitle": false,
     "title": ""
    }
   },
   "outputs": [
    {
     "output_type": "display_data",
     "data": {
      "text/html": [
       "<style scoped>\n",
       "  .table-result-container {\n",
       "    max-height: 300px;\n",
       "    overflow: auto;\n",
       "  }\n",
       "  table, th, td {\n",
       "    border: 1px solid black;\n",
       "    border-collapse: collapse;\n",
       "  }\n",
       "  th, td {\n",
       "    padding: 5px;\n",
       "  }\n",
       "  th {\n",
       "    text-align: left;\n",
       "  }\n",
       "</style><div class='table-result-container'><table class='table-result'><thead style='background-color: white'><tr><th>razao_social</th><th>n_processo</th><th>dt_in_san</th><th>dt_fin_san</th><th>categ_sancao</th><th>dt_trans</th><th>vlr_trans</th></tr></thead><tbody></tbody></table></div>"
      ]
     },
     "metadata": {
      "application/vnd.databricks.v1+output": {
       "addedWidgets": {},
       "aggData": [],
       "aggError": "",
       "aggOverflow": false,
       "aggSchema": [],
       "aggSeriesLimitReached": false,
       "aggType": "",
       "arguments": {},
       "columnCustomDisplayInfos": {},
       "data": [],
       "datasetInfos": [],
       "dbfsResultPath": null,
       "isJsonSchema": true,
       "metadata": {},
       "overflow": false,
       "plotOptions": {
        "customPlotOptions": {},
        "displayType": "table",
        "pivotAggregation": null,
        "pivotColumns": null,
        "xColumns": null,
        "yColumns": null
       },
       "removedWidgets": [],
       "schema": [
        {
         "metadata": "{}",
         "name": "razao_social",
         "type": "\"string\""
        },
        {
         "metadata": "{}",
         "name": "n_processo",
         "type": "\"string\""
        },
        {
         "metadata": "{}",
         "name": "dt_in_san",
         "type": "\"string\""
        },
        {
         "metadata": "{}",
         "name": "dt_fin_san",
         "type": "\"string\""
        },
        {
         "metadata": "{}",
         "name": "categ_sancao",
         "type": "\"string\""
        },
        {
         "metadata": "{}",
         "name": "dt_trans",
         "type": "\"string\""
        },
        {
         "metadata": "{}",
         "name": "vlr_trans",
         "type": "\"double\""
        }
       ],
       "type": "table"
      }
     },
     "output_type": "display_data"
    }
   ],
   "source": [
    "%sql\n",
    "select\n",
    "  a.razao_social, a.n_processo, a.dt_in_san, a.dt_fin_san, a.categ_sancao, b.dt_trans, b.vlr_trans\n",
    "from\n",
    "  ceis a\n",
    "inner join\n",
    "  fato_cpgf b\n",
    "on\n",
    "  a.cnpj_sanc = b.cnpj_cpf_fav\n",
    "where\n",
    "  date(b.dt_trans) between date(a.dt_in_san) and date(a.dt_fin_san)"
   ]
  },
  {
   "cell_type": "code",
   "execution_count": 0,
   "metadata": {
    "application/vnd.databricks.v1+cell": {
     "cellMetadata": {
      "byteLimit": 2048000,
      "rowLimit": 10000
     },
     "inputWidgets": {},
     "nuid": "aea8cb22-a66e-4f40-bf49-f26b15a79555",
     "showTitle": false,
     "title": ""
    }
   },
   "outputs": [],
   "source": []
  }
 ],
 "metadata": {
  "application/vnd.databricks.v1+notebook": {
   "dashboards": [],
   "environmentMetadata": null,
   "language": "python",
   "notebookMetadata": {
    "mostRecentlyExecutedCommandWithImplicitDF": {
     "commandId": 865189233637494,
     "dataframes": [
      "_sqldf"
     ]
    },
    "pythonIndentUnit": 4
   },
   "notebookName": "ETL CEIS",
   "widgets": {}
  }
 },
 "nbformat": 4,
 "nbformat_minor": 0
}
